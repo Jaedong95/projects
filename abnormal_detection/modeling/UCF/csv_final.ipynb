{
 "cells": [
  {
   "cell_type": "code",
   "execution_count": 71,
   "id": "f5d9a65c",
   "metadata": {},
   "outputs": [],
   "source": [
    "import numpy as np\n",
    "import pandas as pd \n",
    "import os\n",
    "import sys\n",
    "import cv2 \n",
    "\n",
    "import os\n",
    "import datetime\n",
    "import copy\n",
    "import re\n",
    "import yaml\n",
    "import uuid\n",
    "import warnings\n",
    "import time\n",
    "import inspect\n",
    "import random"
   ]
  },
  {
   "cell_type": "code",
   "execution_count": 72,
   "id": "33ec1009",
   "metadata": {},
   "outputs": [
    {
     "name": "stdout",
     "output_type": "stream",
     "text": [
      "/home/modeling/UCF_CRIME/script\r\n"
     ]
    }
   ],
   "source": [
    "!pwd"
   ]
  },
  {
   "cell_type": "code",
   "execution_count": 73,
   "id": "55f0e120",
   "metadata": {},
   "outputs": [],
   "source": [
    "DATA_PATH = '/home/ubuntu/modeling/UCF_CRIME/data'\n",
    "VIDEO_PATH = os.path.join(DATA_PATH, 'video')\n",
    "ANNOTATION_PATH = os.path.join(DATA_PATH, 'annotation')"
   ]
  },
  {
   "cell_type": "code",
   "execution_count": 74,
   "id": "6d57ca73",
   "metadata": {},
   "outputs": [],
   "source": [
    "columns = ['video_name']"
   ]
  },
  {
   "cell_type": "code",
   "execution_count": 7,
   "id": "8a7f7450",
   "metadata": {},
   "outputs": [
    {
     "data": {
      "text/html": [
       "<div>\n",
       "<style scoped>\n",
       "    .dataframe tbody tr th:only-of-type {\n",
       "        vertical-align: middle;\n",
       "    }\n",
       "\n",
       "    .dataframe tbody tr th {\n",
       "        vertical-align: top;\n",
       "    }\n",
       "\n",
       "    .dataframe thead th {\n",
       "        text-align: right;\n",
       "    }\n",
       "</style>\n",
       "<table border=\"1\" class=\"dataframe\">\n",
       "  <thead>\n",
       "    <tr style=\"text-align: right;\">\n",
       "      <th></th>\n",
       "      <th>video_name</th>\n",
       "    </tr>\n",
       "  </thead>\n",
       "  <tbody>\n",
       "    <tr>\n",
       "      <th>0</th>\n",
       "      <td>Vandalism/Vandalism048_x264.mp4 7183</td>\n",
       "    </tr>\n",
       "    <tr>\n",
       "      <th>1</th>\n",
       "      <td>Training_Normal_Videos_Anomaly/Normal_Videos82...</td>\n",
       "    </tr>\n",
       "    <tr>\n",
       "      <th>2</th>\n",
       "      <td>Robbery/Robbery003_x264.mp4 984</td>\n",
       "    </tr>\n",
       "    <tr>\n",
       "      <th>3</th>\n",
       "      <td>Assault/Assault046_x264.mp4 952</td>\n",
       "    </tr>\n",
       "    <tr>\n",
       "      <th>4</th>\n",
       "      <td>Training_Normal_Videos_Anomaly/Normal_Videos57...</td>\n",
       "    </tr>\n",
       "    <tr>\n",
       "      <th>...</th>\n",
       "      <td>...</td>\n",
       "    </tr>\n",
       "    <tr>\n",
       "      <th>1605</th>\n",
       "      <td>Burglary/Burglary073_x264.mp4 2769</td>\n",
       "    </tr>\n",
       "    <tr>\n",
       "      <th>1606</th>\n",
       "      <td>Training_Normal_Videos_Anomaly/Normal_Videos05...</td>\n",
       "    </tr>\n",
       "    <tr>\n",
       "      <th>1607</th>\n",
       "      <td>Training_Normal_Videos_Anomaly/Normal_Videos24...</td>\n",
       "    </tr>\n",
       "    <tr>\n",
       "      <th>1608</th>\n",
       "      <td>Burglary/Burglary022_x264.mp4 2838</td>\n",
       "    </tr>\n",
       "    <tr>\n",
       "      <th>1609</th>\n",
       "      <td>Training_Normal_Videos_Anomaly/Normal_Videos75...</td>\n",
       "    </tr>\n",
       "  </tbody>\n",
       "</table>\n",
       "<p>1610 rows × 1 columns</p>\n",
       "</div>"
      ],
      "text/plain": [
       "                                             video_name\n",
       "0                 Vandalism/Vandalism048_x264.mp4 7183 \n",
       "1     Training_Normal_Videos_Anomaly/Normal_Videos82...\n",
       "2                      Robbery/Robbery003_x264.mp4 984 \n",
       "3                      Assault/Assault046_x264.mp4 952 \n",
       "4     Training_Normal_Videos_Anomaly/Normal_Videos57...\n",
       "...                                                 ...\n",
       "1605                Burglary/Burglary073_x264.mp4 2769 \n",
       "1606  Training_Normal_Videos_Anomaly/Normal_Videos05...\n",
       "1607  Training_Normal_Videos_Anomaly/Normal_Videos24...\n",
       "1608                Burglary/Burglary022_x264.mp4 2838 \n",
       "1609  Training_Normal_Videos_Anomaly/Normal_Videos75...\n",
       "\n",
       "[1610 rows x 1 columns]"
      ]
     },
     "execution_count": 7,
     "metadata": {},
     "output_type": "execute_result"
    }
   ],
   "source": [
    "train_df = pd.read_csv(os.path.join(ANNOTATION_PATH, 'Train_Annotation.txt'), header=None, names=columns)\n",
    "test_df = pd.read_csv(os.path.join(ANNOTATION_PATH, 'Test_Annotation.txt'), header=None, names=columns)\n",
    "\n",
    "train_df"
   ]
  },
  {
   "cell_type": "code",
   "execution_count": 8,
   "id": "4025a851",
   "metadata": {},
   "outputs": [
    {
     "data": {
      "text/plain": [
       "(1610, 290)"
      ]
     },
     "execution_count": 8,
     "metadata": {},
     "output_type": "execute_result"
    }
   ],
   "source": [
    "len(train_df), len(test_df)"
   ]
  },
  {
   "cell_type": "code",
   "execution_count": 9,
   "id": "b75c773f",
   "metadata": {},
   "outputs": [],
   "source": [
    "anomal_list = ['Arson', 'Assault', 'Stealing', 'Training_Normal_Videos_Anomaly', 'Testing_Normal_Videos_Anomaly']\n",
    "\n",
    "new_tr_video = []\n",
    "new_te_video = []\n",
    "\n",
    "for data in train_df['video_name']:\n",
    "    ab_type, video_name = data.split('/')\n",
    "    new_video_name, new_video_frame = video_name.split()[0], video_name.split()[1]\n",
    "#     print(new_video_frame)\n",
    "    if ab_type in anomal_list: \n",
    "        new_tr_video.append(ab_type + '/' + new_video_name + ' ' + new_video_frame)"
   ]
  },
  {
   "cell_type": "code",
   "execution_count": 10,
   "id": "294d8d79",
   "metadata": {},
   "outputs": [
    {
     "data": {
      "text/plain": [
       "(983, 167)"
      ]
     },
     "execution_count": 10,
     "metadata": {},
     "output_type": "execute_result"
    }
   ],
   "source": [
    "for data in test_df['video_name']:\n",
    "    ab_type, video_name = data.split('/')\n",
    "    new_video_name, new_video_frame = video_name.split()[0], video_name.split()[1]\n",
    "#     print(new_video_frame)\n",
    "    if ab_type in anomal_list: \n",
    "        new_te_video.append(ab_type + '/' + new_video_name + ' ' + new_video_frame)\n",
    "\n",
    "len(new_tr_video), len(new_te_video)"
   ]
  },
  {
   "cell_type": "code",
   "execution_count": 11,
   "id": "b70d939b",
   "metadata": {},
   "outputs": [],
   "source": [
    "new_train_df = pd.DataFrame(new_tr_video, columns=['video_name'])\n",
    "new_test_df = pd.DataFrame(new_te_video, columns=['video_name'])"
   ]
  },
  {
   "cell_type": "code",
   "execution_count": 12,
   "id": "5612410f",
   "metadata": {},
   "outputs": [
    {
     "data": {
      "text/html": [
       "<div>\n",
       "<style scoped>\n",
       "    .dataframe tbody tr th:only-of-type {\n",
       "        vertical-align: middle;\n",
       "    }\n",
       "\n",
       "    .dataframe tbody tr th {\n",
       "        vertical-align: top;\n",
       "    }\n",
       "\n",
       "    .dataframe thead th {\n",
       "        text-align: right;\n",
       "    }\n",
       "</style>\n",
       "<table border=\"1\" class=\"dataframe\">\n",
       "  <thead>\n",
       "    <tr style=\"text-align: right;\">\n",
       "      <th></th>\n",
       "      <th>video_name</th>\n",
       "    </tr>\n",
       "  </thead>\n",
       "  <tbody>\n",
       "    <tr>\n",
       "      <th>0</th>\n",
       "      <td>Training_Normal_Videos_Anomaly/Normal_Videos82...</td>\n",
       "    </tr>\n",
       "    <tr>\n",
       "      <th>1</th>\n",
       "      <td>Assault/Assault046_x264.mp4 952</td>\n",
       "    </tr>\n",
       "    <tr>\n",
       "      <th>2</th>\n",
       "      <td>Training_Normal_Videos_Anomaly/Normal_Videos57...</td>\n",
       "    </tr>\n",
       "    <tr>\n",
       "      <th>3</th>\n",
       "      <td>Training_Normal_Videos_Anomaly/Normal_Videos81...</td>\n",
       "    </tr>\n",
       "    <tr>\n",
       "      <th>4</th>\n",
       "      <td>Training_Normal_Videos_Anomaly/Normal_Videos35...</td>\n",
       "    </tr>\n",
       "    <tr>\n",
       "      <th>...</th>\n",
       "      <td>...</td>\n",
       "    </tr>\n",
       "    <tr>\n",
       "      <th>978</th>\n",
       "      <td>Stealing/Stealing101_x264.mp4 2544</td>\n",
       "    </tr>\n",
       "    <tr>\n",
       "      <th>979</th>\n",
       "      <td>Training_Normal_Videos_Anomaly/Normal_Videos68...</td>\n",
       "    </tr>\n",
       "    <tr>\n",
       "      <th>980</th>\n",
       "      <td>Training_Normal_Videos_Anomaly/Normal_Videos05...</td>\n",
       "    </tr>\n",
       "    <tr>\n",
       "      <th>981</th>\n",
       "      <td>Training_Normal_Videos_Anomaly/Normal_Videos24...</td>\n",
       "    </tr>\n",
       "    <tr>\n",
       "      <th>982</th>\n",
       "      <td>Training_Normal_Videos_Anomaly/Normal_Videos75...</td>\n",
       "    </tr>\n",
       "  </tbody>\n",
       "</table>\n",
       "<p>983 rows × 1 columns</p>\n",
       "</div>"
      ],
      "text/plain": [
       "                                            video_name\n",
       "0    Training_Normal_Videos_Anomaly/Normal_Videos82...\n",
       "1                      Assault/Assault046_x264.mp4 952\n",
       "2    Training_Normal_Videos_Anomaly/Normal_Videos57...\n",
       "3    Training_Normal_Videos_Anomaly/Normal_Videos81...\n",
       "4    Training_Normal_Videos_Anomaly/Normal_Videos35...\n",
       "..                                                 ...\n",
       "978                 Stealing/Stealing101_x264.mp4 2544\n",
       "979  Training_Normal_Videos_Anomaly/Normal_Videos68...\n",
       "980  Training_Normal_Videos_Anomaly/Normal_Videos05...\n",
       "981  Training_Normal_Videos_Anomaly/Normal_Videos24...\n",
       "982  Training_Normal_Videos_Anomaly/Normal_Videos75...\n",
       "\n",
       "[983 rows x 1 columns]"
      ]
     },
     "execution_count": 12,
     "metadata": {},
     "output_type": "execute_result"
    }
   ],
   "source": [
    "new_train_df"
   ]
  },
  {
   "cell_type": "code",
   "execution_count": 13,
   "id": "632bdf4c",
   "metadata": {},
   "outputs": [
    {
     "data": {
      "text/plain": [
       "'Training_Normal_Videos_Anomaly/Normal_Videos826_x264.mp4 1657'"
      ]
     },
     "execution_count": 13,
     "metadata": {},
     "output_type": "execute_result"
    }
   ],
   "source": [
    "new_train_df['video_name'][0]"
   ]
  },
  {
   "cell_type": "code",
   "execution_count": 14,
   "id": "d18bbcef",
   "metadata": {},
   "outputs": [
    {
     "data": {
      "text/plain": [
       "'Arson/Arson022_x264.mp4 8640'"
      ]
     },
     "execution_count": 14,
     "metadata": {},
     "output_type": "execute_result"
    }
   ],
   "source": [
    "new_test_df['video_name'][0]"
   ]
  },
  {
   "cell_type": "code",
   "execution_count": 49,
   "id": "f92f7153",
   "metadata": {},
   "outputs": [],
   "source": [
    "def return_idx(ab_type):\n",
    "    if ab_type == 'Arson':\n",
    "        return 0\n",
    "    elif ab_type == 'Assault':\n",
    "        return 1 \n",
    "    elif ab_type == 'Stealing':\n",
    "        return 2 \n",
    "    elif ab_type == 'Training_Normal_Videos_Anomaly' or ab_type == 'Testing_Normal_Videos_Anomaly':\n",
    "        return 3 "
   ]
  },
  {
   "cell_type": "code",
   "execution_count": 16,
   "id": "69fcdd7c",
   "metadata": {},
   "outputs": [],
   "source": [
    "train_list = [] \n",
    "test_list = []"
   ]
  },
  {
   "cell_type": "code",
   "execution_count": 17,
   "id": "0a39a14e",
   "metadata": {},
   "outputs": [
    {
     "data": {
      "text/plain": [
       "[]"
      ]
     },
     "execution_count": 17,
     "metadata": {},
     "output_type": "execute_result"
    }
   ],
   "source": [
    "train_list"
   ]
  },
  {
   "cell_type": "code",
   "execution_count": 18,
   "id": "56e59201",
   "metadata": {},
   "outputs": [
    {
     "data": {
      "text/plain": [
       "'Training_Normal_Videos_Anomaly/Normal_Videos826_x264.mp4 1657'"
      ]
     },
     "execution_count": 18,
     "metadata": {},
     "output_type": "execute_result"
    }
   ],
   "source": [
    "new_train_df['video_name'][0]"
   ]
  },
  {
   "cell_type": "code",
   "execution_count": 19,
   "id": "8100039e",
   "metadata": {},
   "outputs": [],
   "source": [
    "for data in new_train_df['video_name']:\n",
    "    video, total_frame = os.path.join(VIDEO_PATH, data.split()[0]), data.split()[1]\n",
    "    # print(os.path.exists(video)) \n",
    "    frame_num = int(total_frame) - 32\n",
    "    if os.path.exists(video):\n",
    "        train_list.append(data.split()[0] + ' ' + str(frame_num))\n",
    "    else:\n",
    "        continue"
   ]
  },
  {
   "cell_type": "code",
   "execution_count": 20,
   "id": "1926c5b3",
   "metadata": {},
   "outputs": [
    {
     "data": {
      "text/plain": [
       "['Training_Normal_Videos_Anomaly/Normal_Videos826_x264.mp4 1625',\n",
       " 'Assault/Assault046_x264.mp4 920',\n",
       " 'Training_Normal_Videos_Anomaly/Normal_Videos813_x264.mp4 2683',\n",
       " 'Training_Normal_Videos_Anomaly/Normal_Videos354_x264.mp4 1763',\n",
       " 'Training_Normal_Videos_Anomaly/Normal_Videos315_x264.mp4 1499',\n",
       " 'Training_Normal_Videos_Anomaly/Normal_Videos803_x264.mp4 2694',\n",
       " 'Training_Normal_Videos_Anomaly/Normal_Videos470_x264.mp4 1168',\n",
       " 'Training_Normal_Videos_Anomaly/Normal_Videos253_x264.mp4 484',\n",
       " 'Training_Normal_Videos_Anomaly/Normal_Videos082_x264.mp4 1166',\n",
       " 'Training_Normal_Videos_Anomaly/Normal_Videos194_x264.mp4 4109',\n",
       " 'Training_Normal_Videos_Anomaly/Normal_Videos124_x264.mp4 1362',\n",
       " 'Training_Normal_Videos_Anomaly/Normal_Videos586_x264.mp4 1556',\n",
       " 'Training_Normal_Videos_Anomaly/Normal_Videos225_x264.mp4 19909',\n",
       " 'Training_Normal_Videos_Anomaly/Normal_Videos558_x264.mp4 1605',\n",
       " 'Training_Normal_Videos_Anomaly/Normal_Videos468_x264.mp4 762',\n",
       " 'Training_Normal_Videos_Anomaly/Normal_Videos837_x264.mp4 3646',\n",
       " 'Stealing/Stealing067_x264.mp4 2068',\n",
       " 'Training_Normal_Videos_Anomaly/Normal_Videos838_x264.mp4 3652',\n",
       " 'Stealing/Stealing057_x264.mp4 2983',\n",
       " 'Stealing/Stealing021_x264.mp4 4089',\n",
       " 'Stealing/Stealing059_x264.mp4 2201',\n",
       " 'Training_Normal_Videos_Anomaly/Normal_Videos347_x264.mp4 1864',\n",
       " 'Training_Normal_Videos_Anomaly/Normal_Videos320_x264.mp4 979',\n",
       " 'Training_Normal_Videos_Anomaly/Normal_Videos846_x264.mp4 1787',\n",
       " 'Arson/Arson026_x264.mp4 5867',\n",
       " 'Training_Normal_Videos_Anomaly/Normal_Videos630_x264.mp4 63352',\n",
       " 'Training_Normal_Videos_Anomaly/Normal_Videos736_x264.mp4 894',\n",
       " 'Training_Normal_Videos_Anomaly/Normal_Videos265_x264.mp4 1297',\n",
       " 'Assault/Assault008_x264.mp4 7504',\n",
       " 'Training_Normal_Videos_Anomaly/Normal_Videos285_x264.mp4 1888',\n",
       " 'Stealing/Stealing100_x264.mp4 15324',\n",
       " 'Arson/Arson017_x264.mp4 1350',\n",
       " 'Stealing/Stealing054_x264.mp4 2637',\n",
       " 'Training_Normal_Videos_Anomaly/Normal_Videos618_x264.mp4 1906',\n",
       " 'Training_Normal_Videos_Anomaly/Normal_Videos765_x264.mp4 929',\n",
       " 'Training_Normal_Videos_Anomaly/Normal_Videos816_x264.mp4 2682',\n",
       " 'Training_Normal_Videos_Anomaly/Normal_Videos037_x264.mp4 417',\n",
       " 'Training_Normal_Videos_Anomaly/Normal_Videos457_x264.mp4 1724',\n",
       " 'Stealing/Stealing093_x264.mp4 1197',\n",
       " 'Arson/Arson028_x264.mp4 2377',\n",
       " 'Training_Normal_Videos_Anomaly/Normal_Videos412_x264.mp4 617',\n",
       " 'Training_Normal_Videos_Anomaly/Normal_Videos402_x264.mp4 549',\n",
       " 'Training_Normal_Videos_Anomaly/Normal_Videos795_x264.mp4 13253',\n",
       " 'Training_Normal_Videos_Anomaly/Normal_Videos817_x264.mp4 2682',\n",
       " 'Training_Normal_Videos_Anomaly/Normal_Videos676_x264.mp4 5788',\n",
       " 'Training_Normal_Videos_Anomaly/Normal_Videos208_x264.mp4 2218',\n",
       " 'Training_Normal_Videos_Anomaly/Normal_Videos669_x264.mp4 1187',\n",
       " 'Training_Normal_Videos_Anomaly/Normal_Videos544_x264.mp4 60330',\n",
       " 'Stealing/Stealing087_x264.mp4 4906',\n",
       " 'Training_Normal_Videos_Anomaly/Normal_Videos481_x264.mp4 8968',\n",
       " 'Training_Normal_Videos_Anomaly/Normal_Videos284_x264.mp4 2123',\n",
       " 'Arson/Arson003_x264.mp4 3981',\n",
       " 'Training_Normal_Videos_Anomaly/Normal_Videos610_x264.mp4 810',\n",
       " 'Stealing/Stealing049_x264.mp4 1444',\n",
       " 'Training_Normal_Videos_Anomaly/Normal_Videos516_x264.mp4 4723',\n",
       " 'Training_Normal_Videos_Anomaly/Normal_Videos340_x264.mp4 2647',\n",
       " 'Training_Normal_Videos_Anomaly/Normal_Videos547_x264.mp4 168487',\n",
       " 'Training_Normal_Videos_Anomaly/Normal_Videos223_x264.mp4 4200',\n",
       " 'Training_Normal_Videos_Anomaly/Normal_Videos139_x264.mp4 25166',\n",
       " 'Stealing/Stealing095_x264.mp4 719',\n",
       " 'Training_Normal_Videos_Anomaly/Normal_Videos169_x264.mp4 1522',\n",
       " 'Training_Normal_Videos_Anomaly/Normal_Videos761_x264.mp4 3205',\n",
       " 'Stealing/Stealing042_x264.mp4 4168',\n",
       " 'Training_Normal_Videos_Anomaly/Normal_Videos460_x264.mp4 7434',\n",
       " 'Assault/Assault042_x264.mp4 8962',\n",
       " 'Arson/Arson013_x264.mp4 6347',\n",
       " 'Training_Normal_Videos_Anomaly/Normal_Videos777_x264.mp4 7133',\n",
       " 'Training_Normal_Videos_Anomaly/Normal_Videos604_x264.mp4 1409',\n",
       " 'Stealing/Stealing050_x264.mp4 3313',\n",
       " 'Training_Normal_Videos_Anomaly/Normal_Videos327_x264.mp4 1623',\n",
       " 'Training_Normal_Videos_Anomaly/Normal_Videos570_x264.mp4 815',\n",
       " 'Training_Normal_Videos_Anomaly/Normal_Videos524_x264.mp4 10009',\n",
       " 'Training_Normal_Videos_Anomaly/Normal_Videos440_x264.mp4 793',\n",
       " 'Training_Normal_Videos_Anomaly/Normal_Videos255_x264.mp4 3568',\n",
       " 'Stealing/Stealing107_x264.mp4 4468',\n",
       " 'Training_Normal_Videos_Anomaly/Normal_Videos503_x264.mp4 888',\n",
       " 'Training_Normal_Videos_Anomaly/Normal_Videos270_x264.mp4 2086',\n",
       " 'Training_Normal_Videos_Anomaly/Normal_Videos358_x264.mp4 1906',\n",
       " 'Training_Normal_Videos_Anomaly/Normal_Videos532_x264.mp4 25854',\n",
       " 'Training_Normal_Videos_Anomaly/Normal_Videos398_x264.mp4 3708',\n",
       " 'Training_Normal_Videos_Anomaly/Normal_Videos443_x264.mp4 1759',\n",
       " 'Training_Normal_Videos_Anomaly/Normal_Videos612_x264.mp4 6237',\n",
       " 'Stealing/Stealing030_x264.mp4 814',\n",
       " 'Training_Normal_Videos_Anomaly/Normal_Videos721_x264.mp4 1797',\n",
       " 'Stealing/Stealing112_x264.mp4 2069',\n",
       " 'Training_Normal_Videos_Anomaly/Normal_Videos115_x264.mp4 267',\n",
       " 'Assault/Assault026_x264.mp4 810',\n",
       " 'Training_Normal_Videos_Anomaly/Normal_Videos705_x264.mp4 252',\n",
       " 'Training_Normal_Videos_Anomaly/Normal_Videos046_x264.mp4 26925',\n",
       " 'Training_Normal_Videos_Anomaly/Normal_Videos172_x264.mp4 11826',\n",
       " 'Training_Normal_Videos_Anomaly/Normal_Videos556_x264.mp4 69090',\n",
       " 'Training_Normal_Videos_Anomaly/Normal_Videos072_x264.mp4 920',\n",
       " 'Training_Normal_Videos_Anomaly/Normal_Videos424_x264.mp4 7121',\n",
       " 'Training_Normal_Videos_Anomaly/Normal_Videos526_x264.mp4 8741',\n",
       " 'Training_Normal_Videos_Anomaly/Normal_Videos825_x264.mp4 1579',\n",
       " 'Training_Normal_Videos_Anomaly/Normal_Videos294_x264.mp4 908',\n",
       " 'Stealing/Stealing020_x264.mp4 6571',\n",
       " 'Training_Normal_Videos_Anomaly/Normal_Videos432_x264.mp4 3557',\n",
       " 'Training_Normal_Videos_Anomaly/Normal_Videos754_x264.mp4 1592',\n",
       " 'Training_Normal_Videos_Anomaly/Normal_Videos845_x264.mp4 527',\n",
       " 'Training_Normal_Videos_Anomaly/Normal_Videos650_x264.mp4 1058',\n",
       " 'Training_Normal_Videos_Anomaly/Normal_Videos480_x264.mp4 2193',\n",
       " 'Training_Normal_Videos_Anomaly/Normal_Videos823_x264.mp4 1330',\n",
       " 'Training_Normal_Videos_Anomaly/Normal_Videos844_x264.mp4 643',\n",
       " 'Stealing/Stealing096_x264.mp4 6576',\n",
       " 'Training_Normal_Videos_Anomaly/Normal_Videos254_x264.mp4 1199',\n",
       " 'Training_Normal_Videos_Anomaly/Normal_Videos079_x264.mp4 1969',\n",
       " 'Assault/Assault020_x264.mp4 442',\n",
       " 'Training_Normal_Videos_Anomaly/Normal_Videos575_x264.mp4 3644',\n",
       " 'Training_Normal_Videos_Anomaly/Normal_Videos552_x264.mp4 4251',\n",
       " 'Training_Normal_Videos_Anomaly/Normal_Videos693_x264.mp4 669',\n",
       " 'Training_Normal_Videos_Anomaly/Normal_Videos569_x264.mp4 2884',\n",
       " 'Training_Normal_Videos_Anomaly/Normal_Videos755_x264.mp4 1592',\n",
       " 'Arson/Arson047_x264.mp4 1410',\n",
       " 'Stealing/Stealing097_x264.mp4 1118',\n",
       " 'Training_Normal_Videos_Anomaly/Normal_Videos640_x264.mp4 1798',\n",
       " 'Training_Normal_Videos_Anomaly/Normal_Videos372_x264.mp4 625',\n",
       " 'Stealing/Stealing070_x264.mp4 1313',\n",
       " 'Training_Normal_Videos_Anomaly/Normal_Videos381_x264.mp4 2339',\n",
       " 'Training_Normal_Videos_Anomaly/Normal_Videos122_x264.mp4 1861',\n",
       " 'Training_Normal_Videos_Anomaly/Normal_Videos659_x264.mp4 480',\n",
       " 'Training_Normal_Videos_Anomaly/Normal_Videos843_x264.mp4 412',\n",
       " 'Training_Normal_Videos_Anomaly/Normal_Videos679_x264.mp4 7142',\n",
       " 'Training_Normal_Videos_Anomaly/Normal_Videos013_x264.mp4 1180',\n",
       " 'Training_Normal_Videos_Anomaly/Normal_Videos429_x264.mp4 3402',\n",
       " 'Training_Normal_Videos_Anomaly/Normal_Videos775_x264.mp4 2027',\n",
       " 'Training_Normal_Videos_Anomaly/Normal_Videos595_x264.mp4 2638',\n",
       " 'Stealing/Stealing002_x264.mp4 3485',\n",
       " 'Training_Normal_Videos_Anomaly/Normal_Videos651_x264.mp4 1126',\n",
       " 'Training_Normal_Videos_Anomaly/Normal_Videos377_x264.mp4 13789',\n",
       " 'Arson/Arson039_x264.mp4 3344',\n",
       " 'Training_Normal_Videos_Anomaly/Normal_Videos685_x264.mp4 1247',\n",
       " 'Arson/Arson053_x264.mp4 6743',\n",
       " 'Stealing/Stealing028_x264.mp4 1737',\n",
       " 'Training_Normal_Videos_Anomaly/Normal_Videos411_x264.mp4 894',\n",
       " 'Training_Normal_Videos_Anomaly/Normal_Videos183_x264.mp4 1648',\n",
       " 'Training_Normal_Videos_Anomaly/Normal_Videos282_x264.mp4 4078',\n",
       " 'Stealing/Stealing008_x264.mp4 4978',\n",
       " 'Stealing/Stealing046_x264.mp4 10273',\n",
       " 'Stealing/Stealing029_x264.mp4 374',\n",
       " 'Arson/Arson005_x264.mp4 1142',\n",
       " 'Stealing/Stealing032_x264.mp4 5363',\n",
       " 'Training_Normal_Videos_Anomaly/Normal_Videos344_x264.mp4 177',\n",
       " 'Training_Normal_Videos_Anomaly/Normal_Videos371_x264.mp4 36895',\n",
       " 'Training_Normal_Videos_Anomaly/Normal_Videos465_x264.mp4 2939',\n",
       " 'Stealing/Stealing068_x264.mp4 6827',\n",
       " 'Training_Normal_Videos_Anomaly/Normal_Videos434_x264.mp4 1829',\n",
       " 'Training_Normal_Videos_Anomaly/Normal_Videos126_x264.mp4 2776',\n",
       " 'Assault/Assault028_x264.mp4 2603',\n",
       " 'Stealing/Stealing109_x264.mp4 9421',\n",
       " 'Training_Normal_Videos_Anomaly/Normal_Videos002_x264.mp4 1631',\n",
       " 'Assault/Assault002_x264.mp4 2491',\n",
       " 'Training_Normal_Videos_Anomaly/Normal_Videos144_x264.mp4 8654',\n",
       " 'Training_Normal_Videos_Anomaly/Normal_Videos427_x264.mp4 1690',\n",
       " 'Stealing/Stealing094_x264.mp4 3867',\n",
       " 'Arson/Arson014_x264.mp4 2602',\n",
       " 'Training_Normal_Videos_Anomaly/Normal_Videos202_x264.mp4 2463',\n",
       " 'Training_Normal_Videos_Anomaly/Normal_Videos492_x264.mp4 49673',\n",
       " 'Training_Normal_Videos_Anomaly/Normal_Videos598_x264.mp4 7283',\n",
       " 'Training_Normal_Videos_Anomaly/Normal_Videos040_x264.mp4 924',\n",
       " 'Stealing/Stealing103_x264.mp4 6045',\n",
       " 'Training_Normal_Videos_Anomaly/Normal_Videos508_x264.mp4 1391',\n",
       " 'Training_Normal_Videos_Anomaly/Normal_Videos230_x264.mp4 448',\n",
       " 'Training_Normal_Videos_Anomaly/Normal_Videos633_x264.mp4 441278',\n",
       " 'Stealing/Stealing007_x264.mp4 3058',\n",
       " 'Arson/Arson023_x264.mp4 1328',\n",
       " 'Stealing/Stealing086_x264.mp4 18114',\n",
       " 'Stealing/Stealing082_x264.mp4 1651',\n",
       " 'Training_Normal_Videos_Anomaly/Normal_Videos774_x264.mp4 1796',\n",
       " 'Training_Normal_Videos_Anomaly/Normal_Videos697_x264.mp4 1697',\n",
       " 'Assault/Assault041_x264.mp4 4991',\n",
       " 'Training_Normal_Videos_Anomaly/Normal_Videos267_x264.mp4 3245',\n",
       " 'Assault/Assault045_x264.mp4 1087',\n",
       " 'Training_Normal_Videos_Anomaly/Normal_Videos094_x264.mp4 1708',\n",
       " 'Training_Normal_Videos_Anomaly/Normal_Videos009_x264.mp4 708',\n",
       " 'Training_Normal_Videos_Anomaly/Normal_Videos030_x264.mp4 4395',\n",
       " 'Training_Normal_Videos_Anomaly/Normal_Videos789_x264.mp4 5658',\n",
       " 'Arson/Arson027_x264.mp4 2665',\n",
       " 'Training_Normal_Videos_Anomaly/Normal_Videos713_x264.mp4 72993',\n",
       " 'Training_Normal_Videos_Anomaly/Normal_Videos109_x264.mp4 1690',\n",
       " 'Training_Normal_Videos_Anomaly/Normal_Videos374_x264.mp4 345',\n",
       " 'Training_Normal_Videos_Anomaly/Normal_Videos086_x264.mp4 3359',\n",
       " 'Training_Normal_Videos_Anomaly/Normal_Videos020_x264.mp4 453',\n",
       " 'Training_Normal_Videos_Anomaly/Normal_Videos038_x264.mp4 2939',\n",
       " 'Arson/Arson019_x264.mp4 126521',\n",
       " 'Arson/Arson050_x264.mp4 1549',\n",
       " 'Stealing/Stealing023_x264.mp4 5040',\n",
       " 'Training_Normal_Videos_Anomaly/Normal_Videos163_x264.mp4 3272',\n",
       " 'Stealing/Stealing077_x264.mp4 19153',\n",
       " 'Assault/Assault016_x264.mp4 6581',\n",
       " 'Training_Normal_Videos_Anomaly/Normal_Videos583_x264.mp4 6192',\n",
       " 'Training_Normal_Videos_Anomaly/Normal_Videos615_x264.mp4 4543',\n",
       " 'Arson/Arson030_x264.mp4 5021',\n",
       " 'Training_Normal_Videos_Anomaly/Normal_Videos075_x264.mp4 3365',\n",
       " 'Training_Normal_Videos_Anomaly/Normal_Videos833_x264.mp4 2561',\n",
       " 'Training_Normal_Videos_Anomaly/Normal_Videos808_x264.mp4 2688',\n",
       " 'Training_Normal_Videos_Anomaly/Normal_Videos486_x264.mp4 2674',\n",
       " 'Training_Normal_Videos_Anomaly/Normal_Videos859_x264.mp4 695',\n",
       " 'Training_Normal_Videos_Anomaly/Normal_Videos919_x264.mp4 330',\n",
       " 'Assault/Assault007_x264.mp4 1920',\n",
       " 'Training_Normal_Videos_Anomaly/Normal_Videos703_x264.mp4 2227',\n",
       " 'Training_Normal_Videos_Anomaly/Normal_Videos856_x264.mp4 18082',\n",
       " 'Training_Normal_Videos_Anomaly/Normal_Videos456_x264.mp4 3911',\n",
       " 'Training_Normal_Videos_Anomaly/Normal_Videos684_x264.mp4 17998',\n",
       " 'Training_Normal_Videos_Anomaly/Normal_Videos062_x264.mp4 1541',\n",
       " 'Assault/Assault005_x264.mp4 1185',\n",
       " 'Training_Normal_Videos_Anomaly/Normal_Videos611_x264.mp4 1165',\n",
       " 'Training_Normal_Videos_Anomaly/Normal_Videos213_x264.mp4 1754',\n",
       " 'Stealing/Stealing043_x264.mp4 4781',\n",
       " 'Training_Normal_Videos_Anomaly/Normal_Videos101_x264.mp4 1506',\n",
       " 'Training_Normal_Videos_Anomaly/Normal_Videos670_x264.mp4 4154',\n",
       " 'Stealing/Stealing108_x264.mp4 3935',\n",
       " 'Assault/Assault049_x264.mp4 1292',\n",
       " 'Training_Normal_Videos_Anomaly/Normal_Videos462_x264.mp4 3417',\n",
       " 'Training_Normal_Videos_Anomaly/Normal_Videos032_x264.mp4 803',\n",
       " 'Training_Normal_Videos_Anomaly/Normal_Videos012_x264.mp4 2308',\n",
       " 'Training_Normal_Videos_Anomaly/Normal_Videos359_x264.mp4 871',\n",
       " 'Training_Normal_Videos_Anomaly/Normal_Videos252_x264.mp4 1771',\n",
       " 'Assault/Assault003_x264.mp4 4411',\n",
       " 'Training_Normal_Videos_Anomaly/Normal_Videos493_x264.mp4 879',\n",
       " 'Training_Normal_Videos_Anomaly/Normal_Videos534_x264.mp4 38831',\n",
       " 'Stealing/Stealing051_x264.mp4 3298',\n",
       " 'Assault/Assault014_x264.mp4 1875',\n",
       " 'Training_Normal_Videos_Anomaly/Normal_Videos533_x264.mp4 79295',\n",
       " 'Training_Normal_Videos_Anomaly/Normal_Videos350_x264.mp4 1420',\n",
       " 'Stealing/Stealing084_x264.mp4 15697',\n",
       " 'Training_Normal_Videos_Anomaly/Normal_Videos336_x264.mp4 1253',\n",
       " 'Training_Normal_Videos_Anomaly/Normal_Videos016_x264.mp4 3599',\n",
       " 'Arson/Arson037_x264.mp4 771',\n",
       " 'Assault/Assault031_x264.mp4 724',\n",
       " 'Assault/Assault012_x264.mp4 751',\n",
       " 'Stealing/Stealing063_x264.mp4 11559',\n",
       " 'Stealing/Stealing083_x264.mp4 4474',\n",
       " 'Training_Normal_Videos_Anomaly/Normal_Videos600_x264.mp4 2073',\n",
       " 'Arson/Arson049_x264.mp4 354',\n",
       " 'Training_Normal_Videos_Anomaly/Normal_Videos179_x264.mp4 4972',\n",
       " 'Stealing/Stealing055_x264.mp4 1586',\n",
       " 'Training_Normal_Videos_Anomaly/Normal_Videos428_x264.mp4 823',\n",
       " 'Training_Normal_Videos_Anomaly/Normal_Videos221_x264.mp4 2197',\n",
       " 'Training_Normal_Videos_Anomaly/Normal_Videos229_x264.mp4 1795',\n",
       " 'Training_Normal_Videos_Anomaly/Normal_Videos599_x264.mp4 2345',\n",
       " 'Stealing/Stealing053_x264.mp4 13025',\n",
       " 'Training_Normal_Videos_Anomaly/Normal_Videos785_x264.mp4 80954',\n",
       " 'Training_Normal_Videos_Anomaly/Normal_Videos852_x264.mp4 2738',\n",
       " 'Training_Normal_Videos_Anomaly/Normal_Videos571_x264.mp4 2089',\n",
       " 'Stealing/Stealing088_x264.mp4 12823',\n",
       " 'Training_Normal_Videos_Anomaly/Normal_Videos550_x264.mp4 8452',\n",
       " 'Training_Normal_Videos_Anomaly/Normal_Videos073_x264.mp4 1596',\n",
       " 'Assault/Assault015_x264.mp4 1449',\n",
       " 'Stealing/Stealing080_x264.mp4 1024',\n",
       " 'Training_Normal_Videos_Anomaly/Normal_Videos660_x264.mp4 1172',\n",
       " 'Training_Normal_Videos_Anomaly/Normal_Videos707_x264.mp4 1983',\n",
       " 'Training_Normal_Videos_Anomaly/Normal_Videos500_x264.mp4 339',\n",
       " 'Training_Normal_Videos_Anomaly/Normal_Videos239_x264.mp4 3522',\n",
       " 'Arson/Arson038_x264.mp4 705',\n",
       " 'Assault/Assault039_x264.mp4 263',\n",
       " 'Training_Normal_Videos_Anomaly/Normal_Videos564_x264.mp4 15247',\n",
       " 'Training_Normal_Videos_Anomaly/Normal_Videos227_x264.mp4 1625',\n",
       " 'Training_Normal_Videos_Anomaly/Normal_Videos636_x264.mp4 1232',\n",
       " 'Training_Normal_Videos_Anomaly/Normal_Videos187_x264.mp4 8967',\n",
       " 'Training_Normal_Videos_Anomaly/Normal_Videos111_x264.mp4 20339',\n",
       " 'Training_Normal_Videos_Anomaly/Normal_Videos407_x264.mp4 478',\n",
       " 'Training_Normal_Videos_Anomaly/Normal_Videos023_x264.mp4 1737',\n",
       " 'Training_Normal_Videos_Anomaly/Normal_Videos068_x264.mp4 1850',\n",
       " 'Training_Normal_Videos_Anomaly/Normal_Videos840_x264.mp4 453',\n",
       " 'Assault/Assault051_x264.mp4 569',\n",
       " 'Stealing/Stealing009_x264.mp4 1582',\n",
       " 'Stealing/Stealing017_x264.mp4 1855',\n",
       " 'Training_Normal_Videos_Anomaly/Normal_Videos814_x264.mp4 2682',\n",
       " 'Stealing/Stealing031_x264.mp4 1055',\n",
       " 'Training_Normal_Videos_Anomaly/Normal_Videos200_x264.mp4 3674',\n",
       " 'Assault/Assault013_x264.mp4 2347',\n",
       " 'Training_Normal_Videos_Anomaly/Normal_Videos469_x264.mp4 6666',\n",
       " 'Training_Normal_Videos_Anomaly/Normal_Videos313_x264.mp4 1275',\n",
       " 'Training_Normal_Videos_Anomaly/Normal_Videos433_x264.mp4 415',\n",
       " 'Arson/Arson020_x264.mp4 2395',\n",
       " 'Training_Normal_Videos_Anomaly/Normal_Videos092_x264.mp4 1768',\n",
       " 'Arson/Arson040_x264.mp4 2803',\n",
       " 'Stealing/Stealing025_x264.mp4 21783',\n",
       " 'Training_Normal_Videos_Anomaly/Normal_Videos053_x264.mp4 367',\n",
       " 'Training_Normal_Videos_Anomaly/Normal_Videos078_x264.mp4 2102',\n",
       " 'Arson/Arson044_x264.mp4 1164',\n",
       " 'Training_Normal_Videos_Anomaly/Normal_Videos128_x264.mp4 1878',\n",
       " 'Training_Normal_Videos_Anomaly/Normal_Videos512_x264.mp4 36895',\n",
       " 'Training_Normal_Videos_Anomaly/Normal_Videos862_x264.mp4 1549',\n",
       " 'Training_Normal_Videos_Anomaly/Normal_Videos388_x264.mp4 4277',\n",
       " 'Training_Normal_Videos_Anomaly/Normal_Videos949_x264.mp4 1079',\n",
       " 'Assault/Assault050_x264.mp4 591',\n",
       " 'Training_Normal_Videos_Anomaly/Normal_Videos445_x264.mp4 2089',\n",
       " 'Training_Normal_Videos_Anomaly/Normal_Videos211_x264.mp4 8296',\n",
       " 'Training_Normal_Videos_Anomaly/Normal_Videos671_x264.mp4 946',\n",
       " 'Stealing/Stealing111_x264.mp4 4680',\n",
       " 'Training_Normal_Videos_Anomaly/Normal_Videos699_x264.mp4 1707',\n",
       " 'Training_Normal_Videos_Anomaly/Normal_Videos106_x264.mp4 1912',\n",
       " 'Training_Normal_Videos_Anomaly/Normal_Videos663_x264.mp4 798',\n",
       " 'Training_Normal_Videos_Anomaly/Normal_Videos084_x264.mp4 27424',\n",
       " 'Training_Normal_Videos_Anomaly/Normal_Videos087_x264.mp4 80950',\n",
       " 'Training_Normal_Videos_Anomaly/Normal_Videos545_x264.mp4 8680',\n",
       " 'Stealing/Stealing052_x264.mp4 3343',\n",
       " 'Training_Normal_Videos_Anomaly/Normal_Videos337_x264.mp4 358',\n",
       " 'Training_Normal_Videos_Anomaly/Normal_Videos386_x264.mp4 4567',\n",
       " 'Stealing/Stealing045_x264.mp4 10630',\n",
       " 'Stealing/Stealing016_x264.mp4 2418',\n",
       " 'Training_Normal_Videos_Anomaly/Normal_Videos768_x264.mp4 977',\n",
       " 'Training_Normal_Videos_Anomaly/Normal_Videos947_x264.mp4 180782',\n",
       " 'Stealing/Stealing074_x264.mp4 2368',\n",
       " 'Training_Normal_Videos_Anomaly/Normal_Videos342_x264.mp4 4133',\n",
       " 'Stealing/Stealing022_x264.mp4 2427',\n",
       " 'Training_Normal_Videos_Anomaly/Normal_Videos199_x264.mp4 7002',\n",
       " 'Training_Normal_Videos_Anomaly/Normal_Videos487_x264.mp4 337',\n",
       " 'Training_Normal_Videos_Anomaly/Normal_Videos220_x264.mp4 2701',\n",
       " 'Training_Normal_Videos_Anomaly/Normal_Videos639_x264.mp4 3178',\n",
       " 'Training_Normal_Videos_Anomaly/Normal_Videos543_x264.mp4 32067',\n",
       " 'Training_Normal_Videos_Anomaly/Normal_Videos314_x264.mp4 1103',\n",
       " 'Training_Normal_Videos_Anomaly/Normal_Videos834_x264.mp4 3115',\n",
       " 'Assault/Assault001_x264.mp4 2454',\n",
       " 'Training_Normal_Videos_Anomaly/Normal_Videos418_x264.mp4 1656',\n",
       " 'Training_Normal_Videos_Anomaly/Normal_Videos064_x264.mp4 2302',\n",
       " 'Training_Normal_Videos_Anomaly/Normal_Videos851_x264.mp4 1959',\n",
       " 'Training_Normal_Videos_Anomaly/Normal_Videos916_x264.mp4 224',\n",
       " 'Stealing/Stealing026_x264.mp4 2723',\n",
       " 'Training_Normal_Videos_Anomaly/Normal_Videos049_x264.mp4 5463',\n",
       " 'Training_Normal_Videos_Anomaly/Normal_Videos811_x264.mp4 2682',\n",
       " 'Training_Normal_Videos_Anomaly/Normal_Videos152_x264.mp4 7978',\n",
       " 'Training_Normal_Videos_Anomaly/Normal_Videos472_x264.mp4 180771',\n",
       " 'Training_Normal_Videos_Anomaly/Normal_Videos301_x264.mp4 1773',\n",
       " 'Stealing/Stealing027_x264.mp4 1872',\n",
       " 'Training_Normal_Videos_Anomaly/Normal_Videos602_x264.mp4 11473',\n",
       " 'Training_Normal_Videos_Anomaly/Normal_Videos553_x264.mp4 12094',\n",
       " 'Stealing/Stealing024_x264.mp4 2433',\n",
       " 'Training_Normal_Videos_Anomaly/Normal_Videos331_x264.mp4 107861',\n",
       " 'Training_Normal_Videos_Anomaly/Normal_Videos580_x264.mp4 3567',\n",
       " 'Training_Normal_Videos_Anomaly/Normal_Videos102_x264.mp4 997',\n",
       " 'Training_Normal_Videos_Anomaly/Normal_Videos726_x264.mp4 1682',\n",
       " 'Training_Normal_Videos_Anomaly/Normal_Videos321_x264.mp4 421',\n",
       " 'Training_Normal_Videos_Anomaly/Normal_Videos708_x264.mp4 2734',\n",
       " 'Training_Normal_Videos_Anomaly/Normal_Videos302_x264.mp4 1772',\n",
       " 'Stealing/Stealing092_x264.mp4 13509',\n",
       " 'Training_Normal_Videos_Anomaly/Normal_Videos438_x264.mp4 545',\n",
       " 'Training_Normal_Videos_Anomaly/Normal_Videos788_x264.mp4 1048',\n",
       " 'Arson/Arson046_x264.mp4 2041',\n",
       " 'Training_Normal_Videos_Anomaly/Normal_Videos054_x264.mp4 1944',\n",
       " 'Training_Normal_Videos_Anomaly/Normal_Videos706_x264.mp4 875',\n",
       " 'Training_Normal_Videos_Anomaly/Normal_Videos622_x264.mp4 2527',\n",
       " 'Training_Normal_Videos_Anomaly/Normal_Videos616_x264.mp4 5308',\n",
       " 'Training_Normal_Videos_Anomaly/Normal_Videos177_x264.mp4 11280',\n",
       " 'Training_Normal_Videos_Anomaly/Normal_Videos467_x264.mp4 5427',\n",
       " 'Training_Normal_Videos_Anomaly/Normal_Videos655_x264.mp4 7343',\n",
       " 'Training_Normal_Videos_Anomaly/Normal_Videos306_x264.mp4 3929',\n",
       " 'Training_Normal_Videos_Anomaly/Normal_Videos675_x264.mp4 1388',\n",
       " 'Training_Normal_Videos_Anomaly/Normal_Videos149_x264.mp4 989',\n",
       " 'Arson/Arson012_x264.mp4 862',\n",
       " 'Training_Normal_Videos_Anomaly/Normal_Videos184_x264.mp4 1895',\n",
       " 'Stealing/Stealing110_x264.mp4 1720',\n",
       " 'Training_Normal_Videos_Anomaly/Normal_Videos458_x264.mp4 7466',\n",
       " 'Training_Normal_Videos_Anomaly/Normal_Videos473_x264.mp4 66893',\n",
       " 'Stealing/Stealing069_x264.mp4 769',\n",
       " 'Training_Normal_Videos_Anomaly/Normal_Videos288_x264.mp4 3493',\n",
       " 'Training_Normal_Videos_Anomaly/Normal_Videos035_x264.mp4 18387',\n",
       " 'Training_Normal_Videos_Anomaly/Normal_Videos525_x264.mp4 32368',\n",
       " 'Training_Normal_Videos_Anomaly/Normal_Videos143_x264.mp4 1757',\n",
       " 'Assault/Assault047_x264.mp4 3304',\n",
       " 'Training_Normal_Videos_Anomaly/Normal_Videos654_x264.mp4 2543',\n",
       " 'Training_Normal_Videos_Anomaly/Normal_Videos137_x264.mp4 106878',\n",
       " 'Training_Normal_Videos_Anomaly/Normal_Videos772_x264.mp4 1297',\n",
       " 'Stealing/Stealing014_x264.mp4 3333',\n",
       " 'Training_Normal_Videos_Anomaly/Normal_Videos153_x264.mp4 7978',\n",
       " 'Training_Normal_Videos_Anomaly/Normal_Videos698_x264.mp4 807',\n",
       " 'Training_Normal_Videos_Anomaly/Normal_Videos447_x264.mp4 13427',\n",
       " 'Training_Normal_Videos_Anomaly/Normal_Videos942_x264.mp4 688',\n",
       " 'Assault/Assault004_x264.mp4 3191',\n",
       " 'Assault/Assault027_x264.mp4 6917',\n",
       " 'Training_Normal_Videos_Anomaly/Normal_Videos295_x264.mp4 811',\n",
       " 'Training_Normal_Videos_Anomaly/Normal_Videos263_x264.mp4 1768',\n",
       " 'Training_Normal_Videos_Anomaly/Normal_Videos281_x264.mp4 313',\n",
       " 'Training_Normal_Videos_Anomaly/Normal_Videos269_x264.mp4 263',\n",
       " 'Training_Normal_Videos_Anomaly/Normal_Videos787_x264.mp4 5968',\n",
       " 'Training_Normal_Videos_Anomaly/Normal_Videos752_x264.mp4 1001',\n",
       " 'Training_Normal_Videos_Anomaly/Normal_Videos362_x264.mp4 665',\n",
       " 'Assault/Assault025_x264.mp4 1128',\n",
       " 'Training_Normal_Videos_Anomaly/Normal_Videos790_x264.mp4 1176',\n",
       " 'Training_Normal_Videos_Anomaly/Normal_Videos678_x264.mp4 2177',\n",
       " 'Assault/Assault029_x264.mp4 577',\n",
       " 'Assault/Assault022_x264.mp4 2488',\n",
       " 'Training_Normal_Videos_Anomaly/Normal_Videos652_x264.mp4 3260',\n",
       " 'Training_Normal_Videos_Anomaly/Normal_Videos173_x264.mp4 568',\n",
       " 'Training_Normal_Videos_Anomaly/Normal_Videos821_x264.mp4 2554',\n",
       " 'Training_Normal_Videos_Anomaly/Normal_Videos164_x264.mp4 10294',\n",
       " 'Training_Normal_Videos_Anomaly/Normal_Videos307_x264.mp4 627988',\n",
       " 'Training_Normal_Videos_Anomaly/Normal_Videos729_x264.mp4 1615',\n",
       " 'Training_Normal_Videos_Anomaly/Normal_Videos197_x264.mp4 2433',\n",
       " 'Training_Normal_Videos_Anomaly/Normal_Videos394_x264.mp4 1798',\n",
       " 'Training_Normal_Videos_Anomaly/Normal_Videos809_x264.mp4 2682',\n",
       " 'Training_Normal_Videos_Anomaly/Normal_Videos609_x264.mp4 570',\n",
       " 'Training_Normal_Videos_Anomaly/Normal_Videos190_x264.mp4 3595',\n",
       " 'Assault/Assault023_x264.mp4 981',\n",
       " 'Training_Normal_Videos_Anomaly/Normal_Videos637_x264.mp4 2008',\n",
       " 'Training_Normal_Videos_Anomaly/Normal_Videos720_x264.mp4 9269',\n",
       " 'Training_Normal_Videos_Anomaly/Normal_Videos335_x264.mp4 5367',\n",
       " 'Training_Normal_Videos_Anomaly/Normal_Videos244_x264.mp4 2724',\n",
       " 'Training_Normal_Videos_Anomaly/Normal_Videos060_x264.mp4 3040',\n",
       " 'Training_Normal_Videos_Anomaly/Normal_Videos384_x264.mp4 2216',\n",
       " 'Training_Normal_Videos_Anomaly/Normal_Videos631_x264.mp4 6758',\n",
       " 'Training_Normal_Videos_Anomaly/Normal_Videos920_x264.mp4 1130',\n",
       " 'Training_Normal_Videos_Anomaly/Normal_Videos557_x264.mp4 18369',\n",
       " 'Training_Normal_Videos_Anomaly/Normal_Videos011_x264.mp4 865',\n",
       " 'Assault/Assault032_x264.mp4 540',\n",
       " 'Training_Normal_Videos_Anomaly/Normal_Videos419_x264.mp4 1180',\n",
       " 'Training_Normal_Videos_Anomaly/Normal_Videos431_x264.mp4 2928',\n",
       " 'Training_Normal_Videos_Anomaly/Normal_Videos593_x264.mp4 2577',\n",
       " 'Training_Normal_Videos_Anomaly/Normal_Videos522_x264.mp4 6208',\n",
       " 'Training_Normal_Videos_Anomaly/Normal_Videos548_x264.mp4 84193',\n",
       " 'Training_Normal_Videos_Anomaly/Normal_Videos863_x264.mp4 1786',\n",
       " 'Training_Normal_Videos_Anomaly/Normal_Videos133_x264.mp4 4298',\n",
       " 'Training_Normal_Videos_Anomaly/Normal_Videos238_x264.mp4 2982',\n",
       " 'Training_Normal_Videos_Anomaly/Normal_Videos292_x264.mp4 4270',\n",
       " 'Training_Normal_Videos_Anomaly/Normal_Videos399_x264.mp4 3369',\n",
       " 'Training_Normal_Videos_Anomaly/Normal_Videos159_x264.mp4 1048',\n",
       " 'Training_Normal_Videos_Anomaly/Normal_Videos162_x264.mp4 1137',\n",
       " 'Training_Normal_Videos_Anomaly/Normal_Videos607_x264.mp4 1866',\n",
       " 'Training_Normal_Videos_Anomaly/Normal_Videos097_x264.mp4 4714',\n",
       " 'Training_Normal_Videos_Anomaly/Normal_Videos728_x264.mp4 2218',\n",
       " 'Training_Normal_Videos_Anomaly/Normal_Videos201_x264.mp4 2817',\n",
       " 'Training_Normal_Videos_Anomaly/Normal_Videos160_x264.mp4 3568',\n",
       " 'Training_Normal_Videos_Anomaly/Normal_Videos824_x264.mp4 1334',\n",
       " 'Training_Normal_Videos_Anomaly/Normal_Videos848_x264.mp4 2492',\n",
       " 'Training_Normal_Videos_Anomaly/Normal_Videos404_x264.mp4 3441',\n",
       " 'Training_Normal_Videos_Anomaly/Normal_Videos792_x264.mp4 8368',\n",
       " 'Training_Normal_Videos_Anomaly/Normal_Videos204_x264.mp4 792',\n",
       " 'Training_Normal_Videos_Anomaly/Normal_Videos107_x264.mp4 3569',\n",
       " 'Training_Normal_Videos_Anomaly/Normal_Videos449_x264.mp4 107941',\n",
       " 'Training_Normal_Videos_Anomaly/Normal_Videos134_x264.mp4 4444',\n",
       " 'Training_Normal_Videos_Anomaly/Normal_Videos236_x264.mp4 3348',\n",
       " 'Training_Normal_Videos_Anomaly/Normal_Videos829_x264.mp4 1378',\n",
       " 'Training_Normal_Videos_Anomaly/Normal_Videos318_x264.mp4 1268',\n",
       " 'Training_Normal_Videos_Anomaly/Normal_Videos715_x264.mp4 1029',\n",
       " 'Training_Normal_Videos_Anomaly/Normal_Videos549_x264.mp4 9232',\n",
       " 'Training_Normal_Videos_Anomaly/Normal_Videos642_x264.mp4 58226',\n",
       " 'Training_Normal_Videos_Anomaly/Normal_Videos132_x264.mp4 2595',\n",
       " 'Training_Normal_Videos_Anomaly/Normal_Videos585_x264.mp4 1757',\n",
       " 'Training_Normal_Videos_Anomaly/Normal_Videos298_x264.mp4 3307',\n",
       " 'Training_Normal_Videos_Anomaly/Normal_Videos422_x264.mp4 1564',\n",
       " 'Training_Normal_Videos_Anomaly/Normal_Videos504_x264.mp4 510',\n",
       " 'Arson/Arson051_x264.mp4 1024',\n",
       " 'Stealing/Stealing048_x264.mp4 7535',\n",
       " 'Training_Normal_Videos_Anomaly/Normal_Videos147_x264.mp4 477',\n",
       " 'Training_Normal_Videos_Anomaly/Normal_Videos723_x264.mp4 4346',\n",
       " 'Training_Normal_Videos_Anomaly/Normal_Videos632_x264.mp4 11980',\n",
       " 'Training_Normal_Videos_Anomaly/Normal_Videos166_x264.mp4 1575',\n",
       " 'Training_Normal_Videos_Anomaly/Normal_Videos950_x264.mp4 2380',\n",
       " 'Training_Normal_Videos_Anomaly/Normal_Videos820_x264.mp4 639',\n",
       " 'Assault/Assault009_x264.mp4 3567',\n",
       " 'Training_Normal_Videos_Anomaly/Normal_Videos442_x264.mp4 1763',\n",
       " 'Arson/Arson006_x264.mp4 2783',\n",
       " 'Stealing/Stealing037_x264.mp4 4714',\n",
       " 'Training_Normal_Videos_Anomaly/Normal_Videos531_x264.mp4 5539',\n",
       " 'Training_Normal_Videos_Anomaly/Normal_Videos805_x264.mp4 2692',\n",
       " 'Training_Normal_Videos_Anomaly/Normal_Videos661_x264.mp4 568',\n",
       " 'Arson/Arson031_x264.mp4 2852',\n",
       " 'Arson/Arson042_x264.mp4 5841',\n",
       " 'Assault/Assault044_x264.mp4 732',\n",
       " 'Training_Normal_Videos_Anomaly/Normal_Videos665_x264.mp4 11641',\n",
       " 'Training_Normal_Videos_Anomaly/Normal_Videos812_x264.mp4 2682',\n",
       " 'Training_Normal_Videos_Anomaly/Normal_Videos191_x264.mp4 3563',\n",
       " 'Training_Normal_Videos_Anomaly/Normal_Videos370_x264.mp4 4443',\n",
       " 'Training_Normal_Videos_Anomaly/Normal_Videos323_x264.mp4 62947',\n",
       " 'Training_Normal_Videos_Anomaly/Normal_Videos773_x264.mp4 3041',\n",
       " 'Training_Normal_Videos_Anomaly/Normal_Videos797_x264.mp4 2776',\n",
       " 'Training_Normal_Videos_Anomaly/Normal_Videos536_x264.mp4 13905',\n",
       " 'Training_Normal_Videos_Anomaly/Normal_Videos264_x264.mp4 3868',\n",
       " 'Training_Normal_Videos_Anomaly/Normal_Videos589_x264.mp4 5207',\n",
       " 'Training_Normal_Videos_Anomaly/Normal_Videos209_x264.mp4 601',\n",
       " 'Training_Normal_Videos_Anomaly/Normal_Videos748_x264.mp4 693',\n",
       " 'Training_Normal_Videos_Anomaly/Normal_Videos733_x264.mp4 1267',\n",
       " 'Stealing/Stealing006_x264.mp4 3191',\n",
       " 'Training_Normal_Videos_Anomaly/Normal_Videos123_x264.mp4 22138',\n",
       " 'Training_Normal_Videos_Anomaly/Normal_Videos004_x264.mp4 885',\n",
       " 'Training_Normal_Videos_Anomaly/Normal_Videos771_x264.mp4 2430',\n",
       " 'Stealing/Stealing011_x264.mp4 3685',\n",
       " 'Training_Normal_Videos_Anomaly/Normal_Videos594_x264.mp4 1785',\n",
       " 'Arson/Arson024_x264.mp4 3334',\n",
       " 'Training_Normal_Videos_Anomaly/Normal_Videos140_x264.mp4 1763',\n",
       " 'Training_Normal_Videos_Anomaly/Normal_Videos857_x264.mp4 673',\n",
       " 'Training_Normal_Videos_Anomaly/Normal_Videos627_x264.mp4 2207',\n",
       " 'Training_Normal_Videos_Anomaly/Normal_Videos847_x264.mp4 3530',\n",
       " 'Training_Normal_Videos_Anomaly/Normal_Videos181_x264.mp4 4104',\n",
       " 'Training_Normal_Videos_Anomaly/Normal_Videos369_x264.mp4 8545',\n",
       " 'Training_Normal_Videos_Anomaly/Normal_Videos535_x264.mp4 3612',\n",
       " 'Stealing/Stealing018_x264.mp4 2020',\n",
       " 'Training_Normal_Videos_Anomaly/Normal_Videos405_x264.mp4 1033',\n",
       " 'Training_Normal_Videos_Anomaly/Normal_Videos104_x264.mp4 657',\n",
       " 'Training_Normal_Videos_Anomaly/Normal_Videos786_x264.mp4 5659',\n",
       " 'Training_Normal_Videos_Anomaly/Normal_Videos113_x264.mp4 662',\n",
       " 'Training_Normal_Videos_Anomaly/Normal_Videos089_x264.mp4 19624',\n",
       " 'Arson/Arson001_x264.mp4 4155',\n",
       " 'Training_Normal_Videos_Anomaly/Normal_Videos373_x264.mp4 460',\n",
       " 'Training_Normal_Videos_Anomaly/Normal_Videos666_x264.mp4 107941',\n",
       " 'Stealing/Stealing065_x264.mp4 5453',\n",
       " 'Training_Normal_Videos_Anomaly/Normal_Videos587_x264.mp4 8661',\n",
       " 'Training_Normal_Videos_Anomaly/Normal_Videos071_x264.mp4 839',\n",
       " 'Assault/Assault018_x264.mp4 329',\n",
       " 'Training_Normal_Videos_Anomaly/Normal_Videos395_x264.mp4 448',\n",
       " 'Training_Normal_Videos_Anomaly/Normal_Videos672_x264.mp4 1900',\n",
       " 'Arson/Arson036_x264.mp4 1663',\n",
       " 'Training_Normal_Videos_Anomaly/Normal_Videos818_x264.mp4 627',\n",
       " 'Training_Normal_Videos_Anomaly/Normal_Videos596_x264.mp4 2701',\n",
       " 'Assault/Assault040_x264.mp4 3747',\n",
       " 'Training_Normal_Videos_Anomaly/Normal_Videos779_x264.mp4 364',\n",
       " 'Training_Normal_Videos_Anomaly/Normal_Videos476_x264.mp4 4615',\n",
       " 'Training_Normal_Videos_Anomaly/Normal_Videos541_x264.mp4 94768',\n",
       " 'Arson/Arson021_x264.mp4 1409',\n",
       " 'Training_Normal_Videos_Anomaly/Normal_Videos496_x264.mp4 64552',\n",
       " 'Training_Normal_Videos_Anomaly/Normal_Videos055_x264.mp4 219',\n",
       " 'Training_Normal_Videos_Anomaly/Normal_Videos234_x264.mp4 5368',\n",
       " 'Training_Normal_Videos_Anomaly/Normal_Videos356_x264.mp4 599',\n",
       " 'Training_Normal_Videos_Anomaly/Normal_Videos232_x264.mp4 1463',\n",
       " 'Stealing/Stealing105_x264.mp4 1086',\n",
       " 'Training_Normal_Videos_Anomaly/Normal_Videos105_x264.mp4 684',\n",
       " 'Training_Normal_Videos_Anomaly/Normal_Videos515_x264.mp4 8735',\n",
       " 'Training_Normal_Videos_Anomaly/Normal_Videos551_x264.mp4 53968',\n",
       " 'Arson/Arson025_x264.mp4 5251',\n",
       " 'Training_Normal_Videos_Anomaly/Normal_Videos423_x264.mp4 5505',\n",
       " 'Arson/Arson002_x264.mp4 4407',\n",
       " 'Training_Normal_Videos_Anomaly/Normal_Videos346_x264.mp4 5347',\n",
       " 'Stealing/Stealing102_x264.mp4 1199',\n",
       " 'Training_Normal_Videos_Anomaly/Normal_Videos287_x264.mp4 1785',\n",
       " 'Training_Normal_Videos_Anomaly/Normal_Videos742_x264.mp4 1162',\n",
       " 'Training_Normal_Videos_Anomaly/Normal_Videos093_x264.mp4 1708',\n",
       " 'Training_Normal_Videos_Anomaly/Normal_Videos061_x264.mp4 17661',\n",
       " 'Training_Normal_Videos_Anomaly/Normal_Videos450_x264.mp4 107934',\n",
       " 'Training_Normal_Videos_Anomaly/Normal_Videos793_x264.mp4 2860',\n",
       " 'Stealing/Stealing114_x264.mp4 1185',\n",
       " 'Training_Normal_Videos_Anomaly/Normal_Videos080_x264.mp4 2312',\n",
       " 'Training_Normal_Videos_Anomaly/Normal_Videos523_x264.mp4 390',\n",
       " 'Training_Normal_Videos_Anomaly/Normal_Videos643_x264.mp4 3541',\n",
       " 'Training_Normal_Videos_Anomaly/Normal_Videos918_x264.mp4 735',\n",
       " 'Training_Normal_Videos_Anomaly/Normal_Videos514_x264.mp4 4567',\n",
       " 'Training_Normal_Videos_Anomaly/Normal_Videos167_x264.mp4 1547',\n",
       " 'Training_Normal_Videos_Anomaly/Normal_Videos135_x264.mp4 1755',\n",
       " 'Training_Normal_Videos_Anomaly/Normal_Videos854_x264.mp4 17994',\n",
       " 'Training_Normal_Videos_Anomaly/Normal_Videos623_x264.mp4 11195',\n",
       " 'Stealing/Stealing106_x264.mp4 1399',\n",
       " 'Training_Normal_Videos_Anomaly/Normal_Videos560_x264.mp4 18169',\n",
       " 'Training_Normal_Videos_Anomaly/Normal_Videos258_x264.mp4 1135',\n",
       " 'Stealing/Stealing073_x264.mp4 1492',\n",
       " 'Training_Normal_Videos_Anomaly/Normal_Videos283_x264.mp4 8965',\n",
       " 'Training_Normal_Videos_Anomaly/Normal_Videos762_x264.mp4 22330',\n",
       " 'Training_Normal_Videos_Anomaly/Normal_Videos170_x264.mp4 1054',\n",
       " 'Training_Normal_Videos_Anomaly/Normal_Videos216_x264.mp4 3388',\n",
       " 'Training_Normal_Videos_Anomaly/Normal_Videos763_x264.mp4 3592',\n",
       " 'Training_Normal_Videos_Anomaly/Normal_Videos501_x264.mp4 1734',\n",
       " 'Training_Normal_Videos_Anomaly/Normal_Videos261_x264.mp4 3560',\n",
       " 'Training_Normal_Videos_Anomaly/Normal_Videos574_x264.mp4 9882',\n",
       " 'Stealing/Stealing066_x264.mp4 1248',\n",
       " 'Arson/Arson045_x264.mp4 3721',\n",
       " 'Training_Normal_Videos_Anomaly/Normal_Videos649_x264.mp4 863',\n",
       " 'Training_Normal_Videos_Anomaly/Normal_Videos237_x264.mp4 1692',\n",
       " 'Training_Normal_Videos_Anomaly/Normal_Videos291_x264.mp4 412',\n",
       " 'Training_Normal_Videos_Anomaly/Normal_Videos751_x264.mp4 865',\n",
       " 'Training_Normal_Videos_Anomaly/Normal_Videos734_x264.mp4 1147',\n",
       " 'Training_Normal_Videos_Anomaly/Normal_Videos477_x264.mp4 1984',\n",
       " 'Training_Normal_Videos_Anomaly/Normal_Videos233_x264.mp4 886',\n",
       " 'Training_Normal_Videos_Anomaly/Normal_Videos849_x264.mp4 3222',\n",
       " 'Training_Normal_Videos_Anomaly/Normal_Videos657_x264.mp4 1464',\n",
       " 'Training_Normal_Videos_Anomaly/Normal_Videos861_x264.mp4 1399',\n",
       " 'Training_Normal_Videos_Anomaly/Normal_Videos562_x264.mp4 27041',\n",
       " 'Training_Normal_Videos_Anomaly/Normal_Videos581_x264.mp4 2655',\n",
       " 'Stealing/Stealing061_x264.mp4 2373',\n",
       " 'Training_Normal_Videos_Anomaly/Normal_Videos091_x264.mp4 19737',\n",
       " 'Training_Normal_Videos_Anomaly/Normal_Videos760_x264.mp4 1782',\n",
       " 'Training_Normal_Videos_Anomaly/Normal_Videos784_x264.mp4 955',\n",
       " 'Training_Normal_Videos_Anomaly/Normal_Videos555_x264.mp4 814',\n",
       " 'Assault/Assault030_x264.mp4 1735',\n",
       " 'Training_Normal_Videos_Anomaly/Normal_Videos746_x264.mp4 441',\n",
       " 'Arson/Arson015_x264.mp4 10198',\n",
       " 'Stealing/Stealing091_x264.mp4 567',\n",
       " 'Training_Normal_Videos_Anomaly/Normal_Videos737_x264.mp4 1066',\n",
       " 'Training_Normal_Videos_Anomaly/Normal_Videos383_x264.mp4 1878',\n",
       " 'Training_Normal_Videos_Anomaly/Normal_Videos421_x264.mp4 2543',\n",
       " 'Stealing/Stealing003_x264.mp4 3544',\n",
       " 'Training_Normal_Videos_Anomaly/Normal_Videos827_x264.mp4 1199',\n",
       " 'Training_Normal_Videos_Anomaly/Normal_Videos664_x264.mp4 498',\n",
       " 'Training_Normal_Videos_Anomaly/Normal_Videos274_x264.mp4 8979',\n",
       " 'Training_Normal_Videos_Anomaly/Normal_Videos268_x264.mp4 1938',\n",
       " 'Training_Normal_Videos_Anomaly/Normal_Videos561_x264.mp4 21330',\n",
       " 'Stealing/Stealing072_x264.mp4 11582',\n",
       " 'Training_Normal_Videos_Anomaly/Normal_Videos155_x264.mp4 178',\n",
       " 'Training_Normal_Videos_Anomaly/Normal_Videos731_x264.mp4 221',\n",
       " 'Training_Normal_Videos_Anomaly/Normal_Videos212_x264.mp4 14998',\n",
       " 'Training_Normal_Videos_Anomaly/Normal_Videos039_x264.mp4 1760',\n",
       " 'Training_Normal_Videos_Anomaly/Normal_Videos400_x264.mp4 685',\n",
       " 'Training_Normal_Videos_Anomaly/Normal_Videos850_x264.mp4 2131',\n",
       " 'Training_Normal_Videos_Anomaly/Normal_Videos756_x264.mp4 594',\n",
       " 'Training_Normal_Videos_Anomaly/Normal_Videos332_x264.mp4 16595',\n",
       " 'Assault/Assault035_x264.mp4 865',\n",
       " 'Training_Normal_Videos_Anomaly/Normal_Videos095_x264.mp4 1015',\n",
       " 'Assault/Assault052_x264.mp4 757',\n",
       " 'Training_Normal_Videos_Anomaly/Normal_Videos007_x264.mp4 953',\n",
       " 'Stealing/Stealing004_x264.mp4 6622',\n",
       " 'Training_Normal_Videos_Anomaly/Normal_Videos719_x264.mp4 2828',\n",
       " 'Assault/Assault036_x264.mp4 880',\n",
       " 'Training_Normal_Videos_Anomaly/Normal_Videos592_x264.mp4 2539',\n",
       " 'Training_Normal_Videos_Anomaly/Normal_Videos635_x264.mp4 1098',\n",
       " 'Assault/Assault048_x264.mp4 1769',\n",
       " 'Assault/Assault034_x264.mp4 2287',\n",
       " 'Training_Normal_Videos_Anomaly/Normal_Videos482_x264.mp4 4307',\n",
       " 'Training_Normal_Videos_Anomaly/Normal_Videos463_x264.mp4 10347',\n",
       " 'Training_Normal_Videos_Anomaly/Normal_Videos029_x264.mp4 837',\n",
       " 'Training_Normal_Videos_Anomaly/Normal_Videos074_x264.mp4 2008',\n",
       " 'Training_Normal_Videos_Anomaly/Normal_Videos380_x264.mp4 3177',\n",
       " 'Training_Normal_Videos_Anomaly/Normal_Videos521_x264.mp4 50800',\n",
       " 'Training_Normal_Videos_Anomaly/Normal_Videos537_x264.mp4 4047',\n",
       " 'Training_Normal_Videos_Anomaly/Normal_Videos577_x264.mp4 7701',\n",
       " 'Stealing/Stealing060_x264.mp4 1488',\n",
       " 'Training_Normal_Videos_Anomaly/Normal_Videos528_x264.mp4 1176',\n",
       " 'Training_Normal_Videos_Anomaly/Normal_Videos266_x264.mp4 23251',\n",
       " 'Training_Normal_Videos_Anomaly/Normal_Videos114_x264.mp4 1755',\n",
       " 'Training_Normal_Videos_Anomaly/Normal_Videos572_x264.mp4 4396',\n",
       " 'Stealing/Stealing047_x264.mp4 1320',\n",
       " 'Training_Normal_Videos_Anomaly/Normal_Videos601_x264.mp4 2441',\n",
       " 'Training_Normal_Videos_Anomaly/Normal_Videos619_x264.mp4 8935',\n",
       " 'Training_Normal_Videos_Anomaly/Normal_Videos319_x264.mp4 1858',\n",
       " 'Stealing/Stealing089_x264.mp4 12912',\n",
       " 'Training_Normal_Videos_Anomaly/Normal_Videos499_x264.mp4 2291',\n",
       " 'Training_Normal_Videos_Anomaly/Normal_Videos420_x264.mp4 10887',\n",
       " 'Training_Normal_Videos_Anomaly/Normal_Videos131_x264.mp4 1862',\n",
       " 'Stealing/Stealing075_x264.mp4 5592',\n",
       " 'Stealing/Stealing078_x264.mp4 2554',\n",
       " 'Training_Normal_Videos_Anomaly/Normal_Videos647_x264.mp4 2304',\n",
       " 'Training_Normal_Videos_Anomaly/Normal_Videos624_x264.mp4 4168',\n",
       " 'Training_Normal_Videos_Anomaly/Normal_Videos088_x264.mp4 2445',\n",
       " 'Arson/Arson048_x264.mp4 379',\n",
       " 'Stealing/Stealing015_x264.mp4 1768',\n",
       " 'Training_Normal_Videos_Anomaly/Normal_Videos546_x264.mp4 3327',\n",
       " 'Training_Normal_Videos_Anomaly/Normal_Videos488_x264.mp4 1128',\n",
       " 'Stealing/Stealing035_x264.mp4 11122',\n",
       " 'Training_Normal_Videos_Anomaly/Normal_Videos588_x264.mp4 7555',\n",
       " 'Training_Normal_Videos_Anomaly/Normal_Videos243_x264.mp4 1795',\n",
       " 'Training_Normal_Videos_Anomaly/Normal_Videos753_x264.mp4 854',\n",
       " 'Training_Normal_Videos_Anomaly/Normal_Videos513_x264.mp4 685',\n",
       " 'Stealing/Stealing113_x264.mp4 1547',\n",
       " 'Training_Normal_Videos_Anomaly/Normal_Videos658_x264.mp4 433',\n",
       " 'Training_Normal_Videos_Anomaly/Normal_Videos215_x264.mp4 851',\n",
       " 'Training_Normal_Videos_Anomaly/Normal_Videos578_x264.mp4 4391',\n",
       " 'Training_Normal_Videos_Anomaly/Normal_Videos646_x264.mp4 4291',\n",
       " 'Training_Normal_Videos_Anomaly/Normal_Videos767_x264.mp4 1770',\n",
       " 'Training_Normal_Videos_Anomaly/Normal_Videos638_x264.mp4 30708',\n",
       " 'Training_Normal_Videos_Anomaly/Normal_Videos694_x264.mp4 21940',\n",
       " 'Training_Normal_Videos_Anomaly/Normal_Videos242_x264.mp4 1759',\n",
       " 'Training_Normal_Videos_Anomaly/Normal_Videos668_x264.mp4 2773',\n",
       " 'Training_Normal_Videos_Anomaly/Normal_Videos464_x264.mp4 5097',\n",
       " 'Stealing/Stealing071_x264.mp4 929',\n",
       " 'Training_Normal_Videos_Anomaly/Normal_Videos491_x264.mp4 12010',\n",
       " 'Training_Normal_Videos_Anomaly/Normal_Videos218_x264.mp4 1201',\n",
       " 'Training_Normal_Videos_Anomaly/Normal_Videos730_x264.mp4 698',\n",
       " 'Assault/Assault038_x264.mp4 105',\n",
       " 'Training_Normal_Videos_Anomaly/Normal_Videos430_x264.mp4 766',\n",
       " 'Training_Normal_Videos_Anomaly/Normal_Videos415_x264.mp4 26934',\n",
       " 'Training_Normal_Videos_Anomaly/Normal_Videos739_x264.mp4 1270',\n",
       " 'Training_Normal_Videos_Anomaly/Normal_Videos865_x264.mp4 1621',\n",
       " 'Training_Normal_Videos_Anomaly/Normal_Videos858_x264.mp4 1187',\n",
       " 'Training_Normal_Videos_Anomaly/Normal_Videos769_x264.mp4 53968',\n",
       " 'Training_Normal_Videos_Anomaly/Normal_Videos626_x264.mp4 8959',\n",
       " 'Training_Normal_Videos_Anomaly/Normal_Videos921_x264.mp4 1691',\n",
       " 'Training_Normal_Videos_Anomaly/Normal_Videos235_x264.mp4 2212',\n",
       " 'Stealing/Stealing081_x264.mp4 1227',\n",
       " 'Stealing/Stealing013_x264.mp4 9219',\n",
       " 'Training_Normal_Videos_Anomaly/Normal_Videos309_x264.mp4 8968',\n",
       " 'Training_Normal_Videos_Anomaly/Normal_Videos608_x264.mp4 8910',\n",
       " 'Training_Normal_Videos_Anomaly/Normal_Videos483_x264.mp4 4228',\n",
       " 'Training_Normal_Videos_Anomaly/Normal_Videos727_x264.mp4 1101',\n",
       " 'Stealing/Stealing044_x264.mp4 3178',\n",
       " 'Training_Normal_Videos_Anomaly/Normal_Videos379_x264.mp4 1050',\n",
       " 'Training_Normal_Videos_Anomaly/Normal_Videos178_x264.mp4 996',\n",
       " 'Stealing/Stealing098_x264.mp4 3435',\n",
       " 'Training_Normal_Videos_Anomaly/Normal_Videos171_x264.mp4 42568',\n",
       " 'Training_Normal_Videos_Anomaly/Normal_Videos741_x264.mp4 5583',\n",
       " 'Training_Normal_Videos_Anomaly/Normal_Videos683_x264.mp4 23398',\n",
       " 'Arson/Arson008_x264.mp4 1188',\n",
       " 'Training_Normal_Videos_Anomaly/Normal_Videos830_x264.mp4 2784',\n",
       " 'Training_Normal_Videos_Anomaly/Normal_Videos794_x264.mp4 4492',\n",
       " 'Training_Normal_Videos_Anomaly/Normal_Videos584_x264.mp4 8951',\n",
       " 'Stealing/Stealing012_x264.mp4 2681',\n",
       " 'Assault/Assault017_x264.mp4 2418',\n",
       " 'Training_Normal_Videos_Anomaly/Normal_Videos743_x264.mp4 5707',\n",
       " 'Training_Normal_Videos_Anomaly/Normal_Videos028_x264.mp4 9593',\n",
       " 'Training_Normal_Videos_Anomaly/Normal_Videos396_x264.mp4 79819',\n",
       " 'Training_Normal_Videos_Anomaly/Normal_Videos791_x264.mp4 3568',\n",
       " 'Training_Normal_Videos_Anomaly/Normal_Videos286_x264.mp4 297',\n",
       " 'Training_Normal_Videos_Anomaly/Normal_Videos355_x264.mp4 856',\n",
       " 'Training_Normal_Videos_Anomaly/Normal_Videos326_x264.mp4 1440',\n",
       " 'Training_Normal_Videos_Anomaly/Normal_Videos435_x264.mp4 1116',\n",
       " 'Training_Normal_Videos_Anomaly/Normal_Videos735_x264.mp4 1105',\n",
       " 'Training_Normal_Videos_Anomaly/Normal_Videos864_x264.mp4 1117',\n",
       " 'Training_Normal_Videos_Anomaly/Normal_Videos804_x264.mp4 2693',\n",
       " 'Training_Normal_Videos_Anomaly/Normal_Videos839_x264.mp4 279',\n",
       " 'Training_Normal_Videos_Anomaly/Normal_Videos262_x264.mp4 7146',\n",
       " 'Training_Normal_Videos_Anomaly/Normal_Videos613_x264.mp4 5907',\n",
       " 'Training_Normal_Videos_Anomaly/Normal_Videos677_x264.mp4 2586',\n",
       " 'Training_Normal_Videos_Anomaly/Normal_Videos116_x264.mp4 4499',\n",
       " 'Training_Normal_Videos_Anomaly/Normal_Videos629_x264.mp4 4454',\n",
       " 'Training_Normal_Videos_Anomaly/Normal_Videos250_x264.mp4 3561',\n",
       " 'Training_Normal_Videos_Anomaly/Normal_Videos090_x264.mp4 41058',\n",
       " 'Arson/Arson032_x264.mp4 2749',\n",
       " 'Training_Normal_Videos_Anomaly/Normal_Videos519_x264.mp4 1713',\n",
       " 'Arson/Arson052_x264.mp4 4734',\n",
       " 'Training_Normal_Videos_Anomaly/Normal_Videos322_x264.mp4 2179',\n",
       " 'Training_Normal_Videos_Anomaly/Normal_Videos382_x264.mp4 1627',\n",
       " 'Training_Normal_Videos_Anomaly/Normal_Videos328_x264.mp4 1477',\n",
       " 'Training_Normal_Videos_Anomaly/Normal_Videos136_x264.mp4 106203',\n",
       " 'Assault/Assault019_x264.mp4 2506',\n",
       " 'Training_Normal_Videos_Anomaly/Normal_Videos490_x264.mp4 8169',\n",
       " 'Training_Normal_Videos_Anomaly/Normal_Videos343_x264.mp4 828',\n",
       " 'Training_Normal_Videos_Anomaly/Normal_Videos127_x264.mp4 1757',\n",
       " 'Training_Normal_Videos_Anomaly/Normal_Videos567_x264.mp4 5427',\n",
       " 'Training_Normal_Videos_Anomaly/Normal_Videos108_x264.mp4 1740',\n",
       " 'Arson/Arson029_x264.mp4 1317',\n",
       " 'Training_Normal_Videos_Anomaly/Normal_Videos299_x264.mp4 1387',\n",
       " 'Training_Normal_Videos_Anomaly/Normal_Videos426_x264.mp4 1733',\n",
       " 'Training_Normal_Videos_Anomaly/Normal_Videos502_x264.mp4 871',\n",
       " 'Training_Normal_Videos_Anomaly/Normal_Videos125_x264.mp4 3089',\n",
       " 'Assault/Assault033_x264.mp4 1246',\n",
       " 'Training_Normal_Videos_Anomaly/Normal_Videos674_x264.mp4 5578',\n",
       " 'Training_Normal_Videos_Anomaly/Normal_Videos749_x264.mp4 918',\n",
       " 'Training_Normal_Videos_Anomaly/Normal_Videos076_x264.mp4 3040',\n",
       " 'Training_Normal_Videos_Anomaly/Normal_Videos527_x264.mp4 1145',\n",
       " 'Assault/Assault037_x264.mp4 3176',\n",
       " 'Training_Normal_Videos_Anomaly/Normal_Videos673_x264.mp4 2605',\n",
       " 'Training_Normal_Videos_Anomaly/Normal_Videos161_x264.mp4 5848',\n",
       " 'Training_Normal_Videos_Anomaly/Normal_Videos688_x264.mp4 78452',\n",
       " 'Training_Normal_Videos_Anomaly/Normal_Videos471_x264.mp4 191413',\n",
       " 'Arson/Arson034_x264.mp4 2356',\n",
       " 'Stealing/Stealing010_x264.mp4 3001',\n",
       " 'Training_Normal_Videos_Anomaly/Normal_Videos495_x264.mp4 489',\n",
       " 'Training_Normal_Videos_Anomaly/Normal_Videos275_x264.mp4 2268',\n",
       " 'Assault/Assault024_x264.mp4 414',\n",
       " 'Training_Normal_Videos_Anomaly/Normal_Videos214_x264.mp4 11227',\n",
       " 'Stealing/Stealing104_x264.mp4 3119',\n",
       " 'Training_Normal_Videos_Anomaly/Normal_Videos188_x264.mp4 8957',\n",
       " 'Training_Normal_Videos_Anomaly/Normal_Videos489_x264.mp4 4084',\n",
       " 'Training_Normal_Videos_Anomaly/Normal_Videos497_x264.mp4 1895',\n",
       " 'Training_Normal_Videos_Anomaly/Normal_Videos296_x264.mp4 571',\n",
       " 'Training_Normal_Videos_Anomaly/Normal_Videos507_x264.mp4 2028',\n",
       " 'Training_Normal_Videos_Anomaly/Normal_Videos542_x264.mp4 6305',\n",
       " 'Training_Normal_Videos_Anomaly/Normal_Videos348_x264.mp4 1374',\n",
       " 'Stealing/Stealing101_x264.mp4 2512',\n",
       " 'Training_Normal_Videos_Anomaly/Normal_Videos680_x264.mp4 625',\n",
       " 'Training_Normal_Videos_Anomaly/Normal_Videos241_x264.mp4 2309',\n",
       " 'Training_Normal_Videos_Anomaly/Normal_Videos757_x264.mp4 967']"
      ]
     },
     "execution_count": 20,
     "metadata": {},
     "output_type": "execute_result"
    }
   ],
   "source": [
    "train_list"
   ]
  },
  {
   "cell_type": "code",
   "execution_count": 68,
   "id": "b31a8a9f",
   "metadata": {},
   "outputs": [],
   "source": [
    "for data in new_test_df['video_name']:\n",
    "    video, total_frame = os.path.join(VIDEO_PATH, data.split()[0]), data.split()[1]\n",
    "    # print(os.path.exists(video))   \n",
    "    # print(total_frame, str(int(total_frame) + 16))\n",
    "    frame_num = int(total_frame) - 32\n",
    "    if os.path.exists(video):\n",
    "        test_list.append(data.split()[0] + ' ' + str(frame_num))\n",
    "    else:\n",
    "        continue"
   ]
  },
  {
   "cell_type": "code",
   "execution_count": 69,
   "id": "e23412b8",
   "metadata": {
    "scrolled": true
   },
   "outputs": [
    {
     "data": {
      "text/plain": [
       "(749, 167)"
      ]
     },
     "execution_count": 69,
     "metadata": {},
     "output_type": "execute_result"
    }
   ],
   "source": [
    "len(train_list), len(test_list)"
   ]
  },
  {
   "cell_type": "code",
   "execution_count": 70,
   "id": "9d2b3113",
   "metadata": {},
   "outputs": [
    {
     "data": {
      "text/plain": [
       "['Arson/Arson022_x264.mp4 8608',\n",
       " 'Testing_Normal_Videos_Anomaly/Normal_Videos_872_x264.mp4 498',\n",
       " 'Testing_Normal_Videos_Anomaly/Normal_Videos_873_x264.mp4 1767',\n",
       " 'Testing_Normal_Videos_Anomaly/Normal_Videos_248_x264.mp4 1108',\n",
       " 'Testing_Normal_Videos_Anomaly/Normal_Videos_478_x264.mp4 4470',\n",
       " 'Testing_Normal_Videos_Anomaly/Normal_Videos_891_x264.mp4 1768',\n",
       " 'Testing_Normal_Videos_Anomaly/Normal_Videos_828_x264.mp4 898',\n",
       " 'Testing_Normal_Videos_Anomaly/Normal_Videos_224_x264.mp4 6926',\n",
       " 'Testing_Normal_Videos_Anomaly/Normal_Videos_015_x264.mp4 448',\n",
       " 'Testing_Normal_Videos_Anomaly/Normal_Videos_210_x264.mp4 5376',\n",
       " 'Testing_Normal_Videos_Anomaly/Normal_Videos_247_x264.mp4 8179',\n",
       " 'Testing_Normal_Videos_Anomaly/Normal_Videos_881_x264.mp4 192',\n",
       " 'Stealing/Stealing036_x264.mp4 2471',\n",
       " 'Testing_Normal_Videos_Anomaly/Normal_Videos_024_x264.mp4 1044',\n",
       " 'Testing_Normal_Videos_Anomaly/Normal_Videos_930_x264.mp4 3155',\n",
       " 'Testing_Normal_Videos_Anomaly/Normal_Videos_940_x264.mp4 35985',\n",
       " 'Testing_Normal_Videos_Anomaly/Normal_Videos_943_x264.mp4 988',\n",
       " 'Testing_Normal_Videos_Anomaly/Normal_Videos_936_x264.mp4 1118',\n",
       " 'Testing_Normal_Videos_Anomaly/Normal_Videos_901_x264.mp4 1138',\n",
       " 'Testing_Normal_Videos_Anomaly/Normal_Videos_900_x264.mp4 1423',\n",
       " 'Testing_Normal_Videos_Anomaly/Normal_Videos_905_x264.mp4 1164',\n",
       " 'Testing_Normal_Videos_Anomaly/Normal_Videos_360_x264.mp4 952',\n",
       " 'Testing_Normal_Videos_Anomaly/Normal_Videos_597_x264.mp4 2197',\n",
       " 'Testing_Normal_Videos_Anomaly/Normal_Videos_745_x264.mp4 273',\n",
       " 'Arson/Arson018_x264.mp4 810',\n",
       " 'Testing_Normal_Videos_Anomaly/Normal_Videos_042_x264.mp4 3122',\n",
       " 'Testing_Normal_Videos_Anomaly/Normal_Videos_801_x264.mp4 2712',\n",
       " 'Testing_Normal_Videos_Anomaly/Normal_Videos_867_x264.mp4 592',\n",
       " 'Testing_Normal_Videos_Anomaly/Normal_Videos_880_x264.mp4 18022',\n",
       " 'Testing_Normal_Videos_Anomaly/Normal_Videos_003_x264.mp4 2790',\n",
       " 'Testing_Normal_Videos_Anomaly/Normal_Videos_892_x264.mp4 1738',\n",
       " 'Testing_Normal_Videos_Anomaly/Normal_Videos_725_x264.mp4 888',\n",
       " 'Testing_Normal_Videos_Anomaly/Normal_Videos_933_x264.mp4 1739',\n",
       " 'Testing_Normal_Videos_Anomaly/Normal_Videos_937_x264.mp4 1118',\n",
       " 'Testing_Normal_Videos_Anomaly/Normal_Videos_906_x264.mp4 644',\n",
       " 'Testing_Normal_Videos_Anomaly/Normal_Videos_910_x264.mp4 535',\n",
       " 'Arson/Arson011_x264.mp4 1234',\n",
       " 'Testing_Normal_Videos_Anomaly/Normal_Videos_885_x264.mp4 442',\n",
       " 'Testing_Normal_Videos_Anomaly/Normal_Videos_048_x264.mp4 1618',\n",
       " 'Testing_Normal_Videos_Anomaly/Normal_Videos_935_x264.mp4 107962',\n",
       " 'Testing_Normal_Videos_Anomaly/Normal_Videos_778_x264.mp4 1230',\n",
       " 'Testing_Normal_Videos_Anomaly/Normal_Videos_903_x264.mp4 758',\n",
       " 'Testing_Normal_Videos_Anomaly/Normal_Videos_871_x264.mp4 4326',\n",
       " 'Testing_Normal_Videos_Anomaly/Normal_Videos_576_x264.mp4 11243',\n",
       " 'Testing_Normal_Videos_Anomaly/Normal_Videos_896_x264.mp4 2271',\n",
       " 'Testing_Normal_Videos_Anomaly/Normal_Videos_025_x264.mp4 570',\n",
       " 'Testing_Normal_Videos_Anomaly/Normal_Videos_656_x264.mp4 1783',\n",
       " 'Assault/Assault011_x264.mp4 2256',\n",
       " 'Testing_Normal_Videos_Anomaly/Normal_Videos_898_x264.mp4 973',\n",
       " 'Testing_Normal_Videos_Anomaly/Normal_Videos_050_x264.mp4 4166',\n",
       " 'Testing_Normal_Videos_Anomaly/Normal_Videos_175_x264.mp4 8815',\n",
       " 'Testing_Normal_Videos_Anomaly/Normal_Videos_874_x264.mp4 4194',\n",
       " 'Testing_Normal_Videos_Anomaly/Normal_Videos_033_x264.mp4 1648',\n",
       " 'Testing_Normal_Videos_Anomaly/Normal_Videos_758_x264.mp4 1557',\n",
       " 'Testing_Normal_Videos_Anomaly/Normal_Videos_401_x264.mp4 1594',\n",
       " 'Testing_Normal_Videos_Anomaly/Normal_Videos_884_x264.mp4 8997',\n",
       " 'Arson/Arson035_x264.mp4 1405',\n",
       " 'Testing_Normal_Videos_Anomaly/Normal_Videos_868_x264.mp4 2369',\n",
       " 'Testing_Normal_Videos_Anomaly/Normal_Videos_365_x264.mp4 6594',\n",
       " 'Assault/Assault006_x264.mp4 8064',\n",
       " 'Testing_Normal_Videos_Anomaly/Normal_Videos_882_x264.mp4 1622',\n",
       " 'Testing_Normal_Videos_Anomaly/Normal_Videos_944_x264.mp4 7138',\n",
       " 'Testing_Normal_Videos_Anomaly/Normal_Videos_150_x264.mp4 832',\n",
       " 'Testing_Normal_Videos_Anomaly/Normal_Videos_877_x264.mp4 9993',\n",
       " 'Testing_Normal_Videos_Anomaly/Normal_Videos_879_x264.mp4 1111',\n",
       " 'Testing_Normal_Videos_Anomaly/Normal_Videos_887_x264.mp4 7598',\n",
       " 'Testing_Normal_Videos_Anomaly/Normal_Videos_909_x264.mp4 838',\n",
       " 'Assault/Assault010_x264.mp4 16145',\n",
       " 'Testing_Normal_Videos_Anomaly/Normal_Videos_924_x264.mp4 107965',\n",
       " 'Testing_Normal_Videos_Anomaly/Normal_Videos_100_x264.mp4 595',\n",
       " 'Testing_Normal_Videos_Anomaly/Normal_Videos_006_x264.mp4 418',\n",
       " 'Stealing/Stealing058_x264.mp4 4959',\n",
       " 'Testing_Normal_Videos_Anomaly/Normal_Videos_780_x264.mp4 1989',\n",
       " 'Testing_Normal_Videos_Anomaly/Normal_Videos_782_x264.mp4 5511',\n",
       " 'Testing_Normal_Videos_Anomaly/Normal_Videos_289_x264.mp4 831',\n",
       " 'Testing_Normal_Videos_Anomaly/Normal_Videos_883_x264.mp4 294',\n",
       " 'Testing_Normal_Videos_Anomaly/Normal_Videos_019_x264.mp4 2811',\n",
       " 'Testing_Normal_Videos_Anomaly/Normal_Videos_928_x264.mp4 886',\n",
       " 'Testing_Normal_Videos_Anomaly/Normal_Videos_798_x264.mp4 5969',\n",
       " 'Arson/Arson010_x264.mp4 3127',\n",
       " 'Testing_Normal_Videos_Anomaly/Normal_Videos_217_x264.mp4 1785',\n",
       " 'Testing_Normal_Videos_Anomaly/Normal_Videos_911_x264.mp4 744',\n",
       " 'Testing_Normal_Videos_Anomaly/Normal_Videos_929_x264.mp4 892',\n",
       " 'Testing_Normal_Videos_Anomaly/Normal_Videos_686_x264.mp4 2378',\n",
       " 'Arson/Arson009_x264.mp4 711',\n",
       " 'Testing_Normal_Videos_Anomaly/Normal_Videos_894_x264.mp4 2543',\n",
       " 'Testing_Normal_Videos_Anomaly/Normal_Videos_603_x264.mp4 3245',\n",
       " 'Testing_Normal_Videos_Anomaly/Normal_Videos_641_x264.mp4 3568',\n",
       " 'Testing_Normal_Videos_Anomaly/Normal_Videos_932_x264.mp4 1752',\n",
       " 'Testing_Normal_Videos_Anomaly/Normal_Videos_934_x264.mp4 1733',\n",
       " 'Testing_Normal_Videos_Anomaly/Normal_Videos_710_x264.mp4 1765',\n",
       " 'Testing_Normal_Videos_Anomaly/Normal_Videos_831_x264.mp4 416',\n",
       " 'Testing_Normal_Videos_Anomaly/Normal_Videos_129_x264.mp4 435',\n",
       " 'Testing_Normal_Videos_Anomaly/Normal_Videos_939_x264.mp4 769',\n",
       " 'Testing_Normal_Videos_Anomaly/Normal_Videos_866_x264.mp4 1166',\n",
       " 'Testing_Normal_Videos_Anomaly/Normal_Videos_014_x264.mp4 1467',\n",
       " 'Testing_Normal_Videos_Anomaly/Normal_Videos_717_x264.mp4 1223',\n",
       " 'Testing_Normal_Videos_Anomaly/Normal_Videos_902_x264.mp4 1352',\n",
       " 'Testing_Normal_Videos_Anomaly/Normal_Videos_941_x264.mp4 1988',\n",
       " 'Testing_Normal_Videos_Anomaly/Normal_Videos_317_x264.mp4 897',\n",
       " 'Testing_Normal_Videos_Anomaly/Normal_Videos_870_x264.mp4 569',\n",
       " 'Testing_Normal_Videos_Anomaly/Normal_Videos_908_x264.mp4 857',\n",
       " 'Testing_Normal_Videos_Anomaly/Normal_Videos_606_x264.mp4 1201',\n",
       " 'Testing_Normal_Videos_Anomaly/Normal_Videos_059_x264.mp4 1803',\n",
       " 'Testing_Normal_Videos_Anomaly/Normal_Videos_886_x264.mp4 2715',\n",
       " 'Testing_Normal_Videos_Anomaly/Normal_Videos_439_x264.mp4 4194',\n",
       " 'Testing_Normal_Videos_Anomaly/Normal_Videos_913_x264.mp4 577',\n",
       " 'Testing_Normal_Videos_Anomaly/Normal_Videos_923_x264.mp4 18192',\n",
       " 'Testing_Normal_Videos_Anomaly/Normal_Videos_182_x264.mp4 4062',\n",
       " 'Testing_Normal_Videos_Anomaly/Normal_Videos_067_x264.mp4 1036',\n",
       " 'Testing_Normal_Videos_Anomaly/Normal_Videos_931_x264.mp4 1733',\n",
       " 'Testing_Normal_Videos_Anomaly/Normal_Videos_034_x264.mp4 1286',\n",
       " 'Testing_Normal_Videos_Anomaly/Normal_Videos_203_x264.mp4 2539',\n",
       " 'Testing_Normal_Videos_Anomaly/Normal_Videos_453_x264.mp4 5290',\n",
       " 'Testing_Normal_Videos_Anomaly/Normal_Videos_246_x264.mp4 4961',\n",
       " 'Testing_Normal_Videos_Anomaly/Normal_Videos_895_x264.mp4 2998',\n",
       " 'Testing_Normal_Videos_Anomaly/Normal_Videos_907_x264.mp4 566',\n",
       " 'Testing_Normal_Videos_Anomaly/Normal_Videos_875_x264.mp4 2533',\n",
       " 'Testing_Normal_Videos_Anomaly/Normal_Videos_251_x264.mp4 373',\n",
       " 'Testing_Normal_Videos_Anomaly/Normal_Videos_912_x264.mp4 714',\n",
       " 'Testing_Normal_Videos_Anomaly/Normal_Videos_927_x264.mp4 1601',\n",
       " 'Testing_Normal_Videos_Anomaly/Normal_Videos_056_x264.mp4 1540',\n",
       " 'Testing_Normal_Videos_Anomaly/Normal_Videos_696_x264.mp4 3593',\n",
       " 'Testing_Normal_Videos_Anomaly/Normal_Videos_196_x264.mp4 1972',\n",
       " 'Testing_Normal_Videos_Anomaly/Normal_Videos_722_x264.mp4 8699',\n",
       " 'Testing_Normal_Videos_Anomaly/Normal_Videos_063_x264.mp4 323',\n",
       " 'Testing_Normal_Videos_Anomaly/Normal_Videos_893_x264.mp4 6342',\n",
       " 'Testing_Normal_Videos_Anomaly/Normal_Videos_027_x264.mp4 4890',\n",
       " 'Testing_Normal_Videos_Anomaly/Normal_Videos_938_x264.mp4 4795',\n",
       " 'Testing_Normal_Videos_Anomaly/Normal_Videos_869_x264.mp4 2369',\n",
       " 'Testing_Normal_Videos_Anomaly/Normal_Videos_041_x264.mp4 1237',\n",
       " 'Testing_Normal_Videos_Anomaly/Normal_Videos_452_x264.mp4 411',\n",
       " 'Testing_Normal_Videos_Anomaly/Normal_Videos_915_x264.mp4 1213',\n",
       " 'Testing_Normal_Videos_Anomaly/Normal_Videos_621_x264.mp4 4770',\n",
       " 'Testing_Normal_Videos_Anomaly/Normal_Videos_189_x264.mp4 705',\n",
       " 'Testing_Normal_Videos_Anomaly/Normal_Videos_914_x264.mp4 848',\n",
       " 'Testing_Normal_Videos_Anomaly/Normal_Videos_926_x264.mp4 1764',\n",
       " 'Testing_Normal_Videos_Anomaly/Normal_Videos_904_x264.mp4 876',\n",
       " 'Stealing/Stealing079_x264.mp4 5814',\n",
       " 'Testing_Normal_Videos_Anomaly/Normal_Videos_352_x264.mp4 5371',\n",
       " 'Testing_Normal_Videos_Anomaly/Normal_Videos_878_x264.mp4 233',\n",
       " 'Testing_Normal_Videos_Anomaly/Normal_Videos_345_x264.mp4 177',\n",
       " 'Testing_Normal_Videos_Anomaly/Normal_Videos_010_x264.mp4 1021',\n",
       " 'Arson/Arson016_x264.mp4 1763',\n",
       " 'Testing_Normal_Videos_Anomaly/Normal_Videos_704_x264.mp4 1662',\n",
       " 'Testing_Normal_Videos_Anomaly/Normal_Videos_310_x264.mp4 2486',\n",
       " 'Testing_Normal_Videos_Anomaly/Normal_Videos_890_x264.mp4 3547',\n",
       " 'Arson/Arson007_x264.mp4 6220',\n",
       " 'Testing_Normal_Videos_Anomaly/Normal_Videos_018_x264.mp4 1149',\n",
       " 'Testing_Normal_Videos_Anomaly/Normal_Videos_876_x264.mp4 319',\n",
       " 'Testing_Normal_Videos_Anomaly/Normal_Videos_925_x264.mp4 7694',\n",
       " 'Testing_Normal_Videos_Anomaly/Normal_Videos_888_x264.mp4 542',\n",
       " 'Testing_Normal_Videos_Anomaly/Normal_Videos_417_x264.mp4 1045',\n",
       " 'Testing_Normal_Videos_Anomaly/Normal_Videos_051_x264.mp4 2326',\n",
       " 'Arson/Arson041_x264.mp4 3722',\n",
       " 'Testing_Normal_Videos_Anomaly/Normal_Videos_889_x264.mp4 282',\n",
       " 'Testing_Normal_Videos_Anomaly/Normal_Videos_897_x264.mp4 843',\n",
       " 'Testing_Normal_Videos_Anomaly/Normal_Videos_168_x264.mp4 1708',\n",
       " 'Testing_Normal_Videos_Anomaly/Normal_Videos_634_x264.mp4 13427',\n",
       " 'Stealing/Stealing019_x264.mp4 4879',\n",
       " 'Stealing/Stealing062_x264.mp4 1528',\n",
       " 'Testing_Normal_Videos_Anomaly/Normal_Videos_783_x264.mp4 9558',\n",
       " 'Testing_Normal_Videos_Anomaly/Normal_Videos_702_x264.mp4 2491',\n",
       " 'Testing_Normal_Videos_Anomaly/Normal_Videos_781_x264.mp4 3943',\n",
       " 'Testing_Normal_Videos_Anomaly/Normal_Videos_070_x264.mp4 961',\n",
       " 'Testing_Normal_Videos_Anomaly/Normal_Videos_312_x264.mp4 1229',\n",
       " 'Testing_Normal_Videos_Anomaly/Normal_Videos_899_x264.mp4 1348']"
      ]
     },
     "execution_count": 70,
     "metadata": {},
     "output_type": "execute_result"
    }
   ],
   "source": [
    "test_list"
   ]
  },
  {
   "cell_type": "code",
   "execution_count": 71,
   "id": "354ea411",
   "metadata": {},
   "outputs": [],
   "source": [
    "new_train_df = pd.DataFrame(train_list, columns=['video_name'])\n",
    "new_test_df = pd.DataFrame(test_list, columns=['video_name'])"
   ]
  },
  {
   "cell_type": "code",
   "execution_count": 72,
   "id": "32349abd",
   "metadata": {},
   "outputs": [],
   "source": [
    "new_train_list = []\n",
    "new_test_list = [] "
   ]
  },
  {
   "cell_type": "markdown",
   "id": "e0a74178",
   "metadata": {},
   "source": [
    "#### 평균 프레임 개수 구하기 "
   ]
  },
  {
   "cell_type": "code",
   "execution_count": null,
   "id": "567b8689",
   "metadata": {},
   "outputs": [],
   "source": []
  },
  {
   "cell_type": "code",
   "execution_count": 73,
   "id": "cdeb79f5",
   "metadata": {},
   "outputs": [
    {
     "data": {
      "text/plain": [
       "9115"
      ]
     },
     "execution_count": 73,
     "metadata": {},
     "output_type": "execute_result"
    }
   ],
   "source": [
    "calc = 0 \n",
    "for data in new_train_df['video_name']:\n",
    "    # print(int(data.split()[1]))\n",
    "    calc += int(data.split()[1])\n",
    "\n",
    "calc // len(train_list)"
   ]
  },
  {
   "cell_type": "markdown",
   "id": "6730b1f5",
   "metadata": {},
   "source": [
    "#### 총 프레임 개수가 12,000 이하인 영상에 대해서만 추출 "
   ]
  },
  {
   "cell_type": "code",
   "execution_count": 74,
   "id": "d44e4cc1",
   "metadata": {},
   "outputs": [],
   "source": [
    "train_list = []\n",
    "test_list = [] "
   ]
  },
  {
   "cell_type": "code",
   "execution_count": 75,
   "id": "4febedfc",
   "metadata": {},
   "outputs": [],
   "source": [
    "for data in new_train_df['video_name']:\n",
    "    if int(data.split()[1]) <= 12000:\n",
    "        train_list.append(data)\n",
    "        \n",
    "for data in new_test_df['video_name']:\n",
    "    if int(data.split()[1]) <= 12000:\n",
    "        test_list.append(data)"
   ]
  },
  {
   "cell_type": "code",
   "execution_count": 76,
   "id": "79f4cf1b",
   "metadata": {},
   "outputs": [
    {
     "data": {
      "text/plain": [
       "(668, 160)"
      ]
     },
     "execution_count": 76,
     "metadata": {},
     "output_type": "execute_result"
    }
   ],
   "source": [
    "len(train_list), len(test_list)"
   ]
  },
  {
   "cell_type": "code",
   "execution_count": 77,
   "id": "85d23e38",
   "metadata": {},
   "outputs": [],
   "source": [
    "new_train_df = pd.DataFrame(train_list, columns=['video_name'])\n",
    "new_test_df = pd.DataFrame(test_list, columns=['video_name'])"
   ]
  },
  {
   "cell_type": "code",
   "execution_count": 78,
   "id": "a9dded57",
   "metadata": {},
   "outputs": [
    {
     "data": {
      "text/plain": [
       "(668, 160)"
      ]
     },
     "execution_count": 78,
     "metadata": {},
     "output_type": "execute_result"
    }
   ],
   "source": [
    "len(new_train_df), len(new_test_df)"
   ]
  },
  {
   "cell_type": "markdown",
   "id": "3a7d73a7",
   "metadata": {},
   "source": [
    "### 프레임 끊기 "
   ]
  },
  {
   "cell_type": "code",
   "execution_count": 79,
   "id": "367c0600",
   "metadata": {},
   "outputs": [],
   "source": [
    "new_train_list = []\n",
    "new_test_list = []"
   ]
  },
  {
   "cell_type": "code",
   "execution_count": 80,
   "id": "884a26ec",
   "metadata": {},
   "outputs": [],
   "source": [
    "def make_train_list(video_name, total_frame, ab_type):\n",
    "    global new_train_list\n",
    "    \n",
    "    ab_num = return_idx(ab_type.split('/')[0])\n",
    "    for idx in range(0, total_frame, 16):\n",
    "        val = str(ab_type) + '/' + video_name + ' ' + str(idx) + ' ' + str(ab_num)\n",
    "        new_train_list.append(val)"
   ]
  },
  {
   "cell_type": "code",
   "execution_count": 81,
   "id": "e55fa380",
   "metadata": {},
   "outputs": [
    {
     "data": {
      "text/plain": [
       "(668, 160)"
      ]
     },
     "execution_count": 81,
     "metadata": {},
     "output_type": "execute_result"
    }
   ],
   "source": [
    "len(new_train_df), len(new_test_df)"
   ]
  },
  {
   "cell_type": "code",
   "execution_count": 82,
   "id": "c9268a32",
   "metadata": {},
   "outputs": [
    {
     "data": {
      "text/plain": [
       "0    Training_Normal_Videos_Anomaly/Normal_Videos82...\n",
       "1                      Assault/Assault046_x264.mp4 920\n",
       "2    Training_Normal_Videos_Anomaly/Normal_Videos81...\n",
       "3    Training_Normal_Videos_Anomaly/Normal_Videos35...\n",
       "4    Training_Normal_Videos_Anomaly/Normal_Videos31...\n",
       "Name: video_name, dtype: object"
      ]
     },
     "execution_count": 82,
     "metadata": {},
     "output_type": "execute_result"
    }
   ],
   "source": [
    "new_train_df['video_name'].head()"
   ]
  },
  {
   "cell_type": "code",
   "execution_count": 83,
   "id": "ed06bda5",
   "metadata": {},
   "outputs": [],
   "source": [
    "for idx, data in enumerate(new_train_df['video_name']):\n",
    "    ab_type = data.split('/')[0]\n",
    "    video_name, total_frame = data.split('/')[1].split(' ')[0], data.split('/')[1].split(' ')[1]\n",
    "    make_train_list(video_name, int(total_frame), ab_type)"
   ]
  },
  {
   "cell_type": "code",
   "execution_count": 84,
   "id": "d8ab9140",
   "metadata": {},
   "outputs": [],
   "source": [
    "def make_test_list(video_name, total_frame, ab_type):\n",
    "    global new_test_list\n",
    "    \n",
    "    ab_num = return_idx(ab_type.split('/')[0])\n",
    "    for idx in range(0, total_frame, 16):\n",
    "        val = str(ab_type) + '/' + video_name + ' ' + str(idx) + ' ' + str(ab_num)\n",
    "        # print(idx)\n",
    "        new_test_list.append(val)"
   ]
  },
  {
   "cell_type": "code",
   "execution_count": 85,
   "id": "14a2a921",
   "metadata": {},
   "outputs": [],
   "source": [
    "for idx, data in enumerate(new_test_df['video_name']):\n",
    "    ab_type = data.split('/')[0]\n",
    "    video_name, total_frame = data.split('/')[1].split(' ')[0], data.split('/')[1].split(' ')[1]\n",
    "    make_test_list(video_name, int(total_frame), ab_type)"
   ]
  },
  {
   "cell_type": "code",
   "execution_count": 86,
   "id": "e1a1bc21",
   "metadata": {},
   "outputs": [
    {
     "data": {
      "text/plain": [
       "(119115, 25085)"
      ]
     },
     "execution_count": 86,
     "metadata": {},
     "output_type": "execute_result"
    }
   ],
   "source": [
    "len(new_train_list), len(new_test_list)"
   ]
  },
  {
   "cell_type": "code",
   "execution_count": 87,
   "id": "d4d4f171",
   "metadata": {},
   "outputs": [],
   "source": [
    "train_df = pd.DataFrame(new_train_list, columns=columns, index=None)\n",
    "test_df = pd.DataFrame(new_test_list, columns=columns, index=None)"
   ]
  },
  {
   "cell_type": "code",
   "execution_count": 88,
   "id": "1dee71b1",
   "metadata": {},
   "outputs": [
    {
     "data": {
      "text/plain": [
       "(119115, 25085)"
      ]
     },
     "execution_count": 88,
     "metadata": {},
     "output_type": "execute_result"
    }
   ],
   "source": [
    "len(train_df), len(test_df)"
   ]
  },
  {
   "cell_type": "code",
   "execution_count": 89,
   "id": "5c6d939d",
   "metadata": {},
   "outputs": [
    {
     "data": {
      "text/plain": [
       "'Training_Normal_Videos_Anomaly/Normal_Videos826_x264.mp4 16 3'"
      ]
     },
     "execution_count": 89,
     "metadata": {},
     "output_type": "execute_result"
    }
   ],
   "source": [
    "train_df['video_name'][1]"
   ]
  },
  {
   "cell_type": "code",
   "execution_count": 90,
   "id": "e9363961",
   "metadata": {},
   "outputs": [
    {
     "data": {
      "text/plain": [
       "'Training_Normal_Videos_Anomaly/Normal_Videos826_x264.mp4 0 3'"
      ]
     },
     "execution_count": 90,
     "metadata": {},
     "output_type": "execute_result"
    }
   ],
   "source": [
    "train_df['video_name'][0]"
   ]
  },
  {
   "cell_type": "code",
   "execution_count": 91,
   "id": "c05ab4a0",
   "metadata": {},
   "outputs": [],
   "source": [
    "train_df.to_csv(os.path.join(ANNOTATION_PATH,'Anomaly_Train.lst'), header=0, index=None)\n",
    "test_df.to_csv(os.path.join(ANNOTATION_PATH,'Anomaly_Test.lst'), header=0, index=None)"
   ]
  },
  {
   "cell_type": "code",
   "execution_count": null,
   "id": "cf28f75c",
   "metadata": {},
   "outputs": [],
   "source": []
  },
  {
   "cell_type": "markdown",
   "id": "395bd4b1",
   "metadata": {},
   "source": [
    "### Test Dataset file 만들기 "
   ]
  },
  {
   "cell_type": "code",
   "execution_count": 75,
   "id": "763d091b",
   "metadata": {},
   "outputs": [],
   "source": [
    "ANNOTATION_PATH = '/home/modeling/UCF_CRIME/data/annotation' \n",
    "DATA_PATH = '/home/modeling/UCF_CRIME/data'\n",
    "VIDEO_PATH = os.path.join(DATA_PATH, 'video')"
   ]
  },
  {
   "cell_type": "code",
   "execution_count": 76,
   "id": "c8786c95",
   "metadata": {},
   "outputs": [
    {
     "name": "stdout",
     "output_type": "stream",
     "text": [
      "/home/modeling/UCF_CRIME/script\r\n"
     ]
    }
   ],
   "source": [
    "!pwd"
   ]
  },
  {
   "cell_type": "code",
   "execution_count": 77,
   "id": "cb2949c5",
   "metadata": {
    "scrolled": true
   },
   "outputs": [],
   "source": [
    "test_df = pd.read_csv(os.path.join(ANNOTATION_PATH, 'Test_Annotation.txt'), header=None, names=columns)"
   ]
  },
  {
   "cell_type": "code",
   "execution_count": 78,
   "id": "e96e20fb",
   "metadata": {},
   "outputs": [
    {
     "data": {
      "text/html": [
       "<div>\n",
       "<style scoped>\n",
       "    .dataframe tbody tr th:only-of-type {\n",
       "        vertical-align: middle;\n",
       "    }\n",
       "\n",
       "    .dataframe tbody tr th {\n",
       "        vertical-align: top;\n",
       "    }\n",
       "\n",
       "    .dataframe thead th {\n",
       "        text-align: right;\n",
       "    }\n",
       "</style>\n",
       "<table border=\"1\" class=\"dataframe\">\n",
       "  <thead>\n",
       "    <tr style=\"text-align: right;\">\n",
       "      <th></th>\n",
       "      <th>video_name</th>\n",
       "    </tr>\n",
       "  </thead>\n",
       "  <tbody>\n",
       "    <tr>\n",
       "      <th>0</th>\n",
       "      <td>Arson/Arson022_x264.mp4 8640 Arson 3500 4000 -...</td>\n",
       "    </tr>\n",
       "    <tr>\n",
       "      <th>1</th>\n",
       "      <td>RoadAccidents/RoadAccidents021_x264.mp4 155 Ro...</td>\n",
       "    </tr>\n",
       "    <tr>\n",
       "      <th>2</th>\n",
       "      <td>Testing_Normal_Videos_Anomaly/Normal_Videos_87...</td>\n",
       "    </tr>\n",
       "    <tr>\n",
       "      <th>3</th>\n",
       "      <td>Testing_Normal_Videos_Anomaly/Normal_Videos_87...</td>\n",
       "    </tr>\n",
       "    <tr>\n",
       "      <th>4</th>\n",
       "      <td>Explosion/Explosion008_x264.mp4 1748 Explosion...</td>\n",
       "    </tr>\n",
       "    <tr>\n",
       "      <th>...</th>\n",
       "      <td>...</td>\n",
       "    </tr>\n",
       "    <tr>\n",
       "      <th>285</th>\n",
       "      <td>Testing_Normal_Videos_Anomaly/Normal_Videos_31...</td>\n",
       "    </tr>\n",
       "    <tr>\n",
       "      <th>286</th>\n",
       "      <td>Shooting/Shooting034_x264.mp4 1409 Shooting 96...</td>\n",
       "    </tr>\n",
       "    <tr>\n",
       "      <th>287</th>\n",
       "      <td>Testing_Normal_Videos_Anomaly/Normal_Videos_89...</td>\n",
       "    </tr>\n",
       "    <tr>\n",
       "      <th>288</th>\n",
       "      <td>Burglary/Burglary079_x264.mp4 14853 Burglary 7...</td>\n",
       "    </tr>\n",
       "    <tr>\n",
       "      <th>289</th>\n",
       "      <td>Explosion/Explosion017_x264.mp4 1643 Explosion...</td>\n",
       "    </tr>\n",
       "  </tbody>\n",
       "</table>\n",
       "<p>290 rows × 1 columns</p>\n",
       "</div>"
      ],
      "text/plain": [
       "                                            video_name\n",
       "0    Arson/Arson022_x264.mp4 8640 Arson 3500 4000 -...\n",
       "1    RoadAccidents/RoadAccidents021_x264.mp4 155 Ro...\n",
       "2    Testing_Normal_Videos_Anomaly/Normal_Videos_87...\n",
       "3    Testing_Normal_Videos_Anomaly/Normal_Videos_87...\n",
       "4    Explosion/Explosion008_x264.mp4 1748 Explosion...\n",
       "..                                                 ...\n",
       "285  Testing_Normal_Videos_Anomaly/Normal_Videos_31...\n",
       "286  Shooting/Shooting034_x264.mp4 1409 Shooting 96...\n",
       "287  Testing_Normal_Videos_Anomaly/Normal_Videos_89...\n",
       "288  Burglary/Burglary079_x264.mp4 14853 Burglary 7...\n",
       "289  Explosion/Explosion017_x264.mp4 1643 Explosion...\n",
       "\n",
       "[290 rows x 1 columns]"
      ]
     },
     "execution_count": 78,
     "metadata": {},
     "output_type": "execute_result"
    }
   ],
   "source": [
    "test_df"
   ]
  },
  {
   "cell_type": "markdown",
   "id": "ff4f56eb",
   "metadata": {},
   "source": [
    "### 이상행동이 있는 동영상 리스트 만들기 "
   ]
  },
  {
   "cell_type": "code",
   "execution_count": 79,
   "id": "768182f8",
   "metadata": {},
   "outputs": [],
   "source": [
    "test_video = []"
   ]
  },
  {
   "cell_type": "code",
   "execution_count": 80,
   "id": "d69f796c",
   "metadata": {},
   "outputs": [],
   "source": [
    "for data in test_df['video_name']:\n",
    "    if data.split()[3] == '-1' and data.split()[4] == '-1':\n",
    "        continue \n",
    "    test_video.append(data)    "
   ]
  },
  {
   "cell_type": "code",
   "execution_count": 81,
   "id": "2c336345",
   "metadata": {},
   "outputs": [
    {
     "data": {
      "text/plain": [
       "140"
      ]
     },
     "execution_count": 81,
     "metadata": {},
     "output_type": "execute_result"
    }
   ],
   "source": [
    "len(test_video)"
   ]
  },
  {
   "cell_type": "code",
   "execution_count": 82,
   "id": "75cb6ab1",
   "metadata": {},
   "outputs": [
    {
     "data": {
      "text/plain": [
       "['Arson/Arson022_x264.mp4 8640 Arson 3500 4000 -1 -1 ',\n",
       " 'RoadAccidents/RoadAccidents021_x264.mp4 155 RoadAccidents 30 90 -1 -1 ',\n",
       " 'Explosion/Explosion008_x264.mp4 1748 Explosion 1005 1245 -1 -1 ',\n",
       " 'Shooting/Shooting015_x264.mp4 1713 Shooting 855 1715 -1 -1 ',\n",
       " 'Shooting/Shooting021_x264.mp4 1275 Shooting 480 630 -1 -1 ',\n",
       " 'Explosion/Explosion016_x264.mp4 963 Explosion 180 450 -1 -1 ',\n",
       " 'Shooting/Shooting007_x264.mp4 1430 Shooting 45 165 -1 -1 ',\n",
       " 'Burglary/Burglary005_x264.mp4 7729 Burglary 4710 5040 -1 -1 ',\n",
       " 'Explosion/Explosion021_x264.mp4 782 Explosion 135 270 -1 -1 ',\n",
       " 'Shooting/Shooting008_x264.mp4 1625 Shooting 75 315 -1 -1 ',\n",
       " 'Arrest/Arrest039_x264.mp4 15835 Arrest 7215 10335 -1 -1 ',\n",
       " 'Stealing/Stealing036_x264.mp4 2503 Stealing 1260 1590 -1 -1 ',\n",
       " 'Vandalism/Vandalism015_x264.mp4 2982 Vandalism 2010 2700 -1 -1 ',\n",
       " 'Shoplifting/Shoplifting005_x264.mp4 1967 Shoplifting 720 930 -1 -1 ',\n",
       " 'Burglary/Burglary033_x264.mp4 1259 Burglary 60 330 -1 -1 ',\n",
       " 'Explosion/Explosion029_x264.mp4 2410 Explosion 1830 2020 -1 -1 ',\n",
       " 'Shoplifting/Shoplifting016_x264.mp4 1483 Shoplifting 630 720 -1 -1 ',\n",
       " 'Shoplifting/Shoplifting029_x264.mp4 2176 Shoplifting 1020 1470 -1 -1 ',\n",
       " 'Fighting/Fighting047_x264.mp4 4459 Fighting 200 1830 -1 -1 ',\n",
       " 'Shooting/Shooting028_x264.mp4 1898 Shooting 285 555 -1 -1 ',\n",
       " 'Burglary/Burglary092_x264.mp4 625 Burglary 240 420 -1 -1 ',\n",
       " 'Explosion/Explosion011_x264.mp4 1571 Explosion 795 945 -1 -1 ',\n",
       " 'Arson/Arson018_x264.mp4 842 Arson 270 600 -1 -1 ',\n",
       " 'Shoplifting/Shoplifting007_x264.mp4 5124 Shoplifting 550 760 4630 4920 ',\n",
       " 'RoadAccidents/RoadAccidents123_x264.mp4 1005 RoadAccidents 130 210 -1 -1 ',\n",
       " 'Shooting/Shooting002_x264.mp4 1206 Shooting 1020 1100 -1 -1 ',\n",
       " 'Robbery/Robbery137_x264.mp4 2193 Robbery 135 1950 -1 -1 ',\n",
       " 'Shooting/Shooting013_x264.mp4 1073 Shooting 860 945 -1 -1 ',\n",
       " 'Shooting/Shooting010_x264.mp4 2641 Shooting 1095 1260 -1 -1 ',\n",
       " 'RoadAccidents/RoadAccidents122_x264.mp4 647 RoadAccidents 300 360 -1 -1 ',\n",
       " 'RoadAccidents/RoadAccidents010_x264.mp4 528 RoadAccidents 230 270 -1 -1 ',\n",
       " 'RoadAccidents/RoadAccidents012_x264.mp4 468 RoadAccidents 250 390 -1 -1 ',\n",
       " 'Burglary/Burglary037_x264.mp4 1920 Burglary 240 390 540 1800 ',\n",
       " 'Arson/Arson011_x264.mp4 1266 Arson 150 420 680 1267 ',\n",
       " 'Shooting/Shooting033_x264.mp4 3630 Shooting 1680 2000 -1 -1 ',\n",
       " 'Shoplifting/Shoplifting027_x264.mp4 1873 Shoplifting 1080 1160 1470 1710 ',\n",
       " 'Burglary/Burglary024_x264.mp4 3605 Burglary 60 1230 -1 -1 ',\n",
       " 'Shooting/Shooting004_x264.mp4 1793 Shooting 500 660 -1 -1 ',\n",
       " 'Shoplifting/Shoplifting033_x264.mp4 899 Shoplifting 630 750 -1 -1 ',\n",
       " 'Shoplifting/Shoplifting034_x264.mp4 11937 Shoplifting 7350 7470 -1 -1 ',\n",
       " 'Assault/Assault011_x264.mp4 2288 Assault 375 960 -1 -1 ',\n",
       " 'RoadAccidents/RoadAccidents017_x264.mp4 243 RoadAccidents 60 130 -1 -1 ',\n",
       " 'Arson/Arson035_x264.mp4 1437 Arson 600 900 -1 -1 ',\n",
       " 'Shoplifting/Shoplifting020_x264.mp4 5770 Shoplifting 2340 2460 -1 -1 ',\n",
       " 'Robbery/Robbery048_x264.mp4 1409 Robbery 450 930 -1 -1 ',\n",
       " 'Assault/Assault006_x264.mp4 8096 Assault 1185 8096 -1 -1 ',\n",
       " 'Vandalism/Vandalism007_x264.mp4 1146 Vandalism 240 750 -1 -1 ',\n",
       " 'Arrest/Arrest030_x264.mp4 8642 Arrest 5535 7200 -1 -1 ',\n",
       " 'RoadAccidents/RoadAccidents001_x264.mp4 1366 RoadAccidents 210 300 -1 -1 ',\n",
       " 'Explosion/Explosion010_x264.mp4 2498 Explosion 285 1080 -1 -1 ',\n",
       " 'Assault/Assault010_x264.mp4 16177 Assault 11330 11680 12260 12930 ',\n",
       " 'Shoplifting/Shoplifting015_x264.mp4 2256 Shoplifting 2010 2160 -1 -1 ',\n",
       " 'Arrest/Arrest001_x264.mp4 2374 Arrest 1185 1485 -1 -1 ',\n",
       " 'Stealing/Stealing058_x264.mp4 4991 Stealing 570 3660 -1 -1 ',\n",
       " 'Fighting/Fighting033_x264.mp4 1105 Fighting 570 840 -1 -1 ',\n",
       " 'RoadAccidents/RoadAccidents125_x264.mp4 1771 RoadAccidents 490 600 -1 -1 ',\n",
       " 'Robbery/Robbery106_x264.mp4 1197 Robbery 480 600 -1 -1 ',\n",
       " 'RoadAccidents/RoadAccidents022_x264.mp4 716 RoadAccidents 120 220 -1 -1 ',\n",
       " 'Explosion/Explosion027_x264.mp4 776 Explosion 105 180 -1 -1 ',\n",
       " 'Fighting/Fighting003_x264.mp4 3102 Fighting 1820 3103 -1 -1 ',\n",
       " 'Explosion/Explosion022_x264.mp4 3594 Explosion 2230 2420 -1 -1 ',\n",
       " 'Shoplifting/Shoplifting017_x264.mp4 457 Shoplifting 360 420 -1 -1 ',\n",
       " 'RoadAccidents/RoadAccidents019_x264.mp4 1314 RoadAccidents 750 900 -1 -1 ',\n",
       " 'Explosion/Explosion007_x264.mp4 16289 Explosion 1590 2280 -1 -1 ',\n",
       " 'Burglary/Burglary021_x264.mp4 1537 Burglary 60 200 840 1340 ',\n",
       " 'Abuse/Abuse030_x264.mp4 1544 Abuse 1275 1360 -1 -1 ',\n",
       " 'RoadAccidents/RoadAccidents002_x264.mp4 347 RoadAccidents 240 300 -1 -1 ',\n",
       " 'Burglary/Burglary035_x264.mp4 4050 Burglary 1 1740 -1 -1 ',\n",
       " 'Explosion/Explosion036_x264.mp4 5327 Explosion 1950 2070 -1 -1 ',\n",
       " 'Explosion/Explosion025_x264.mp4 505 Explosion 260 420 -1 -1 ',\n",
       " 'Arson/Arson010_x264.mp4 3159 Arson 885 1230 -1 -1 ',\n",
       " 'Shoplifting/Shoplifting010_x264.mp4 2736 Shoplifting 750 920 1550 1970 ',\n",
       " 'Arson/Arson009_x264.mp4 743 Arson 220 315 -1 -1 ',\n",
       " 'Shooting/Shooting032_x264.mp4 21681 Shooting 7995 8205 -1 -1 ',\n",
       " 'RoadAccidents/RoadAccidents121_x264.mp4 1835 RoadAccidents 330 390 -1 -1 ',\n",
       " 'Vandalism/Vandalism028_x264.mp4 4495 Vandalism 1830 1980 2400 2670 ',\n",
       " 'Shoplifting/Shoplifting031_x264.mp4 447 Shoplifting 120 330 -1 -1 ',\n",
       " 'RoadAccidents/RoadAccidents131_x264.mp4 1524 RoadAccidents 180 240 -1 -1 ',\n",
       " 'Explosion/Explosion020_x264.mp4 1291 Explosion 60 270 -1 -1 ',\n",
       " 'Robbery/Robbery050_x264.mp4 1701 Robbery 495 1410 -1 -1 ',\n",
       " 'Shooting/Shooting048_x264.mp4 2741 Shooting 1410 1730 -1 -1 ',\n",
       " 'Shoplifting/Shoplifting001_x264.mp4 4344 Shoplifting 1550 2000 -1 -1 ',\n",
       " 'Shoplifting/Shoplifting044_x264.mp4 14555 Shoplifting 11070 11250 -1 -1 ',\n",
       " 'Shooting/Shooting024_x264.mp4 2003 Shooting 720 1305 -1 -1 ',\n",
       " 'Shoplifting/Shoplifting021_x264.mp4 3551 Shoplifting 2070 2220 -1 -1 ',\n",
       " 'Explosion/Explosion002_x264.mp4 4013 Explosion 1500 2100 -1 -1 ',\n",
       " 'Burglary/Burglary032_x264.mp4 15795 Burglary 1290 3690 -1 -1 ',\n",
       " 'Explosion/Explosion013_x264.mp4 3317 Explosion 2520 2970 -1 -1 ',\n",
       " 'RoadAccidents/RoadAccidents128_x264.mp4 565 RoadAccidents 90 200 -1 -1 ',\n",
       " 'Shooting/Shooting026_x264.mp4 1403 Shooting 195 600 -1 -1 ',\n",
       " 'Burglary/Burglary017_x264.mp4 2113 Burglary 150 600 -1 -1 ',\n",
       " 'RoadAccidents/RoadAccidents132_x264.mp4 1862 RoadAccidents 220 320 -1 -1 ',\n",
       " 'Shoplifting/Shoplifting004_x264.mp4 6673 Shoplifting 2200 4900 -1 -1 ',\n",
       " 'Shooting/Shooting037_x264.mp4 305 Shooting 140 260 -1 -1 ',\n",
       " 'Vandalism/Vandalism017_x264.mp4 1011 Vandalism 270 330 780 840 ',\n",
       " 'RoadAccidents/RoadAccidents016_x264.mp4 2192 RoadAccidents 530 720 -1 -1 ',\n",
       " 'Explosion/Explosion039_x264.mp4 998 Explosion 60 150 -1 -1 ',\n",
       " 'Fighting/Fighting018_x264.mp4 1389 Fighting 80 420 -1 -1 ',\n",
       " 'Shoplifting/Shoplifting028_x264.mp4 1357 Shoplifting 570 840 -1 -1 ',\n",
       " 'RoadAccidents/RoadAccidents124_x264.mp4 1495 RoadAccidents 250 420 -1 -1 ',\n",
       " 'Shoplifting/Shoplifting039_x264.mp4 2803 Shoplifting 2190 2340 -1 -1 ',\n",
       " 'Explosion/Explosion004_x264.mp4 1902 Explosion 75 225 -1 -1 ',\n",
       " 'Burglary/Burglary061_x264.mp4 8990 Burglary 4200 5700 -1 -1 ',\n",
       " 'Fighting/Fighting042_x264.mp4 2237 Fighting 290 1200 -1 -1 ',\n",
       " 'RoadAccidents/RoadAccidents004_x264.mp4 389 RoadAccidents 140 189 -1 -1 ',\n",
       " 'Shooting/Shooting011_x264.mp4 4003 Shooting 1480 1750 -1 -1 ',\n",
       " 'Shooting/Shooting046_x264.mp4 5088 Shooting 4005 4230 4760 5088 ',\n",
       " 'Shooting/Shooting022_x264.mp4 4554 Shooting 2850 3300 -1 -1 ',\n",
       " 'Shoplifting/Shoplifting037_x264.mp4 1386 Shoplifting 1140 1200 -1 -1 ',\n",
       " 'Stealing/Stealing079_x264.mp4 5846 Stealing 2550 3210 3510 4500 ',\n",
       " 'RoadAccidents/RoadAccidents009_x264.mp4 918 RoadAccidents 210 240 -1 -1 ',\n",
       " 'RoadAccidents/RoadAccidents127_x264.mp4 2580 RoadAccidents 2160 2300 -1 -1 ',\n",
       " 'Shoplifting/Shoplifting022_x264.mp4 2191 Shoplifting 270 420 1440 1560 ',\n",
       " 'Arrest/Arrest007_x264.mp4 3144 Arrest 1530 2160 -1 -1 ',\n",
       " 'Explosion/Explosion035_x264.mp4 2865 Explosion 250 350 -1 -1 ',\n",
       " 'Arson/Arson016_x264.mp4 1795 Arson 1000 1796 -1 -1 ',\n",
       " 'RoadAccidents/RoadAccidents133_x264.mp4 673 RoadAccidents 270 450 -1 -1 ',\n",
       " 'Shooting/Shooting018_x264.mp4 1799 Shooting 315 480 -1 -1 ',\n",
       " 'Arson/Arson007_x264.mp4 6252 Arson 2250 5700 -1 -1 ',\n",
       " 'Arrest/Arrest024_x264.mp4 3629 Arrest 1005 3105 -1 -1 ',\n",
       " 'RoadAccidents/RoadAccidents011_x264.mp4 2159 RoadAccidents 260 300 -1 -1 ',\n",
       " 'Explosion/Explosion028_x264.mp4 1705 Explosion 280 700 -1 -1 ',\n",
       " 'Shooting/Shooting043_x264.mp4 1874 Shooting 945 1230 -1 -1 ',\n",
       " 'Burglary/Burglary018_x264.mp4 1125 Burglary 720 1050 -1 -1 ',\n",
       " 'Shoplifting/Shoplifting049_x264.mp4 2149 Shoplifting 1020 1350 -1 -1 ',\n",
       " 'Abuse/Abuse028_x264.mp4 1412 Abuse 165 240 -1 -1 ',\n",
       " 'Explosion/Explosion043_x264.mp4 7646 Explosion 4460 4600 -1 -1 ',\n",
       " 'Arson/Arson041_x264.mp4 3754 Arson 2130 3615 -1 -1 ',\n",
       " 'Shooting/Shooting047_x264.mp4 8287 Shooting 2160 3900 4860 6600 ',\n",
       " 'RoadAccidents/RoadAccidents020_x264.mp4 1773 RoadAccidents 610 730 -1 -1 ',\n",
       " 'Robbery/Robbery102_x264.mp4 1827 Robbery 1080 1560 -1 -1 ',\n",
       " 'Stealing/Stealing019_x264.mp4 4911 Stealing 2730 2790 4170 4350 ',\n",
       " 'Stealing/Stealing062_x264.mp4 1560 Stealing 360 1050 -1 -1 ',\n",
       " 'Vandalism/Vandalism036_x264.mp4 1443 Vandalism 540 780 990 1080 ',\n",
       " 'Explosion/Explosion033_x264.mp4 3154 Explosion 970 1350 1550 3156 ',\n",
       " 'Shooting/Shooting019_x264.mp4 2756 Shooting 1020 1455 -1 -1 ',\n",
       " 'Burglary/Burglary076_x264.mp4 12923 Burglary 1590 4300 -1 -1 ',\n",
       " 'Shooting/Shooting034_x264.mp4 1409 Shooting 960 1050 -1 -1 ',\n",
       " 'Burglary/Burglary079_x264.mp4 14853 Burglary 7750 10710 -1 -1 ',\n",
       " 'Explosion/Explosion017_x264.mp4 1643 Explosion 990 1440 -1 -1 ']"
      ]
     },
     "execution_count": 82,
     "metadata": {},
     "output_type": "execute_result"
    }
   ],
   "source": [
    "test_video"
   ]
  },
  {
   "cell_type": "code",
   "execution_count": 83,
   "id": "073f30c6",
   "metadata": {},
   "outputs": [],
   "source": [
    "our_test_video = []"
   ]
  },
  {
   "cell_type": "code",
   "execution_count": 84,
   "id": "947bb8f4",
   "metadata": {},
   "outputs": [
    {
     "data": {
      "text/plain": [
       "['Explosion017_x264.mp4', '1643', 'Explosion', '990', '1440', '-1', '-1']"
      ]
     },
     "execution_count": 84,
     "metadata": {},
     "output_type": "execute_result"
    }
   ],
   "source": [
    "video_name = data.split('/')[1].split()\n",
    "\n",
    "video_name"
   ]
  },
  {
   "cell_type": "code",
   "execution_count": 85,
   "id": "81d3894c",
   "metadata": {},
   "outputs": [],
   "source": [
    "def return_idx(ab_type):\n",
    "    if ab_type == 'Arson':\n",
    "        return 0\n",
    "    elif ab_type == 'Assault':\n",
    "        return 1 \n",
    "    elif ab_type == 'Stealing':\n",
    "        return 2 \n",
    "    elif ab_type == 'Training_Normal_Videos_Anomaly' or ab_type == 'Testing_Normal_Videos_Anomaly':\n",
    "        return 3 "
   ]
  },
  {
   "cell_type": "code",
   "execution_count": 86,
   "id": "b4674b70",
   "metadata": {},
   "outputs": [],
   "source": [
    "anomal_list = ['Arson', 'Assault', 'Stealing', 'Training_Normal_Videos_Anomaly', 'Testing_Normal_Videos_Anomaly']\n",
    "flag = False\n",
    "\n",
    "for data in test_video:\n",
    "    ab_type, video_name = data.split('/')\n",
    "    #print(video_name)\n",
    "    start_frame, end_frame = video_name.split()[3], video_name.split()[4]\n",
    "#     if video_name.split()[5] != '-1' and video_name.split()[6] != '-1':\n",
    "#         flag = True \n",
    "#         start_frame_2, end_frame_2 = video_name.split()[5],  video_name.split()[6]\n",
    "    \n",
    "    label = return_idx(ab_type)\n",
    "\n",
    "    if ab_type in anomal_list:\n",
    "        our_test_video.append(ab_type + '/' + video_name.split()[0] + ' ' + str(start_frame) + ' ' + str(end_frame) + ' ' + str(label))"
   ]
  },
  {
   "cell_type": "code",
   "execution_count": 87,
   "id": "6abe3673",
   "metadata": {},
   "outputs": [
    {
     "data": {
      "text/plain": [
       "['Arson/Arson022_x264.mp4 3500 4000 0',\n",
       " 'Stealing/Stealing036_x264.mp4 1260 1590 2',\n",
       " 'Arson/Arson018_x264.mp4 270 600 0',\n",
       " 'Arson/Arson011_x264.mp4 150 420 0',\n",
       " 'Assault/Assault011_x264.mp4 375 960 1',\n",
       " 'Arson/Arson035_x264.mp4 600 900 0',\n",
       " 'Assault/Assault006_x264.mp4 1185 8096 1',\n",
       " 'Assault/Assault010_x264.mp4 11330 11680 1',\n",
       " 'Stealing/Stealing058_x264.mp4 570 3660 2',\n",
       " 'Arson/Arson010_x264.mp4 885 1230 0',\n",
       " 'Arson/Arson009_x264.mp4 220 315 0',\n",
       " 'Stealing/Stealing079_x264.mp4 2550 3210 2',\n",
       " 'Arson/Arson016_x264.mp4 1000 1796 0',\n",
       " 'Arson/Arson007_x264.mp4 2250 5700 0',\n",
       " 'Arson/Arson041_x264.mp4 2130 3615 0',\n",
       " 'Stealing/Stealing019_x264.mp4 2730 2790 2',\n",
       " 'Stealing/Stealing062_x264.mp4 360 1050 2']"
      ]
     },
     "execution_count": 87,
     "metadata": {},
     "output_type": "execute_result"
    }
   ],
   "source": [
    "our_test_video"
   ]
  },
  {
   "cell_type": "code",
   "execution_count": 147,
   "id": "84e10f11",
   "metadata": {},
   "outputs": [],
   "source": [
    "test_video = pd.DataFrame(our_test_video, index=None)"
   ]
  },
  {
   "cell_type": "code",
   "execution_count": 149,
   "id": "3a0542f3",
   "metadata": {},
   "outputs": [],
   "source": [
    "test_video.to_csv(os.path.join(ANNOTATION_PATH, 'test_video.csv'), header=None, index=None)"
   ]
  },
  {
   "cell_type": "code",
   "execution_count": 88,
   "id": "2fa250e3",
   "metadata": {},
   "outputs": [
    {
     "name": "stdout",
     "output_type": "stream",
     "text": [
      "/home/modeling/UCF_CRIME/script\r\n"
     ]
    }
   ],
   "source": [
    "!pwd"
   ]
  },
  {
   "cell_type": "markdown",
   "id": "4582d3f5",
   "metadata": {},
   "source": [
    "#### 폴더 만들기"
   ]
  },
  {
   "cell_type": "code",
   "execution_count": 89,
   "id": "6f290741",
   "metadata": {
    "scrolled": true
   },
   "outputs": [
    {
     "name": "stdout",
     "output_type": "stream",
     "text": [
      "/home/modeling/UCF_CRIME/data/data/TEST_DATA/Arson/Arson022_x264\n"
     ]
    },
    {
     "ename": "FileExistsError",
     "evalue": "[Errno 17] File exists: '/home/modeling/UCF_CRIME/data/data/TEST_DATA/Arson/Arson022_x264'",
     "output_type": "error",
     "traceback": [
      "\u001b[0;31m---------------------------------------------------------------------------\u001b[0m",
      "\u001b[0;31mNameError\u001b[0m                                 Traceback (most recent call last)",
      "Input \u001b[0;32mIn [89]\u001b[0m, in \u001b[0;36m<module>\u001b[0;34m\u001b[0m\n\u001b[1;32m      5\u001b[0m \u001b[38;5;28;01mtry\u001b[39;00m: \n\u001b[0;32m----> 6\u001b[0m     \u001b[38;5;28;01massert\u001b[39;00m(os\u001b[38;5;241m.\u001b[39mpath\u001b[38;5;241m.\u001b[39mexists(\u001b[43mfolder_name\u001b[49m))\n\u001b[1;32m      7\u001b[0m \u001b[38;5;28;01mexcept\u001b[39;00m:\n",
      "\u001b[0;31mNameError\u001b[0m: name 'folder_name' is not defined",
      "\nDuring handling of the above exception, another exception occurred:\n",
      "\u001b[0;31mFileExistsError\u001b[0m                           Traceback (most recent call last)",
      "Input \u001b[0;32mIn [89]\u001b[0m, in \u001b[0;36m<module>\u001b[0;34m\u001b[0m\n\u001b[1;32m      6\u001b[0m     \u001b[38;5;28;01massert\u001b[39;00m(os\u001b[38;5;241m.\u001b[39mpath\u001b[38;5;241m.\u001b[39mexists(folder_name))\n\u001b[1;32m      7\u001b[0m \u001b[38;5;28;01mexcept\u001b[39;00m:\n\u001b[0;32m----> 8\u001b[0m     \u001b[43mos\u001b[49m\u001b[38;5;241;43m.\u001b[39;49m\u001b[43mmakedirs\u001b[49m\u001b[43m(\u001b[49m\u001b[43mfile_name\u001b[49m\u001b[43m)\u001b[49m\n",
      "File \u001b[0;32m/usr/lib/python3.8/os.py:223\u001b[0m, in \u001b[0;36mmakedirs\u001b[0;34m(name, mode, exist_ok)\u001b[0m\n\u001b[1;32m    221\u001b[0m         \u001b[38;5;28;01mreturn\u001b[39;00m\n\u001b[1;32m    222\u001b[0m \u001b[38;5;28;01mtry\u001b[39;00m:\n\u001b[0;32m--> 223\u001b[0m     \u001b[43mmkdir\u001b[49m\u001b[43m(\u001b[49m\u001b[43mname\u001b[49m\u001b[43m,\u001b[49m\u001b[43m \u001b[49m\u001b[43mmode\u001b[49m\u001b[43m)\u001b[49m\n\u001b[1;32m    224\u001b[0m \u001b[38;5;28;01mexcept\u001b[39;00m \u001b[38;5;167;01mOSError\u001b[39;00m:\n\u001b[1;32m    225\u001b[0m     \u001b[38;5;66;03m# Cannot rely on checking for EEXIST, since the operating system\u001b[39;00m\n\u001b[1;32m    226\u001b[0m     \u001b[38;5;66;03m# could give priority to other errors like EACCES or EROFS\u001b[39;00m\n\u001b[1;32m    227\u001b[0m     \u001b[38;5;28;01mif\u001b[39;00m \u001b[38;5;129;01mnot\u001b[39;00m exist_ok \u001b[38;5;129;01mor\u001b[39;00m \u001b[38;5;129;01mnot\u001b[39;00m path\u001b[38;5;241m.\u001b[39misdir(name):\n",
      "\u001b[0;31mFileExistsError\u001b[0m: [Errno 17] File exists: '/home/modeling/UCF_CRIME/data/data/TEST_DATA/Arson/Arson022_x264'"
     ]
    }
   ],
   "source": [
    "for data in our_test_video:\n",
    "    file = data.split()[0].split('.')[0]\n",
    "    file_name = os.path.join(TEST_DATASET_PATH, file)\n",
    "    print(file_name)\n",
    "    try: \n",
    "        assert(os.path.exists(folder_name))\n",
    "    except:\n",
    "        os.makedirs(file_name)"
   ]
  },
  {
   "cell_type": "markdown",
   "id": "fef2147f",
   "metadata": {},
   "source": [
    "#### 프레임 자르기 "
   ]
  },
  {
   "cell_type": "code",
   "execution_count": 90,
   "id": "644ed54b",
   "metadata": {},
   "outputs": [
    {
     "data": {
      "text/plain": [
       "'/home/modeling/UCF_CRIME/data/data/TEST_DATA'"
      ]
     },
     "execution_count": 90,
     "metadata": {},
     "output_type": "execute_result"
    }
   ],
   "source": [
    "TEST_DATASET_PATH"
   ]
  },
  {
   "cell_type": "raw",
   "id": "8e7f1f48",
   "metadata": {},
   "source": [
    "video: /home/modeling/UCF_CRIME/data/video/Arson/Arson022_x264\n",
    "\n",
    "video.split('/')[6], video.split('/')[7]"
   ]
  },
  {
   "cell_type": "code",
   "execution_count": 125,
   "id": "2a131ef7",
   "metadata": {},
   "outputs": [
    {
     "data": {
      "text/plain": [
       "''"
      ]
     },
     "execution_count": 125,
     "metadata": {},
     "output_type": "execute_result"
    }
   ],
   "source": [
    "video = '/home/modeling/UCF_CRIME/data/video/Arson/Arson022_x264'\n",
    "\n",
    "video.split('/')[7]"
   ]
  },
  {
   "cell_type": "code",
   "execution_count": 138,
   "id": "36f2ac27",
   "metadata": {},
   "outputs": [],
   "source": [
    "def video_to_image(video, start_frame, end_frame):\n",
    "    # video: '/home/modeling/UCF_CRIME/data/video/Arson/Arson022_x264.mp4' \n",
    "    cap = cv2.VideoCapture(video)\n",
    "    idx = 0 \n",
    "    success, image = cap.read()\n",
    "    count = 0 \n",
    "    # print(video)\n",
    "    while success: \n",
    "        success, image = cap.read()    \n",
    "        if success and idx >= int(start_frame) and idx < int(end_frame):\n",
    "            folder_name = video.split('/')[6], video.split('/')[7].split('.')[0]   # Arson/Arson022_x264\n",
    "            cv2.imwrite(os.path.join(TEST_DATASET_PATH, folder_name, str(count) + '.png'), image)\n",
    "            count += 1 \n",
    "        if cv2.waitKey(10) == 27:\n",
    "            break\n",
    "        \n",
    "        if idx >= int(end_frame): \n",
    "            break \n",
    "        \n",
    "        idx += 1\n",
    "    cap.release()    "
   ]
  },
  {
   "cell_type": "code",
   "execution_count": 139,
   "id": "c9543fae",
   "metadata": {
    "scrolled": true
   },
   "outputs": [
    {
     "data": {
      "text/plain": [
       "['Arson/Arson022_x264.mp4 3500 4000 0',\n",
       " 'Stealing/Stealing036_x264.mp4 1260 1590 2',\n",
       " 'Arson/Arson018_x264.mp4 270 600 0',\n",
       " 'Arson/Arson011_x264.mp4 150 420 0',\n",
       " 'Assault/Assault011_x264.mp4 375 960 1',\n",
       " 'Arson/Arson035_x264.mp4 600 900 0',\n",
       " 'Assault/Assault006_x264.mp4 1185 8096 1',\n",
       " 'Assault/Assault010_x264.mp4 11330 11680 1',\n",
       " 'Stealing/Stealing058_x264.mp4 570 3660 2',\n",
       " 'Arson/Arson010_x264.mp4 885 1230 0',\n",
       " 'Arson/Arson009_x264.mp4 220 315 0',\n",
       " 'Stealing/Stealing079_x264.mp4 2550 3210 2',\n",
       " 'Arson/Arson016_x264.mp4 1000 1796 0',\n",
       " 'Arson/Arson007_x264.mp4 2250 5700 0',\n",
       " 'Arson/Arson041_x264.mp4 2130 3615 0',\n",
       " 'Stealing/Stealing019_x264.mp4 2730 2790 2',\n",
       " 'Stealing/Stealing062_x264.mp4 360 1050 2']"
      ]
     },
     "execution_count": 139,
     "metadata": {},
     "output_type": "execute_result"
    }
   ],
   "source": [
    "our_test_video"
   ]
  },
  {
   "cell_type": "code",
   "execution_count": 140,
   "id": "0e45d112",
   "metadata": {},
   "outputs": [
    {
     "data": {
      "text/plain": [
       "'Stealing/Stealing062_x264.mp4'"
      ]
     },
     "execution_count": 140,
     "metadata": {},
     "output_type": "execute_result"
    }
   ],
   "source": [
    "data.split()[0]"
   ]
  },
  {
   "cell_type": "code",
   "execution_count": 141,
   "id": "f7e6a541",
   "metadata": {},
   "outputs": [
    {
     "data": {
      "text/plain": [
       "('360', '1050')"
      ]
     },
     "execution_count": 141,
     "metadata": {},
     "output_type": "execute_result"
    }
   ],
   "source": [
    "data.split()[1], data.split()[2]"
   ]
  },
  {
   "cell_type": "code",
   "execution_count": 142,
   "id": "e78a08d4",
   "metadata": {},
   "outputs": [
    {
     "data": {
      "text/plain": [
       "('3500', '4000')"
      ]
     },
     "execution_count": 142,
     "metadata": {},
     "output_type": "execute_result"
    }
   ],
   "source": [
    "our_test_video[0].split()[1], our_test_video[0].split()[2]"
   ]
  },
  {
   "cell_type": "code",
   "execution_count": 143,
   "id": "fd0c7dc1",
   "metadata": {},
   "outputs": [
    {
     "name": "stdout",
     "output_type": "stream",
     "text": [
      "/home/modeling/UCF_CRIME/script\r\n"
     ]
    }
   ],
   "source": [
    "!pwd"
   ]
  },
  {
   "cell_type": "code",
   "execution_count": 144,
   "id": "7d3ac6d5",
   "metadata": {
    "scrolled": true
   },
   "outputs": [
    {
     "data": {
      "text/plain": [
       "'/home/modeling/UCF_CRIME/data/video'"
      ]
     },
     "execution_count": 144,
     "metadata": {},
     "output_type": "execute_result"
    }
   ],
   "source": [
    "VIDEO_PATH"
   ]
  },
  {
   "cell_type": "code",
   "execution_count": 145,
   "id": "2ee755c3",
   "metadata": {},
   "outputs": [],
   "source": [
    "for data in our_test_video:\n",
    "    video_name = os.path.join(VIDEO_PATH, data.split()[0])\n",
    "    start_frame, end_frame = data.split()[1], data.split()[2]\n",
    "    # print(video_name)\n",
    "    video_to_image(video_name, start_frame, end_frame)  "
   ]
  },
  {
   "cell_type": "code",
   "execution_count": null,
   "id": "aa51a458",
   "metadata": {},
   "outputs": [],
   "source": []
  },
  {
   "cell_type": "markdown",
   "id": "f6354eb4",
   "metadata": {},
   "source": [
    "### 각 폴더에 있는 이미지 파일 16프레임씩 읽어서 예측 "
   ]
  },
  {
   "cell_type": "raw",
   "id": "8581edc1",
   "metadata": {},
   "source": [
    "home/modeling/UCF_CRIME/data/data/TEST_DATA/Arson/Arson010_x264/*.png "
   ]
  },
  {
   "cell_type": "code",
   "execution_count": null,
   "id": "16149d8c",
   "metadata": {},
   "outputs": [],
   "source": []
  }
 ],
 "metadata": {
  "kernelspec": {
   "display_name": "Python 3 (ipykernel)",
   "language": "python",
   "name": "python3"
  },
  "language_info": {
   "codemirror_mode": {
    "name": "ipython",
    "version": 3
   },
   "file_extension": ".py",
   "mimetype": "text/x-python",
   "name": "python",
   "nbconvert_exporter": "python",
   "pygments_lexer": "ipython3",
   "version": "3.8.10"
  }
 },
 "nbformat": 4,
 "nbformat_minor": 5
}
