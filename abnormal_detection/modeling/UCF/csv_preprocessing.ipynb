{
 "cells": [
  {
   "cell_type": "code",
   "execution_count": 1,
   "id": "6c66f965",
   "metadata": {},
   "outputs": [],
   "source": [
    "import numpy as np\n",
    "import pandas as pd \n",
    "import os\n",
    "import sys\n",
    "import cv2 \n",
    "\n",
    "import os\n",
    "import datetime\n",
    "import copy\n",
    "import re\n",
    "import yaml\n",
    "import uuid\n",
    "import warnings\n",
    "import time\n",
    "import inspect\n",
    "import random"
   ]
  },
  {
   "cell_type": "code",
   "execution_count": 2,
   "id": "6c95d852",
   "metadata": {},
   "outputs": [
    {
     "name": "stdout",
     "output_type": "stream",
     "text": [
      "/home/ubuntu/modeling/UCF_CRIME/script\r\n"
     ]
    }
   ],
   "source": [
    "!pwd"
   ]
  },
  {
   "cell_type": "code",
   "execution_count": 3,
   "id": "0314491d",
   "metadata": {},
   "outputs": [],
   "source": [
    "DATA_PATH = '/home/ubuntu/modeling/UCF_CRIME/data'\n",
    "VIDEO_PATH = os.path.join(DATA_PATH, 'video')\n",
    "ANNOTATION_PATH = os.path.join(DATA_PATH, 'annotation')"
   ]
  },
  {
   "cell_type": "code",
   "execution_count": 4,
   "id": "5ecc8748",
   "metadata": {},
   "outputs": [],
   "source": [
    "columns = ['video_name']"
   ]
  },
  {
   "cell_type": "code",
   "execution_count": 31,
   "id": "78bf100f",
   "metadata": {},
   "outputs": [
    {
     "data": {
      "text/html": [
       "<div>\n",
       "<style scoped>\n",
       "    .dataframe tbody tr th:only-of-type {\n",
       "        vertical-align: middle;\n",
       "    }\n",
       "\n",
       "    .dataframe tbody tr th {\n",
       "        vertical-align: top;\n",
       "    }\n",
       "\n",
       "    .dataframe thead th {\n",
       "        text-align: right;\n",
       "    }\n",
       "</style>\n",
       "<table border=\"1\" class=\"dataframe\">\n",
       "  <thead>\n",
       "    <tr style=\"text-align: right;\">\n",
       "      <th></th>\n",
       "      <th>video_name</th>\n",
       "    </tr>\n",
       "  </thead>\n",
       "  <tbody>\n",
       "    <tr>\n",
       "      <th>0</th>\n",
       "      <td>Vandalism/Vandalism048_x264.mp4 7183</td>\n",
       "    </tr>\n",
       "    <tr>\n",
       "      <th>1</th>\n",
       "      <td>Training_Normal_Videos_Anomaly/Normal_Videos82...</td>\n",
       "    </tr>\n",
       "    <tr>\n",
       "      <th>2</th>\n",
       "      <td>Robbery/Robbery003_x264.mp4 984</td>\n",
       "    </tr>\n",
       "    <tr>\n",
       "      <th>3</th>\n",
       "      <td>Assault/Assault046_x264.mp4 952</td>\n",
       "    </tr>\n",
       "    <tr>\n",
       "      <th>4</th>\n",
       "      <td>Training_Normal_Videos_Anomaly/Normal_Videos57...</td>\n",
       "    </tr>\n",
       "    <tr>\n",
       "      <th>...</th>\n",
       "      <td>...</td>\n",
       "    </tr>\n",
       "    <tr>\n",
       "      <th>1605</th>\n",
       "      <td>Burglary/Burglary073_x264.mp4 2769</td>\n",
       "    </tr>\n",
       "    <tr>\n",
       "      <th>1606</th>\n",
       "      <td>Training_Normal_Videos_Anomaly/Normal_Videos05...</td>\n",
       "    </tr>\n",
       "    <tr>\n",
       "      <th>1607</th>\n",
       "      <td>Training_Normal_Videos_Anomaly/Normal_Videos24...</td>\n",
       "    </tr>\n",
       "    <tr>\n",
       "      <th>1608</th>\n",
       "      <td>Burglary/Burglary022_x264.mp4 2838</td>\n",
       "    </tr>\n",
       "    <tr>\n",
       "      <th>1609</th>\n",
       "      <td>Training_Normal_Videos_Anomaly/Normal_Videos75...</td>\n",
       "    </tr>\n",
       "  </tbody>\n",
       "</table>\n",
       "<p>1610 rows × 1 columns</p>\n",
       "</div>"
      ],
      "text/plain": [
       "                                             video_name\n",
       "0                 Vandalism/Vandalism048_x264.mp4 7183 \n",
       "1     Training_Normal_Videos_Anomaly/Normal_Videos82...\n",
       "2                      Robbery/Robbery003_x264.mp4 984 \n",
       "3                      Assault/Assault046_x264.mp4 952 \n",
       "4     Training_Normal_Videos_Anomaly/Normal_Videos57...\n",
       "...                                                 ...\n",
       "1605                Burglary/Burglary073_x264.mp4 2769 \n",
       "1606  Training_Normal_Videos_Anomaly/Normal_Videos05...\n",
       "1607  Training_Normal_Videos_Anomaly/Normal_Videos24...\n",
       "1608                Burglary/Burglary022_x264.mp4 2838 \n",
       "1609  Training_Normal_Videos_Anomaly/Normal_Videos75...\n",
       "\n",
       "[1610 rows x 1 columns]"
      ]
     },
     "execution_count": 31,
     "metadata": {},
     "output_type": "execute_result"
    }
   ],
   "source": [
    "train_df = pd.read_csv(os.path.join(ANNOTATION_PATH, 'Train_Annotation.txt'), header=None, names=columns)\n",
    "test_df = pd.read_csv(os.path.join(ANNOTATION_PATH, 'Test_Annotation.txt'), header=None, names=columns)\n",
    "\n",
    "train_df"
   ]
  },
  {
   "cell_type": "code",
   "execution_count": 32,
   "id": "d7663a6d",
   "metadata": {},
   "outputs": [
    {
     "data": {
      "text/plain": [
       "(1610, 290)"
      ]
     },
     "execution_count": 32,
     "metadata": {},
     "output_type": "execute_result"
    }
   ],
   "source": [
    "len(train_df), len(test_df)"
   ]
  },
  {
   "cell_type": "code",
   "execution_count": 33,
   "id": "9f3566f2",
   "metadata": {
    "scrolled": true
   },
   "outputs": [],
   "source": [
    "anomal_list = ['Arson', 'Assault', 'Stealing', 'Training_Normal_Videos_Anomaly', 'Testing_Normal_Videos_Anomaly']\n",
    "\n",
    "new_tr_video = []\n",
    "new_te_video = []\n",
    "\n",
    "for data in train_df['video_name']:\n",
    "    ab_type, video_name = data.split('/')\n",
    "    if ab_type in anomal_list: \n",
    "        new_tr_video.append(ab_type + '/' + video_name)"
   ]
  },
  {
   "cell_type": "code",
   "execution_count": 34,
   "id": "95e22cb3",
   "metadata": {},
   "outputs": [
    {
     "data": {
      "text/plain": [
       "(983, 167)"
      ]
     },
     "execution_count": 34,
     "metadata": {},
     "output_type": "execute_result"
    }
   ],
   "source": [
    "for data in test_df['video_name']:\n",
    "    ab_type, video_name = data.split('/')\n",
    "    new_video_name, new_video_frame = video_name.split()[0], video_name.split()[1]\n",
    "#     print(new_video_frame)\n",
    "    if ab_type in anomal_list: \n",
    "        new_te_video.append(ab_type + '/' + new_video_name + ' ' + new_video_frame)\n",
    "\n",
    "len(new_tr_video), len(new_te_video)"
   ]
  },
  {
   "cell_type": "code",
   "execution_count": 35,
   "id": "24195ef6",
   "metadata": {},
   "outputs": [],
   "source": [
    "new_train_df = pd.DataFrame(new_tr_video, columns=['video_name'])\n",
    "new_test_df = pd.DataFrame(new_te_video, columns=['video_name'])"
   ]
  },
  {
   "cell_type": "code",
   "execution_count": 36,
   "id": "3d31b864",
   "metadata": {},
   "outputs": [
    {
     "data": {
      "text/plain": [
       "'Training_Normal_Videos_Anomaly/Normal_Videos826_x264.mp4 1657 '"
      ]
     },
     "execution_count": 36,
     "metadata": {},
     "output_type": "execute_result"
    }
   ],
   "source": [
    "new_train_df['video_name'][0]"
   ]
  },
  {
   "cell_type": "code",
   "execution_count": 37,
   "id": "944b9a59",
   "metadata": {},
   "outputs": [
    {
     "data": {
      "text/plain": [
       "'Testing_Normal_Videos_Anomaly/Normal_Videos_247_x264.mp4 8211'"
      ]
     },
     "execution_count": 37,
     "metadata": {},
     "output_type": "execute_result"
    }
   ],
   "source": [
    "new_test_df['video_name'][10]"
   ]
  },
  {
   "cell_type": "code",
   "execution_count": 38,
   "id": "6b0c73d6",
   "metadata": {},
   "outputs": [],
   "source": [
    "def return_idx(ab_type):\n",
    "    if ab_type == 'Arson':\n",
    "        return 0\n",
    "    elif ab_type == 'Assault':\n",
    "        return 1 \n",
    "    elif ab_type == 'Stealing':\n",
    "        return 2 \n",
    "    elif ab_type == 'Training_Normal_Videos_Anomaly' or ab_type == 'Testing_Normal_Videos_Anomaly':\n",
    "        return 3 "
   ]
  },
  {
   "cell_type": "code",
   "execution_count": null,
   "id": "68248b22",
   "metadata": {},
   "outputs": [],
   "source": []
  },
  {
   "cell_type": "code",
   "execution_count": 39,
   "id": "10092530",
   "metadata": {},
   "outputs": [],
   "source": [
    "train_list = [] "
   ]
  },
  {
   "cell_type": "code",
   "execution_count": 40,
   "id": "a576db87",
   "metadata": {},
   "outputs": [],
   "source": [
    "def make_train_list(video_name, total_frame, ab_type):\n",
    "    global train_list\n",
    "    \n",
    "    ab_num = return_idx(ab_type.split('/')[0])\n",
    "    for idx in range(0, total_frame, 16):\n",
    "        val = str(ab_type) + '/' + video_name + ' ' + str(idx) + ' ' + str(ab_num)\n",
    "        train_list.append(val)"
   ]
  },
  {
   "cell_type": "code",
   "execution_count": 41,
   "id": "95e7c934",
   "metadata": {},
   "outputs": [],
   "source": [
    "for idx, data in enumerate(new_train_df['video_name']):\n",
    "    ab_type = data.split('/')[0]\n",
    "    video_name, total_frame = data.split('/')[1].split(' ')[0], data.split('/')[1].split(' ')[1]\n",
    "    make_train_list(video_name, int(total_frame), ab_type)"
   ]
  },
  {
   "cell_type": "code",
   "execution_count": 42,
   "id": "a6daa3c7",
   "metadata": {},
   "outputs": [
    {
     "data": {
      "text/plain": [
       "642289"
      ]
     },
     "execution_count": 42,
     "metadata": {},
     "output_type": "execute_result"
    }
   ],
   "source": [
    "len(train_list)"
   ]
  },
  {
   "cell_type": "code",
   "execution_count": 43,
   "id": "4063dd57",
   "metadata": {},
   "outputs": [],
   "source": [
    "train_df = pd.DataFrame(train_list, columns=columns, index=None)"
   ]
  },
  {
   "cell_type": "code",
   "execution_count": 44,
   "id": "46c80712",
   "metadata": {},
   "outputs": [
    {
     "data": {
      "text/html": [
       "<div>\n",
       "<style scoped>\n",
       "    .dataframe tbody tr th:only-of-type {\n",
       "        vertical-align: middle;\n",
       "    }\n",
       "\n",
       "    .dataframe tbody tr th {\n",
       "        vertical-align: top;\n",
       "    }\n",
       "\n",
       "    .dataframe thead th {\n",
       "        text-align: right;\n",
       "    }\n",
       "</style>\n",
       "<table border=\"1\" class=\"dataframe\">\n",
       "  <thead>\n",
       "    <tr style=\"text-align: right;\">\n",
       "      <th></th>\n",
       "      <th>video_name</th>\n",
       "    </tr>\n",
       "  </thead>\n",
       "  <tbody>\n",
       "    <tr>\n",
       "      <th>0</th>\n",
       "      <td>Training_Normal_Videos_Anomaly/Normal_Videos82...</td>\n",
       "    </tr>\n",
       "    <tr>\n",
       "      <th>1</th>\n",
       "      <td>Training_Normal_Videos_Anomaly/Normal_Videos82...</td>\n",
       "    </tr>\n",
       "    <tr>\n",
       "      <th>2</th>\n",
       "      <td>Training_Normal_Videos_Anomaly/Normal_Videos82...</td>\n",
       "    </tr>\n",
       "    <tr>\n",
       "      <th>3</th>\n",
       "      <td>Training_Normal_Videos_Anomaly/Normal_Videos82...</td>\n",
       "    </tr>\n",
       "    <tr>\n",
       "      <th>4</th>\n",
       "      <td>Training_Normal_Videos_Anomaly/Normal_Videos82...</td>\n",
       "    </tr>\n",
       "    <tr>\n",
       "      <th>...</th>\n",
       "      <td>...</td>\n",
       "    </tr>\n",
       "    <tr>\n",
       "      <th>642284</th>\n",
       "      <td>Training_Normal_Videos_Anomaly/Normal_Videos75...</td>\n",
       "    </tr>\n",
       "    <tr>\n",
       "      <th>642285</th>\n",
       "      <td>Training_Normal_Videos_Anomaly/Normal_Videos75...</td>\n",
       "    </tr>\n",
       "    <tr>\n",
       "      <th>642286</th>\n",
       "      <td>Training_Normal_Videos_Anomaly/Normal_Videos75...</td>\n",
       "    </tr>\n",
       "    <tr>\n",
       "      <th>642287</th>\n",
       "      <td>Training_Normal_Videos_Anomaly/Normal_Videos75...</td>\n",
       "    </tr>\n",
       "    <tr>\n",
       "      <th>642288</th>\n",
       "      <td>Training_Normal_Videos_Anomaly/Normal_Videos75...</td>\n",
       "    </tr>\n",
       "  </tbody>\n",
       "</table>\n",
       "<p>642289 rows × 1 columns</p>\n",
       "</div>"
      ],
      "text/plain": [
       "                                               video_name\n",
       "0       Training_Normal_Videos_Anomaly/Normal_Videos82...\n",
       "1       Training_Normal_Videos_Anomaly/Normal_Videos82...\n",
       "2       Training_Normal_Videos_Anomaly/Normal_Videos82...\n",
       "3       Training_Normal_Videos_Anomaly/Normal_Videos82...\n",
       "4       Training_Normal_Videos_Anomaly/Normal_Videos82...\n",
       "...                                                   ...\n",
       "642284  Training_Normal_Videos_Anomaly/Normal_Videos75...\n",
       "642285  Training_Normal_Videos_Anomaly/Normal_Videos75...\n",
       "642286  Training_Normal_Videos_Anomaly/Normal_Videos75...\n",
       "642287  Training_Normal_Videos_Anomaly/Normal_Videos75...\n",
       "642288  Training_Normal_Videos_Anomaly/Normal_Videos75...\n",
       "\n",
       "[642289 rows x 1 columns]"
      ]
     },
     "execution_count": 44,
     "metadata": {},
     "output_type": "execute_result"
    }
   ],
   "source": [
    "train_df"
   ]
  },
  {
   "cell_type": "code",
   "execution_count": 46,
   "id": "22bbe1b5",
   "metadata": {},
   "outputs": [],
   "source": [
    "test_list = [] "
   ]
  },
  {
   "cell_type": "code",
   "execution_count": 47,
   "id": "ed6934ef",
   "metadata": {},
   "outputs": [],
   "source": [
    "def make_train_list(video_name, total_frame, ab_type):\n",
    "    global train_list\n",
    "    \n",
    "    ab_num = return_idx(ab_type.split('/')[0])\n",
    "    for idx in range(0, total_frame, 16):\n",
    "        val = str(ab_type) + '/' + video_name + ' ' + str(idx) + ' ' + str(ab_num)\n",
    "        train_list.append(val)"
   ]
  },
  {
   "cell_type": "code",
   "execution_count": 48,
   "id": "64838b6d",
   "metadata": {},
   "outputs": [],
   "source": [
    "def make_test_list(video_name, total_frame, ab_type):\n",
    "    global trest_list\n",
    "    \n",
    "    ab_num = return_idx(ab_type.split('/')[0])\n",
    "    for idx in range(0, total_frame, 16):\n",
    "        val = str(ab_type) + '/' + video_name + ' ' + str(idx) + ' ' + str(ab_num)\n",
    "        test_list.append(val)"
   ]
  },
  {
   "cell_type": "code",
   "execution_count": 49,
   "id": "e64c0b53",
   "metadata": {},
   "outputs": [
    {
     "data": {
      "text/plain": [
       "'Testing_Normal_Videos_Anomaly/Normal_Videos_872_x264.mp4 530'"
      ]
     },
     "execution_count": 49,
     "metadata": {},
     "output_type": "execute_result"
    }
   ],
   "source": [
    "new_test_df['video_name'][1]"
   ]
  },
  {
   "cell_type": "code",
   "execution_count": 50,
   "id": "38c90af0",
   "metadata": {},
   "outputs": [],
   "source": [
    "for idx, data in enumerate(new_test_df['video_name']):\n",
    "    ab_type = data.split('/')[0]\n",
    "    video_name, total_frame = data.split('/')[1].split(' ')[0], data.split('/')[1].split(' ')[1]\n",
    "    make_test_list(video_name, int(total_frame), ab_type)"
   ]
  },
  {
   "cell_type": "code",
   "execution_count": 51,
   "id": "2e54fc16",
   "metadata": {},
   "outputs": [
    {
     "data": {
      "text/plain": [
       "45279"
      ]
     },
     "execution_count": 51,
     "metadata": {},
     "output_type": "execute_result"
    }
   ],
   "source": [
    "len(test_list)"
   ]
  },
  {
   "cell_type": "code",
   "execution_count": 52,
   "id": "49b9f9a6",
   "metadata": {},
   "outputs": [],
   "source": [
    "test_df = pd.DataFrame(test_list, columns=columns, index=None)"
   ]
  },
  {
   "cell_type": "code",
   "execution_count": 53,
   "id": "862b1d4c",
   "metadata": {},
   "outputs": [
    {
     "data": {
      "text/html": [
       "<div>\n",
       "<style scoped>\n",
       "    .dataframe tbody tr th:only-of-type {\n",
       "        vertical-align: middle;\n",
       "    }\n",
       "\n",
       "    .dataframe tbody tr th {\n",
       "        vertical-align: top;\n",
       "    }\n",
       "\n",
       "    .dataframe thead th {\n",
       "        text-align: right;\n",
       "    }\n",
       "</style>\n",
       "<table border=\"1\" class=\"dataframe\">\n",
       "  <thead>\n",
       "    <tr style=\"text-align: right;\">\n",
       "      <th></th>\n",
       "      <th>video_name</th>\n",
       "    </tr>\n",
       "  </thead>\n",
       "  <tbody>\n",
       "    <tr>\n",
       "      <th>0</th>\n",
       "      <td>Arson/Arson022_x264.mp4 0 0</td>\n",
       "    </tr>\n",
       "    <tr>\n",
       "      <th>1</th>\n",
       "      <td>Arson/Arson022_x264.mp4 16 0</td>\n",
       "    </tr>\n",
       "    <tr>\n",
       "      <th>2</th>\n",
       "      <td>Arson/Arson022_x264.mp4 32 0</td>\n",
       "    </tr>\n",
       "    <tr>\n",
       "      <th>3</th>\n",
       "      <td>Arson/Arson022_x264.mp4 48 0</td>\n",
       "    </tr>\n",
       "    <tr>\n",
       "      <th>4</th>\n",
       "      <td>Arson/Arson022_x264.mp4 64 0</td>\n",
       "    </tr>\n",
       "    <tr>\n",
       "      <th>...</th>\n",
       "      <td>...</td>\n",
       "    </tr>\n",
       "    <tr>\n",
       "      <th>45274</th>\n",
       "      <td>Testing_Normal_Videos_Anomaly/Normal_Videos_89...</td>\n",
       "    </tr>\n",
       "    <tr>\n",
       "      <th>45275</th>\n",
       "      <td>Testing_Normal_Videos_Anomaly/Normal_Videos_89...</td>\n",
       "    </tr>\n",
       "    <tr>\n",
       "      <th>45276</th>\n",
       "      <td>Testing_Normal_Videos_Anomaly/Normal_Videos_89...</td>\n",
       "    </tr>\n",
       "    <tr>\n",
       "      <th>45277</th>\n",
       "      <td>Testing_Normal_Videos_Anomaly/Normal_Videos_89...</td>\n",
       "    </tr>\n",
       "    <tr>\n",
       "      <th>45278</th>\n",
       "      <td>Testing_Normal_Videos_Anomaly/Normal_Videos_89...</td>\n",
       "    </tr>\n",
       "  </tbody>\n",
       "</table>\n",
       "<p>45279 rows × 1 columns</p>\n",
       "</div>"
      ],
      "text/plain": [
       "                                              video_name\n",
       "0                            Arson/Arson022_x264.mp4 0 0\n",
       "1                           Arson/Arson022_x264.mp4 16 0\n",
       "2                           Arson/Arson022_x264.mp4 32 0\n",
       "3                           Arson/Arson022_x264.mp4 48 0\n",
       "4                           Arson/Arson022_x264.mp4 64 0\n",
       "...                                                  ...\n",
       "45274  Testing_Normal_Videos_Anomaly/Normal_Videos_89...\n",
       "45275  Testing_Normal_Videos_Anomaly/Normal_Videos_89...\n",
       "45276  Testing_Normal_Videos_Anomaly/Normal_Videos_89...\n",
       "45277  Testing_Normal_Videos_Anomaly/Normal_Videos_89...\n",
       "45278  Testing_Normal_Videos_Anomaly/Normal_Videos_89...\n",
       "\n",
       "[45279 rows x 1 columns]"
      ]
     },
     "execution_count": 53,
     "metadata": {},
     "output_type": "execute_result"
    }
   ],
   "source": [
    "test_df"
   ]
  },
  {
   "cell_type": "code",
   "execution_count": 54,
   "id": "2d28ee62",
   "metadata": {},
   "outputs": [],
   "source": [
    "train_df.to_csv(os.path.join(ANNOTATION_PATH,'Anomaly_Train.lst'), header=0, index=None)\n",
    "test_df.to_csv(os.path.join(ANNOTATION_PATH,'Anomaly_Test.lst'), header=0, index=None)"
   ]
  },
  {
   "cell_type": "code",
   "execution_count": null,
   "id": "a3e06405",
   "metadata": {},
   "outputs": [],
   "source": []
  },
  {
   "cell_type": "markdown",
   "id": "ff316189",
   "metadata": {},
   "source": [
    "#### DataFrame 재구성"
   ]
  },
  {
   "cell_type": "code",
   "execution_count": 2,
   "id": "b235a890",
   "metadata": {},
   "outputs": [],
   "source": [
    "columns = ['video_name']"
   ]
  },
  {
   "cell_type": "code",
   "execution_count": null,
   "id": "febbb6f2",
   "metadata": {},
   "outputs": [],
   "source": [
    "train_df = pd.read_csv(os.path.join(ANNOTATION_PATH, 'Anomaly_Train.txt'), header=None,names=columns) \n",
    "test_df = pd.read_csv(os.path.join(ANNOTATION_PATH, 'Anomaly_Test.txt'), header=None, names=columns)"
   ]
  },
  {
   "cell_type": "code",
   "execution_count": null,
   "id": "a01507b4",
   "metadata": {},
   "outputs": [],
   "source": [
    "anomal_list = ['Arson', 'Assault', 'Stealing']\n",
    "\n",
    "new_tr_video = []\n",
    "new_te_video = []\n",
    "\n",
    "for data in train_df['video_name']:\n",
    "    ab_type, video_name = data.split('/')\n",
    "    if ab_type in anomal_list: \n",
    "        new_tr_video.append(ab_type + '/' + video_name)\n",
    "\n",
    "for data in test_df['video_name']:\n",
    "    ab_type, video_name = data.split('/')\n",
    "    if ab_type in anomal_list: \n",
    "        new_te_video.append(ab_type + '/' + video_name)\n",
    "        \n",
    "len(new_tr_video), len(new_te_video)"
   ]
  },
  {
   "cell_type": "code",
   "execution_count": null,
   "id": "cf517926",
   "metadata": {},
   "outputs": [],
   "source": [
    "new_train_df = pd.DataFrame(new_tr_video, columns=['video_name'])\n",
    "new_test_df = pd.DataFrame(new_te_video, columns=['video_name'])\n",
    "\n",
    "len(new_train_df), len(new_test_df)"
   ]
  },
  {
   "cell_type": "code",
   "execution_count": null,
   "id": "b43452d9",
   "metadata": {},
   "outputs": [],
   "source": [
    "new_train_df.head(3)"
   ]
  },
  {
   "cell_type": "code",
   "execution_count": null,
   "id": "7aceb0c4",
   "metadata": {},
   "outputs": [],
   "source": [
    "new_train_df.to_csv(os.path.join(ANNOTATION_PATH, 'new_train_df.csv'), header=0)\n",
    "new_test_df.to_csv(os.path.join(ANNOTATION_PATH, 'new_test_df.csv'), header=0)"
   ]
  },
  {
   "cell_type": "code",
   "execution_count": null,
   "id": "211c2aeb",
   "metadata": {},
   "outputs": [],
   "source": []
  },
  {
   "cell_type": "code",
   "execution_count": null,
   "id": "8bfad16d",
   "metadata": {},
   "outputs": [],
   "source": []
  },
  {
   "cell_type": "code",
   "execution_count": null,
   "id": "72b21bfa",
   "metadata": {},
   "outputs": [],
   "source": []
  },
  {
   "cell_type": "code",
   "execution_count": null,
   "id": "88918505",
   "metadata": {},
   "outputs": [],
   "source": []
  },
  {
   "cell_type": "code",
   "execution_count": null,
   "id": "ab5881e2",
   "metadata": {},
   "outputs": [],
   "source": []
  },
  {
   "cell_type": "markdown",
   "id": "dbf424c8",
   "metadata": {},
   "source": [
    "### Normal_Video 파일 생성 \n",
    "- 파일명: Normal_Train.txt, Normal_Test.txt\n",
    "- 파일 내용: Normal/Normal_videos002_x264.mp4"
   ]
  },
  {
   "cell_type": "code",
   "execution_count": 30,
   "id": "2920eb9f",
   "metadata": {},
   "outputs": [],
   "source": [
    "file_list = os.listdir(os.path.join(VIDEO_PATH, 'Normal'))"
   ]
  },
  {
   "cell_type": "code",
   "execution_count": 31,
   "id": "374feb0c",
   "metadata": {},
   "outputs": [],
   "source": [
    "columns = ['video_name']"
   ]
  },
  {
   "cell_type": "code",
   "execution_count": 32,
   "id": "b2fd9e08",
   "metadata": {},
   "outputs": [
    {
     "data": {
      "text/plain": [
       "(287, list)"
      ]
     },
     "execution_count": 32,
     "metadata": {},
     "output_type": "execute_result"
    }
   ],
   "source": [
    "len(file_list), type(file_list)"
   ]
  },
  {
   "cell_type": "code",
   "execution_count": 33,
   "id": "03cec1cf",
   "metadata": {},
   "outputs": [],
   "source": [
    "random.shuffle(file_list)"
   ]
  },
  {
   "cell_type": "code",
   "execution_count": 39,
   "id": "10b3aa9c",
   "metadata": {},
   "outputs": [
    {
     "data": {
      "text/plain": [
       "287"
      ]
     },
     "execution_count": 39,
     "metadata": {},
     "output_type": "execute_result"
    }
   ],
   "source": [
    "len(file_list)"
   ]
  },
  {
   "cell_type": "markdown",
   "id": "9ad4a9f8",
   "metadata": {},
   "source": [
    "#### Video 시간 구하기 (10분 이내의 Video들만 계산)  -> 18,000 frames 미만"
   ]
  },
  {
   "cell_type": "code",
   "execution_count": 35,
   "id": "0f36a0c3",
   "metadata": {},
   "outputs": [],
   "source": [
    "def get_total_frames(video_name):   # video_name: Abuse/Abuse005_.mp4 \n",
    "    video = os.path.join(VIDEO_PATH, video_name)\n",
    "\n",
    "    cap = cv2.VideoCapture(video)\n",
    "    total_frames = cap.get(cv2.CAP_PROP_FRAME_COUNT)\n",
    "    \n",
    "    return total_frames"
   ]
  },
  {
   "cell_type": "code",
   "execution_count": 36,
   "id": "da66d973",
   "metadata": {},
   "outputs": [],
   "source": [
    "train_df = []\n",
    "test_df = []"
   ]
  },
  {
   "cell_type": "code",
   "execution_count": 37,
   "id": "96dee29b",
   "metadata": {},
   "outputs": [
    {
     "data": {
      "text/plain": [
       "229"
      ]
     },
     "execution_count": 37,
     "metadata": {},
     "output_type": "execute_result"
    }
   ],
   "source": [
    "int(len(file_list) * 0.8)"
   ]
  },
  {
   "cell_type": "code",
   "execution_count": 38,
   "id": "7dc07df4",
   "metadata": {},
   "outputs": [
    {
     "name": "stderr",
     "output_type": "stream",
     "text": [
      "[mov,mp4,m4a,3gp,3g2,mj2 @ 0x2af3580] moov atom not found\n"
     ]
    },
    {
     "data": {
      "text/plain": [
       "(236, 26)"
      ]
     },
     "execution_count": 38,
     "metadata": {},
     "output_type": "execute_result"
    }
   ],
   "source": [
    "for idx, data in enumerate(file_list):\n",
    "    if idx >= int(len(file_list) * 0.9):\n",
    "        if get_total_frames('Normal/' + data) <= 18000: \n",
    "            test_df.append('Normal/' + data)\n",
    "    else:\n",
    "        if get_total_frames('Normal/' + data) <= 18000: \n",
    "            train_df.append('Normal/' + data)\n",
    "        \n",
    "len(train_df), len(test_df)"
   ]
  },
  {
   "cell_type": "code",
   "execution_count": 40,
   "id": "4421ed3f",
   "metadata": {},
   "outputs": [],
   "source": [
    "normal_train_df = pd.DataFrame(train_df, columns=columns)"
   ]
  },
  {
   "cell_type": "code",
   "execution_count": 42,
   "id": "bc91fd9a",
   "metadata": {},
   "outputs": [],
   "source": [
    "normal_test_df = pd.DataFrame(test_df, columns=['video_name'])"
   ]
  },
  {
   "cell_type": "code",
   "execution_count": 43,
   "id": "bbb6b137",
   "metadata": {},
   "outputs": [
    {
     "data": {
      "text/html": [
       "<div>\n",
       "<style scoped>\n",
       "    .dataframe tbody tr th:only-of-type {\n",
       "        vertical-align: middle;\n",
       "    }\n",
       "\n",
       "    .dataframe tbody tr th {\n",
       "        vertical-align: top;\n",
       "    }\n",
       "\n",
       "    .dataframe thead th {\n",
       "        text-align: right;\n",
       "    }\n",
       "</style>\n",
       "<table border=\"1\" class=\"dataframe\">\n",
       "  <thead>\n",
       "    <tr style=\"text-align: right;\">\n",
       "      <th></th>\n",
       "      <th>video_name</th>\n",
       "    </tr>\n",
       "  </thead>\n",
       "  <tbody>\n",
       "    <tr>\n",
       "      <th>0</th>\n",
       "      <td>Normal/Normal_Videos336_x264.mp4</td>\n",
       "    </tr>\n",
       "    <tr>\n",
       "      <th>1</th>\n",
       "      <td>Normal/Normal_Videos315_x264.mp4</td>\n",
       "    </tr>\n",
       "    <tr>\n",
       "      <th>2</th>\n",
       "      <td>Normal/Normal_Videos359_x264.mp4</td>\n",
       "    </tr>\n",
       "  </tbody>\n",
       "</table>\n",
       "</div>"
      ],
      "text/plain": [
       "                         video_name\n",
       "0  Normal/Normal_Videos336_x264.mp4\n",
       "1  Normal/Normal_Videos315_x264.mp4\n",
       "2  Normal/Normal_Videos359_x264.mp4"
      ]
     },
     "execution_count": 43,
     "metadata": {},
     "output_type": "execute_result"
    }
   ],
   "source": [
    "normal_test_df.head(3)"
   ]
  },
  {
   "cell_type": "code",
   "execution_count": 44,
   "id": "9fc97d14",
   "metadata": {},
   "outputs": [],
   "source": [
    "normal_train_df.to_csv(os.path.join(ANNOTATION_PATH,'Normal_Train.txt'), header=0, index=None)\n",
    "normal_test_df.to_csv(os.path.join(ANNOTATION_PATH,'Normal_Test.txt'), header=0, index=None)"
   ]
  },
  {
   "cell_type": "markdown",
   "id": "11050954",
   "metadata": {},
   "source": [
    "### 이상행동 csv 로드 "
   ]
  },
  {
   "cell_type": "code",
   "execution_count": 45,
   "id": "271bf628",
   "metadata": {},
   "outputs": [],
   "source": [
    "train_df = pd.read_csv(os.path.join(ANNOTATION_PATH, 'new_train_df.csv'), header=None,names=columns) \n",
    "test_df = pd.read_csv(os.path.join(ANNOTATION_PATH, 'new_test_df.csv'), header=None,names=columns) "
   ]
  },
  {
   "cell_type": "code",
   "execution_count": 46,
   "id": "69565ab6",
   "metadata": {},
   "outputs": [
    {
     "data": {
      "text/plain": [
       "(183, 17)"
      ]
     },
     "execution_count": 46,
     "metadata": {},
     "output_type": "execute_result"
    }
   ],
   "source": [
    "len(train_df), len(test_df)"
   ]
  },
  {
   "cell_type": "code",
   "execution_count": 50,
   "id": "405ec61d",
   "metadata": {},
   "outputs": [],
   "source": [
    "new_anomal_train = [] \n",
    "new_anomal_test = [] "
   ]
  },
  {
   "cell_type": "code",
   "execution_count": 51,
   "id": "83d4a9fa",
   "metadata": {},
   "outputs": [],
   "source": [
    "for data in train_df['video_name']:\n",
    "    if get_total_frames(data) <= 18000: \n",
    "        new_anomal_train.append(data)\n",
    "\n",
    "for data in test_df['video_name']:\n",
    "    if get_total_frames(data) <= 18000: \n",
    "        new_anomal_test.append(data)"
   ]
  },
  {
   "cell_type": "code",
   "execution_count": 47,
   "id": "9ea1bc94",
   "metadata": {},
   "outputs": [
    {
     "data": {
      "text/plain": [
       "(236, 26)"
      ]
     },
     "execution_count": 47,
     "metadata": {},
     "output_type": "execute_result"
    }
   ],
   "source": [
    "len(normal_train_df), len(normal_test_df)"
   ]
  },
  {
   "cell_type": "code",
   "execution_count": 52,
   "id": "d6e0612d",
   "metadata": {
    "scrolled": true
   },
   "outputs": [
    {
     "data": {
      "text/plain": [
       "(179, 17)"
      ]
     },
     "execution_count": 52,
     "metadata": {},
     "output_type": "execute_result"
    }
   ],
   "source": [
    "len(new_anomal_train), len(new_anomal_test)"
   ]
  },
  {
   "cell_type": "code",
   "execution_count": 53,
   "id": "aefdb101",
   "metadata": {},
   "outputs": [],
   "source": [
    "train_df = pd.DataFrame(new_anomal_train, columns=columns)\n",
    "test_df = pd.DataFrame(new_anomal_test, columns=columns)"
   ]
  },
  {
   "cell_type": "code",
   "execution_count": 54,
   "id": "32bfd45b",
   "metadata": {},
   "outputs": [
    {
     "data": {
      "text/plain": [
       "(179, 17)"
      ]
     },
     "execution_count": 54,
     "metadata": {},
     "output_type": "execute_result"
    }
   ],
   "source": [
    "len(train_df), len(test_df)"
   ]
  },
  {
   "cell_type": "code",
   "execution_count": 56,
   "id": "9f36a9b4",
   "metadata": {
    "scrolled": true
   },
   "outputs": [],
   "source": [
    "train_df = pd.concat([train_df, normal_train_df])\n",
    "test_df = pd.concat([test_df, normal_test_df])"
   ]
  },
  {
   "cell_type": "code",
   "execution_count": 57,
   "id": "7d20bdab",
   "metadata": {},
   "outputs": [
    {
     "data": {
      "text/plain": [
       "(415, 43)"
      ]
     },
     "execution_count": 57,
     "metadata": {},
     "output_type": "execute_result"
    }
   ],
   "source": [
    "len(train_df), len(test_df)"
   ]
  },
  {
   "cell_type": "code",
   "execution_count": 59,
   "id": "522c5910",
   "metadata": {},
   "outputs": [
    {
     "data": {
      "text/html": [
       "<div>\n",
       "<style scoped>\n",
       "    .dataframe tbody tr th:only-of-type {\n",
       "        vertical-align: middle;\n",
       "    }\n",
       "\n",
       "    .dataframe tbody tr th {\n",
       "        vertical-align: top;\n",
       "    }\n",
       "\n",
       "    .dataframe thead th {\n",
       "        text-align: right;\n",
       "    }\n",
       "</style>\n",
       "<table border=\"1\" class=\"dataframe\">\n",
       "  <thead>\n",
       "    <tr style=\"text-align: right;\">\n",
       "      <th></th>\n",
       "      <th>video_name</th>\n",
       "    </tr>\n",
       "  </thead>\n",
       "  <tbody>\n",
       "    <tr>\n",
       "      <th>0</th>\n",
       "      <td>Arson/Arson001_x264.mp4</td>\n",
       "    </tr>\n",
       "    <tr>\n",
       "      <th>1</th>\n",
       "      <td>Arson/Arson002_x264.mp4</td>\n",
       "    </tr>\n",
       "    <tr>\n",
       "      <th>2</th>\n",
       "      <td>Arson/Arson003_x264.mp4</td>\n",
       "    </tr>\n",
       "    <tr>\n",
       "      <th>3</th>\n",
       "      <td>Arson/Arson005_x264.mp4</td>\n",
       "    </tr>\n",
       "    <tr>\n",
       "      <th>4</th>\n",
       "      <td>Arson/Arson006_x264.mp4</td>\n",
       "    </tr>\n",
       "  </tbody>\n",
       "</table>\n",
       "</div>"
      ],
      "text/plain": [
       "                video_name\n",
       "0  Arson/Arson001_x264.mp4\n",
       "1  Arson/Arson002_x264.mp4\n",
       "2  Arson/Arson003_x264.mp4\n",
       "3  Arson/Arson005_x264.mp4\n",
       "4  Arson/Arson006_x264.mp4"
      ]
     },
     "execution_count": 59,
     "metadata": {},
     "output_type": "execute_result"
    }
   ],
   "source": [
    "train_df.head(5)"
   ]
  },
  {
   "cell_type": "code",
   "execution_count": 60,
   "id": "ee199864",
   "metadata": {},
   "outputs": [],
   "source": [
    "train_df.to_csv(os.path.join(ANNOTATION_PATH,'Anomaly_Train.csv'), header=0, index=None)\n",
    "test_df.to_csv(os.path.join(ANNOTATION_PATH,'Anomaly_Test.csv'), header=0, index=None)"
   ]
  },
  {
   "cell_type": "code",
   "execution_count": null,
   "id": "ceed68b1",
   "metadata": {},
   "outputs": [],
   "source": []
  }
 ],
 "metadata": {
  "kernelspec": {
   "display_name": "Python 3",
   "language": "python",
   "name": "python3"
  },
  "language_info": {
   "codemirror_mode": {
    "name": "ipython",
    "version": 3
   },
   "file_extension": ".py",
   "mimetype": "text/x-python",
   "name": "python",
   "nbconvert_exporter": "python",
   "pygments_lexer": "ipython3",
   "version": "3.6.9"
  }
 },
 "nbformat": 4,
 "nbformat_minor": 5
}
