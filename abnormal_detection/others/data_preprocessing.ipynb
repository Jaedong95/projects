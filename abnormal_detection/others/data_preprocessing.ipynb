{
 "cells": [
  {
   "cell_type": "markdown",
   "id": "7ee1dea2",
   "metadata": {},
   "source": [
    "### Import Libraries"
   ]
  },
  {
   "cell_type": "code",
   "execution_count": 1,
   "id": "d573805b",
   "metadata": {},
   "outputs": [],
   "source": [
    "import numpy as np\n",
    "import pandas as pd \n",
    "import os\n",
    "import sys\n",
    "import cv2 \n",
    "\n",
    "import os\n",
    "import datetime\n",
    "import copy\n",
    "import re\n",
    "import yaml\n",
    "import uuid\n",
    "import warnings\n",
    "import time\n",
    "import inspect\n",
    "\n",
    "import torch\n",
    "from torch import nn, optim\n",
    "from torch import nn\n",
    "from torch.nn import functional as F\n",
    "from torch.utils.data.dataset import Dataset\n",
    "from torch.utils.data import DataLoader\n",
    "from torch.utils.data import DataLoader\n",
    "from torchvision.models import resnet\n",
    "from torchvision.transforms import Compose, ToTensor, Normalize, Resize\n",
    "from torchvision.models.resnet import ResNet, BasicBlock\n",
    "from torchvision.datasets import MNIST\n",
    "import tensorflow as tf\n",
    "from tqdm.autonotebook import tqdm\n",
    "from sklearn.metrics import precision_score, recall_score, f1_score, accuracy_score\n",
    "from sklearn import metrics as mtx\n",
    "from sklearn import model_selection as ms"
   ]
  },
  {
   "cell_type": "markdown",
   "id": "e6872674",
   "metadata": {},
   "source": [
    "### Setting Path "
   ]
  },
  {
   "cell_type": "code",
   "execution_count": 2,
   "id": "2b005849",
   "metadata": {},
   "outputs": [],
   "source": [
    "# current_dir = 'home/modeling/script/'\n",
    "BASE_PATH = '/home/modeling/' \n",
    "DATA_PATH = os.path.join(BASE_PATH, 'data')\n",
    "VIDEO_PATH = os.path.join(DATA_PATH, 'video')\n",
    "ANNOTATION_PATH = os.path.join(DATA_PATH, 'annotation')\n",
    "FRAME_PATH = os.path.join(DATA_PATH, 'frame')"
   ]
  },
  {
   "cell_type": "markdown",
   "id": "517a61a3",
   "metadata": {},
   "source": [
    "### Define functions "
   ]
  },
  {
   "cell_type": "code",
   "execution_count": 14,
   "id": "530c1ee4",
   "metadata": {},
   "outputs": [],
   "source": [
    "def get_data_x(video_name):   # Abuse/Abuse005_.mp4 \n",
    "    video = os.path.join(VIDEO_PATH, video_name)\n",
    "\n",
    "    cap = cv2.VideoCapture(video)\n",
    "    # fps 및 전체 프레임 개수 계산 \n",
    "    video_w, video_h = (int(cap.get(cv2.CAP_PROP_FRAME_WIDTH)), int(cap.get(cv2.CAP_PROP_FRAME_HEIGHT)))\n",
    "    total_frames = cap.get(cv2.CAP_PROP_FRAME_COUNT)\n",
    "\n",
    "    if not cap.isOpened():\n",
    "        print(\"[Error] video={} can not be opened.\".format(video))\n",
    "        sys.exit(-6)\n",
    "    \n",
    "    # Clip 얻기  (16 images per clip)\n",
    "    frames_per_clip = 16   \n",
    "    clip_row = int(total_frames // frames_per_clip)\n",
    "    clip_col = frames_per_clip\n",
    "\n",
    "    clips = [[0] * clip_col for _ in range(clip_row)] \n",
    "    \n",
    "    success,image = cap.read()\n",
    "    count = 0    # 0 ~ total frame \n",
    "    success = True \n",
    "\n",
    "    while success: \n",
    "        success, image = cap.read()\n",
    "        if success: \n",
    "            try:\n",
    "                image_rs = cv2.resize(image, (128, 171))\n",
    "                image_rs = image_rs.astype('float32')\n",
    "                image_rs /= 255\n",
    "                clips[count // 16][count % 16] = image_rs   # clips[261]  -> index out of range error \n",
    "            except:\n",
    "                break \n",
    "        else:\n",
    "            break \n",
    "            \n",
    "        if cv2.waitKey(10) == 27:\n",
    "            break\n",
    "    \n",
    "        count += 1     \n",
    "        \n",
    "    print(len(clips), video_name)\n",
    "    cap.release()\n",
    "    \n",
    "    # clip들을 segment에 배정 \n",
    "    num_segments = 32 \n",
    "    seg_row = num_segments\n",
    "    seg_col = (len(clips) // num_segments) + 1 \n",
    "\n",
    "    seg_total = seg_row * seg_col \n",
    "    data_x = [[0] * seg_col for _ in range(seg_row)]\n",
    "    \n",
    "    for idx in range(seg_total):\n",
    "        try:\n",
    "            data_x[idx // seg_col][idx % seg_col] = clips[idx]\n",
    "        except:   # 262번째 clip 부터는 dummy clip을 집어넣어줘야 함   -> 1~261 번 중 random하게 지정 \n",
    "            # print(video_name)\n",
    "            data_x[idx // seg_col][idx % seg_col] = clips[np.random.randint(clip_row)]  \n",
    "\n",
    "    return data_x    # train / test data (x) "
   ]
  },
  {
   "cell_type": "markdown",
   "id": "9c5afe8e",
   "metadata": {},
   "source": [
    "### train, test dataset 구성 "
   ]
  },
  {
   "cell_type": "code",
   "execution_count": 15,
   "id": "fb9cd90f",
   "metadata": {},
   "outputs": [],
   "source": [
    "columns = ['video_name']"
   ]
  },
  {
   "cell_type": "code",
   "execution_count": 16,
   "id": "e117bda7",
   "metadata": {},
   "outputs": [],
   "source": [
    "train_df = pd.read_csv(os.path.join(ANNOTATION_PATH, 'Anomaly_Train.csv'), header=None,names=columns) \n",
    "test_df = pd.read_csv(os.path.join(ANNOTATION_PATH, 'Anomaly_Test.csv'), header=None,names=columns) "
   ]
  },
  {
   "cell_type": "code",
   "execution_count": 17,
   "id": "c0fe7d3d",
   "metadata": {},
   "outputs": [
    {
     "data": {
      "text/html": [
       "<div>\n",
       "<style scoped>\n",
       "    .dataframe tbody tr th:only-of-type {\n",
       "        vertical-align: middle;\n",
       "    }\n",
       "\n",
       "    .dataframe tbody tr th {\n",
       "        vertical-align: top;\n",
       "    }\n",
       "\n",
       "    .dataframe thead th {\n",
       "        text-align: right;\n",
       "    }\n",
       "</style>\n",
       "<table border=\"1\" class=\"dataframe\">\n",
       "  <thead>\n",
       "    <tr style=\"text-align: right;\">\n",
       "      <th></th>\n",
       "      <th>video_name</th>\n",
       "    </tr>\n",
       "  </thead>\n",
       "  <tbody>\n",
       "    <tr>\n",
       "      <th>0</th>\n",
       "      <td>Arson/Arson001_x264.mp4</td>\n",
       "    </tr>\n",
       "    <tr>\n",
       "      <th>1</th>\n",
       "      <td>Arson/Arson002_x264.mp4</td>\n",
       "    </tr>\n",
       "    <tr>\n",
       "      <th>2</th>\n",
       "      <td>Arson/Arson003_x264.mp4</td>\n",
       "    </tr>\n",
       "    <tr>\n",
       "      <th>3</th>\n",
       "      <td>Arson/Arson005_x264.mp4</td>\n",
       "    </tr>\n",
       "    <tr>\n",
       "      <th>4</th>\n",
       "      <td>Arson/Arson006_x264.mp4</td>\n",
       "    </tr>\n",
       "  </tbody>\n",
       "</table>\n",
       "</div>"
      ],
      "text/plain": [
       "                video_name\n",
       "0  Arson/Arson001_x264.mp4\n",
       "1  Arson/Arson002_x264.mp4\n",
       "2  Arson/Arson003_x264.mp4\n",
       "3  Arson/Arson005_x264.mp4\n",
       "4  Arson/Arson006_x264.mp4"
      ]
     },
     "execution_count": 17,
     "metadata": {},
     "output_type": "execute_result"
    }
   ],
   "source": [
    "train_df.head(5)"
   ]
  },
  {
   "cell_type": "code",
   "execution_count": 18,
   "id": "9c6b806e",
   "metadata": {},
   "outputs": [],
   "source": [
    "anomal_list = ['Arson', 'Assault', 'Stealing', 'Normal'] "
   ]
  },
  {
   "cell_type": "markdown",
   "id": "755b12b4",
   "metadata": {},
   "source": [
    "#### Train Data"
   ]
  },
  {
   "cell_type": "code",
   "execution_count": 19,
   "id": "25513537",
   "metadata": {},
   "outputs": [],
   "source": [
    "x_train_tmp = [0] * len(train_df)\n",
    "y_train_tmp = [0] * len(train_df) "
   ]
  },
  {
   "cell_type": "code",
   "execution_count": 20,
   "id": "4023e934",
   "metadata": {
    "scrolled": true
   },
   "outputs": [
    {
     "name": "stdout",
     "output_type": "stream",
     "text": [
      "261 Arson/Arson001_x264.mp4\n"
     ]
    },
    {
     "name": "stderr",
     "output_type": "stream",
     "text": [
      "\n",
      "KeyboardInterrupt\n",
      "\n"
     ]
    }
   ],
   "source": [
    "for idx, data in enumerate(train_df['video_name']):\n",
    "    ab_type = data.split('/')[0]\n",
    "#     print(idx, data)\n",
    "    x_data = get_data_x(data)\n",
    "    x_data = np.array(x_data, dtype='object')\n",
    "    np.save(os.path.join(DATA_PATH, 'data/train', 'train' + str(idx) + '.npy'), x_data)\n",
    "    y_train_tmp[idx] = anomal_list.index(ab_type)"
   ]
  },
  {
   "cell_type": "markdown",
   "id": "b4b0f38a",
   "metadata": {},
   "source": [
    "#### Test Data"
   ]
  },
  {
   "cell_type": "code",
   "execution_count": null,
   "id": "8e437880",
   "metadata": {},
   "outputs": [],
   "source": [
    "x_test_tmp = []\n",
    "y_test_tmp = [] "
   ]
  },
  {
   "cell_type": "code",
   "execution_count": null,
   "id": "d2c8f9d2",
   "metadata": {},
   "outputs": [],
   "source": [
    "for data in test_df['video_name']:\n",
    "    ab_type = data.split('/')[0]\n",
    "    x_test_tmp.append(data_x(data))\n",
    "    y_test_tmp.append(anomal_list.index(ab_type))\n",
    "\n",
    "x_test = np.array(x_test_tmp)\n",
    "y_test = np.array(y_test_tmp)"
   ]
  },
  {
   "cell_type": "code",
   "execution_count": null,
   "id": "85600254",
   "metadata": {},
   "outputs": [],
   "source": []
  },
  {
   "cell_type": "code",
   "execution_count": null,
   "id": "16fbdba7",
   "metadata": {},
   "outputs": [],
   "source": [
    "#### 오늘 안되면 train data 10개로 bag feature 추출 부분 보기 "
   ]
  },
  {
   "cell_type": "code",
   "execution_count": null,
   "id": "27ea0d35",
   "metadata": {},
   "outputs": [],
   "source": []
  },
  {
   "cell_type": "code",
   "execution_count": null,
   "id": "9c6801b6",
   "metadata": {},
   "outputs": [],
   "source": []
  },
  {
   "cell_type": "code",
   "execution_count": 5,
   "id": "2c6d75cc",
   "metadata": {
    "scrolled": true
   },
   "outputs": [
    {
     "ename": "NameError",
     "evalue": "name 'train_df' is not defined",
     "output_type": "error",
     "traceback": [
      "\u001b[0;31m---------------------------------------------------------------------------\u001b[0m",
      "\u001b[0;31mNameError\u001b[0m                                 Traceback (most recent call last)",
      "Input \u001b[0;32mIn [5]\u001b[0m, in \u001b[0;36m<module>\u001b[0;34m\u001b[0m\n\u001b[0;32m----> 1\u001b[0m \u001b[43mtrain_df\u001b[49m\u001b[38;5;241m.\u001b[39mhead(\u001b[38;5;241m100\u001b[39m)\n",
      "\u001b[0;31mNameError\u001b[0m: name 'train_df' is not defined"
     ]
    }
   ],
   "source": [
    "train_df.head(100)"
   ]
  },
  {
   "cell_type": "raw",
   "id": "490b2eef",
   "metadata": {},
   "source": [
    "영상이 없어 오류 발생 -> sample data로 계속 진행 "
   ]
  },
  {
   "cell_type": "code",
   "execution_count": 33,
   "id": "8201ef28",
   "metadata": {
    "scrolled": true
   },
   "outputs": [
    {
     "data": {
      "text/plain": [
       "(32, 9, 16, 240, 320, 3)"
      ]
     },
     "execution_count": 33,
     "metadata": {},
     "output_type": "execute_result"
    }
   ],
   "source": [
    "np.shape(train_x)"
   ]
  },
  {
   "cell_type": "code",
   "execution_count": 38,
   "id": "e50bcaca",
   "metadata": {
    "scrolled": false
   },
   "outputs": [
    {
     "data": {
      "text/plain": [
       "array([0, 0, 0, 0, 0, 0, 0, 0, 0, 0, 0, 0, 0, 0, 0, 0, 0, 0, 0, 0, 0, 0,\n",
       "       0, 0, 0, 0, 0, 0, 0, 0, 0, 0, 0, 0, 0, 0, 0, 0, 0, 0, 0, 1, 1, 1,\n",
       "       1, 1, 1, 1, 1, 1, 1, 1, 1, 1, 1, 1, 1, 1, 1, 1, 1, 1, 1, 1, 1, 1,\n",
       "       1, 1, 1, 1, 1, 1, 1, 1, 1, 1, 1, 1, 1, 1, 1, 1, 1, 1, 1, 1, 1, 1,\n",
       "       2, 2, 2, 2, 2, 2, 2, 2, 2, 2, 2, 2, 2, 2, 2, 2, 2, 2, 2, 2, 2, 2,\n",
       "       2, 2, 2, 2, 2, 2, 2, 2, 2, 2, 2, 2, 2, 2, 2, 2, 2, 2, 2, 2, 2, 2,\n",
       "       2, 2, 2, 2, 2, 2, 2, 2, 2, 2, 2, 2, 2, 2, 2, 2, 2, 2, 2, 2, 2, 2,\n",
       "       2, 2, 2, 2, 2, 2, 2, 2, 2, 2, 2, 2, 2, 2, 2, 2, 2, 2, 2, 2, 2, 2,\n",
       "       2, 2, 2, 2, 2, 2, 2])"
      ]
     },
     "execution_count": 38,
     "metadata": {},
     "output_type": "execute_result"
    }
   ],
   "source": [
    "y_train"
   ]
  },
  {
   "cell_type": "code",
   "execution_count": 34,
   "id": "9d4422f5",
   "metadata": {},
   "outputs": [],
   "source": [
    "instance_index_label = [(i, y_train[i]) for i in range(len(y_train))]\n",
    "instance_index_label_test = [(i, y_test[i]) for i in range(len(y_test))]"
   ]
  },
  {
   "cell_type": "code",
   "execution_count": 39,
   "id": "4f3d3bca",
   "metadata": {
    "scrolled": true
   },
   "outputs": [
    {
     "data": {
      "text/plain": [
       "[(0, 0),\n",
       " (1, 0),\n",
       " (2, 0),\n",
       " (3, 0),\n",
       " (4, 0),\n",
       " (5, 0),\n",
       " (6, 0),\n",
       " (7, 0),\n",
       " (8, 0),\n",
       " (9, 1),\n",
       " (10, 1),\n",
       " (11, 1),\n",
       " (12, 2),\n",
       " (13, 2),\n",
       " (14, 2),\n",
       " (15, 2),\n",
       " (16, 2)]"
      ]
     },
     "execution_count": 39,
     "metadata": {},
     "output_type": "execute_result"
    }
   ],
   "source": [
    "instance_index_label_test"
   ]
  },
  {
   "cell_type": "raw",
   "id": "ada82e53",
   "metadata": {},
   "source": [
    "instance_index_label: [(0, 0), (1, 0), (2, 0), ... (16, 2)] \n",
    "bags_per_instance_labels[bag_ind]: [1, 7, 9], ... , [8, 9, 0, 8, 3]\n",
    "bag_indices: {0: [5090, 26322, 17398], 1: [14630, 24477, 11498], 2: [20546, 26546, 24958, 1755, 4540], 3: [24072, 28950, 28658, 6713],\n",
    "              4: [25679, 6973, 7937], 5: [8216, 8466, 19124, 3834], 6: [27027, 17991, 9722, 3792, 3622], 7: [8580, 2169, 19295],\n",
    "              8: [8397, 21275, 13910, 13000], 9: [15598, 16521, 22744, 9079, 29894], 10: [14373, 20198, 21036, 12785], \n",
    "              11: [22683, 23526, 24810], 12: [22073, 6322, 19184, 3275], 13: [18056, 7062, 6761, 1798], 14: [12745, 19639, 12374],\n",
    "              15: [9302, 22624, 17302, 9563], 16: [25417, 29066, 18593, 10915, 23243], 17: [5926, 4972, 24034], \n",
    "              18: [24987, 7169, 17788, 119, 26338], 19: [25962, 21096, 5711, 29756, 29046], 20: [4050, 14941, 22582, 19891, 28169]} \n",
    "bag_labels: {0: 1, 1: 0, 2: 1, 3: 0, 4: 0, 5: 0, 6: 0, 7: 0, 8: 0, 9: 0, 10: 0, 11: 0, 12: 0, 13: 0, 14: 1, 15: 1, 16: 1, 17: 1, 18: 1,\n",
    "             19: 0, 20: 1} "
   ]
  },
  {
   "cell_type": "markdown",
   "id": "f4df2e71",
   "metadata": {},
   "source": [
    "### Bag 구성 "
   ]
  },
  {
   "cell_type": "code",
   "execution_count": 4,
   "id": "df19d41f",
   "metadata": {
    "scrolled": false
   },
   "outputs": [
    {
     "ename": "NameError",
     "evalue": "name 'instance_index_label' is not defined",
     "output_type": "error",
     "traceback": [
      "\u001b[0;31m---------------------------------------------------------------------------\u001b[0m",
      "\u001b[0;31mNameError\u001b[0m                                 Traceback (most recent call last)",
      "Input \u001b[0;32mIn [4]\u001b[0m, in \u001b[0;36m<module>\u001b[0;34m\u001b[0m\n\u001b[0;32m----> 1\u001b[0m \u001b[38;5;28mlen\u001b[39m(\u001b[43minstance_index_label\u001b[49m)\n",
      "\u001b[0;31mNameError\u001b[0m: name 'instance_index_label' is not defined"
     ]
    }
   ],
   "source": [
    "len(instance_index_label)"
   ]
  },
  {
   "cell_type": "code",
   "execution_count": 74,
   "id": "f5d2f400",
   "metadata": {},
   "outputs": [],
   "source": [
    "from typing import List, Dict, Tuple\n",
    "from collections import Counter \n",
    "\n",
    "def data_generation(instance_index_label: List[Tuple]) -> List[Dict]:\n",
    "    \"\"\"\n",
    "    bags: {key1: [ind1, ind2, ind3],\n",
    "           key2: [ind1, ind2, ind3, ind4, ind5],\n",
    "           ...}\n",
    "    bag_lbls:\n",
    "        {key1: 0,\n",
    "         key2: 1,\n",
    "         ...}\n",
    "    \"\"\"\n",
    "    bag_size = np.random.randint(3, 8, size=len(instance_index_label)//5)\n",
    "    data_cp = copy.copy(instance_index_label)\n",
    "    np.random.shuffle(data_cp)\n",
    "    bags = {}\n",
    "    bags_per_instance_labels = {}\n",
    "    bags_labels = {}\n",
    "    for bag_ind, size in enumerate(bag_size):\n",
    "        bags[bag_ind] = []\n",
    "        bags_per_instance_labels[bag_ind] = []\n",
    "        try:\n",
    "            for _ in range(size):\n",
    "                inst_ind, lbl = data_cp.pop()\n",
    "                bags[bag_ind].append(inst_ind)\n",
    "                # simplfy, just use a temporary variable instead of bags_per_instance_labels\n",
    "                bags_per_instance_labels[bag_ind].append(lbl)\n",
    "            print(bags_per_instance_labels[bag_ind])\n",
    "            bags_labels[bag_ind] = bag_label_from_instance_labels(bags_per_instance_labels[bag_ind])\n",
    "        except:\n",
    "            break\n",
    "    return bags, bags_labels\n",
    "\n",
    "def bag_label_from_instance_labels(instance_labels):\n",
    "    count_items = Counter(instance_labels)\n",
    "    return count_items.most_common(n=1)[0][0]"
   ]
  },
  {
   "cell_type": "code",
   "execution_count": 75,
   "id": "4c488785",
   "metadata": {
    "scrolled": true
   },
   "outputs": [
    {
     "name": "stdout",
     "output_type": "stream",
     "text": [
      "[2, 2, 0, 1]\n",
      "[2, 2, 2]\n",
      "[0, 2, 1, 2]\n",
      "[0, 2, 0, 2, 2]\n",
      "[1, 1, 1, 2, 1, 1]\n",
      "[0, 2, 2, 2, 2, 1, 0]\n",
      "[0, 1, 2, 1]\n",
      "[1, 2, 2, 2, 1]\n",
      "[2, 2, 2, 1]\n",
      "[2, 2, 0, 2, 2, 1]\n",
      "[1, 2, 1, 2, 1]\n",
      "[2, 0, 0, 2, 2, 2]\n",
      "[0, 2, 2, 2, 0, 0]\n",
      "[2, 2, 1, 2]\n",
      "[0, 1, 0, 2, 0, 1, 2]\n",
      "[0, 2, 0, 2]\n",
      "[2, 1, 2, 2]\n",
      "[2, 1, 2, 2, 2]\n",
      "[0, 2, 0, 2, 2, 2, 2]\n",
      "[1, 2, 2, 1]\n",
      "[2, 2, 2, 0, 2, 2, 0]\n",
      "[2, 2, 0]\n",
      "[1, 2, 0, 0, 1, 2]\n",
      "[2, 1, 1]\n",
      "[2, 1, 2]\n",
      "[0, 2, 2, 2, 1]\n",
      "[1, 2, 0, 1, 2]\n",
      "[0, 2, 2, 0, 0, 2]\n",
      "[2, 2, 0, 1, 1]\n",
      "[1, 0, 2, 2]\n",
      "[2, 1, 1]\n",
      "[1, 2, 2, 0]\n",
      "[2, 0, 2]\n",
      "[2, 2, 0, 1]\n",
      "[1, 2, 2, 2, 0, 0, 2]\n",
      "[0, 1, 1, 0]\n"
     ]
    }
   ],
   "source": [
    "bag_indices, bag_labels = data_generation(instance_index_label)\n",
    "# bag_features = {kk: torch.Tensor(feature_array[inds]) for kk, inds in bag_indices.items()}"
   ]
  },
  {
   "cell_type": "code",
   "execution_count": 79,
   "id": "9944e109",
   "metadata": {},
   "outputs": [
    {
     "data": {
      "text/plain": [
       "dict"
      ]
     },
     "execution_count": 79,
     "metadata": {},
     "output_type": "execute_result"
    }
   ],
   "source": [
    "type(bag_labels)"
   ]
  },
  {
   "cell_type": "code",
   "execution_count": 80,
   "id": "24ec1c80",
   "metadata": {},
   "outputs": [
    {
     "data": {
      "text/plain": [
       "{0: [148, 99, 6, 63],\n",
       " 1: [88, 126, 124],\n",
       " 2: [20, 98, 74, 168],\n",
       " 3: [3, 120, 19, 107, 170],\n",
       " 4: [47, 42, 43, 108, 86, 70],\n",
       " 5: [36, 147, 175, 93, 109, 72, 30],\n",
       " 6: [25, 81, 136, 87],\n",
       " 7: [44, 157, 97, 174, 69],\n",
       " 8: [151, 142, 128, 82],\n",
       " 9: [112, 156, 27, 154, 155, 45],\n",
       " 10: [58, 134, 79, 178, 62],\n",
       " 11: [131, 9, 11, 160, 159, 133],\n",
       " 12: [8, 96, 144, 114, 40, 0],\n",
       " 13: [117, 106, 59, 161],\n",
       " 14: [18, 84, 1, 152, 33, 67, 127],\n",
       " 15: [12, 113, 23, 176],\n",
       " 16: [135, 41, 122, 150],\n",
       " 17: [101, 80, 121, 138, 172],\n",
       " 18: [35, 100, 32, 130, 105, 165, 125],\n",
       " 19: [76, 102, 104, 48],\n",
       " 20: [181, 132, 140, 29, 173, 129, 37],\n",
       " 21: [94, 177, 28],\n",
       " 22: [50, 90, 5, 22, 75, 169],\n",
       " 23: [103, 73, 68],\n",
       " 24: [110, 65, 141],\n",
       " 25: [26, 92, 179, 164, 51],\n",
       " 26: [46, 146, 38, 71, 171],\n",
       " 27: [14, 143, 95, 2, 31, 163],\n",
       " 28: [123, 119, 4, 52, 83],\n",
       " 29: [54, 34, 166, 139],\n",
       " 30: [182, 55, 56],\n",
       " 31: [53, 137, 116, 17],\n",
       " 32: [111, 16, 167],\n",
       " 33: [115, 158, 21, 64],\n",
       " 34: [78, 162, 180, 91, 39, 13, 145],\n",
       " 35: [24, 85, 49, 7]}"
      ]
     },
     "execution_count": 80,
     "metadata": {},
     "output_type": "execute_result"
    }
   ],
   "source": [
    "bag_indices"
   ]
  },
  {
   "cell_type": "code",
   "execution_count": 81,
   "id": "eb22e491",
   "metadata": {},
   "outputs": [
    {
     "data": {
      "text/plain": [
       "{0: 2,\n",
       " 1: 2,\n",
       " 2: 2,\n",
       " 3: 2,\n",
       " 4: 1,\n",
       " 5: 2,\n",
       " 6: 1,\n",
       " 7: 2,\n",
       " 8: 2,\n",
       " 9: 2,\n",
       " 10: 1,\n",
       " 11: 2,\n",
       " 12: 0,\n",
       " 13: 2,\n",
       " 14: 0,\n",
       " 15: 0,\n",
       " 16: 2,\n",
       " 17: 2,\n",
       " 18: 2,\n",
       " 19: 1,\n",
       " 20: 2,\n",
       " 21: 2,\n",
       " 22: 1,\n",
       " 23: 1,\n",
       " 24: 2,\n",
       " 25: 2,\n",
       " 26: 1,\n",
       " 27: 0,\n",
       " 28: 2,\n",
       " 29: 2,\n",
       " 30: 1,\n",
       " 31: 2,\n",
       " 32: 2,\n",
       " 33: 2,\n",
       " 34: 2,\n",
       " 35: 0}"
      ]
     },
     "execution_count": 81,
     "metadata": {},
     "output_type": "execute_result"
    }
   ],
   "source": [
    "bag_labels"
   ]
  },
  {
   "cell_type": "code",
   "execution_count": null,
   "id": "ecbb24a0",
   "metadata": {},
   "outputs": [],
   "source": []
  }
 ],
 "metadata": {
  "kernelspec": {
   "display_name": "Python 3",
   "language": "python",
   "name": "python3"
  },
  "language_info": {
   "codemirror_mode": {
    "name": "ipython",
    "version": 3
   },
   "file_extension": ".py",
   "mimetype": "text/x-python",
   "name": "python",
   "nbconvert_exporter": "python",
   "pygments_lexer": "ipython3",
   "version": "3.6.9"
  }
 },
 "nbformat": 4,
 "nbformat_minor": 5
}
