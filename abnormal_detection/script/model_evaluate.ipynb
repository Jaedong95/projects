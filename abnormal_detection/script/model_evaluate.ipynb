{
 "cells": [
  {
   "cell_type": "code",
   "execution_count": 3,
   "id": "0012cd0d",
   "metadata": {},
   "outputs": [],
   "source": [
    "import numpy as np\n",
    "import pandas as pd \n",
    "import os\n",
    "import sys\n",
    "import cv2 \n",
    "\n",
    "import os\n",
    "import datetime\n",
    "import copy\n",
    "import re\n",
    "import yaml\n",
    "import uuid\n",
    "import warnings\n",
    "import time\n",
    "import inspect\n",
    "\n",
    "from torch.autograd import Variable\n",
    "from os.path import join\n",
    "from glob import glob\n",
    "from skimage.transform import resize\n",
    "import skimage.io as io\n",
    "from C3D_model import C3D\n",
    "\n",
    "import torch\n",
    "from torch import nn, optim\n",
    "from torch import nn\n",
    "from torch.nn import functional as F\n",
    "from torch.utils.data.dataset import Dataset\n",
    "from torch.utils.data import DataLoader\n",
    "from torch.utils.data import DataLoader\n",
    "from torchvision.models import resnet\n",
    "from torchvision.transforms import Compose, ToTensor, Normalize, Resize\n",
    "from torchvision.models.resnet import ResNet, BasicBlock\n",
    "from torchvision.datasets import MNIST\n",
    "import tensorflow as tf\n",
    "from tqdm.autonotebook import tqdm\n",
    "from sklearn.metrics import precision_score, recall_score, f1_score, accuracy_score\n",
    "from sklearn import metrics as mtx\n",
    "from sklearn import model_selection as ms"
   ]
  },
  {
   "cell_type": "code",
   "execution_count": 12,
   "id": "682774a4",
   "metadata": {},
   "outputs": [
    {
     "name": "stdout",
     "output_type": "stream",
     "text": [
      "/home/modeling/UCF_CRIME/script\r\n"
     ]
    }
   ],
   "source": [
    "!pwd"
   ]
  },
  {
   "cell_type": "code",
   "execution_count": 13,
   "id": "2d608bda",
   "metadata": {},
   "outputs": [],
   "source": [
    "# current_dir = 'home/modeling/UCF_CRIME/script/'\n",
    "BASE_PATH = '/home/modeling/UCF_CRIME' \n",
    "DATA_PATH = os.path.join(BASE_PATH, 'data')\n",
    "VIDEO_PATH = os.path.join(DATA_PATH, 'video')\n",
    "ANNOTATION_PATH = os.path.join(DATA_PATH, 'annotation')\n",
    "TEST_ANNOTATION_PATH = os.path.join(ANNOTATION_PATH, 'Anomaly_Test.csv')"
   ]
  },
  {
   "cell_type": "code",
   "execution_count": 14,
   "id": "6cc174cb",
   "metadata": {},
   "outputs": [],
   "source": [
    "assert os.path.exists(TEST_ANNOTATION_PATH)"
   ]
  },
  {
   "cell_type": "raw",
   "id": "ddf503b2",
   "metadata": {},
   "source": [
    "TEST_ANNOTATION_PATH: /home/modeling/UCF_CRIME/data/annotation/Anomaly_Test.csv"
   ]
  },
  {
   "cell_type": "code",
   "execution_count": 104,
   "id": "2ff59f7a",
   "metadata": {},
   "outputs": [],
   "source": [
    "from C3D_model import C3D"
   ]
  },
  {
   "cell_type": "code",
   "execution_count": 170,
   "id": "fde8dc34",
   "metadata": {},
   "outputs": [
    {
     "data": {
      "text/plain": [
       "<torch.autograd.grad_mode.set_grad_enabled at 0x7f2d2d3cc910>"
      ]
     },
     "execution_count": 170,
     "metadata": {},
     "output_type": "execute_result"
    }
   ],
   "source": [
    "net = C3D()\n",
    "\n",
    "net.cuda()\n",
    "net.eval()\n",
    "torch.set_grad_enabled(False)"
   ]
  },
  {
   "cell_type": "code",
   "execution_count": 25,
   "id": "3853c1db",
   "metadata": {},
   "outputs": [],
   "source": [
    "clip = sorted(glob(join('data', 'roger', '*.png')))"
   ]
  },
  {
   "cell_type": "raw",
   "id": "eb11fe5e",
   "metadata": {},
   "source": [
    "''' clip '''\n",
    "['data/roger/frame_00030.png',\n",
    " 'data/roger/frame_00031.png',\n",
    " 'data/roger/frame_00032.png',\n",
    " 'data/roger/frame_00033.png',\n",
    " 'data/roger/frame_00034.png',\n",
    " 'data/roger/frame_00035.png',\n",
    " 'data/roger/frame_00036.png',\n",
    " 'data/roger/frame_00037.png',\n",
    " 'data/roger/frame_00038.png',\n",
    " 'data/roger/frame_00039.png',\n",
    " 'data/roger/frame_00040.png',\n",
    " 'data/roger/frame_00041.png',\n",
    " 'data/roger/frame_00042.png',\n",
    " 'data/roger/frame_00043.png',\n",
    " 'data/roger/frame_00044.png',\n",
    " 'data/roger/frame_00045.png']"
   ]
  },
  {
   "cell_type": "markdown",
   "id": "d8b0980a",
   "metadata": {},
   "source": [
    "### confustion matrix test "
   ]
  },
  {
   "cell_type": "code",
   "execution_count": 31,
   "id": "83a1fe6c",
   "metadata": {},
   "outputs": [],
   "source": [
    "from sklearn.metrics import confusion_matrix"
   ]
  },
  {
   "cell_type": "code",
   "execution_count": 28,
   "id": "9a152170",
   "metadata": {},
   "outputs": [],
   "source": [
    "y_pred = [1, 1, 2, 2, 0]\n",
    "y_test = [1, 0, 1, 1, 2] "
   ]
  },
  {
   "cell_type": "code",
   "execution_count": 32,
   "id": "66f06170",
   "metadata": {},
   "outputs": [
    {
     "data": {
      "text/plain": [
       "array([[0, 1, 0],\n",
       "       [0, 1, 2],\n",
       "       [1, 0, 0]])"
      ]
     },
     "execution_count": 32,
     "metadata": {},
     "output_type": "execute_result"
    }
   ],
   "source": [
    "confusion_matrix(y_test, y_pred)"
   ]
  },
  {
   "cell_type": "markdown",
   "id": "677e3ba5",
   "metadata": {},
   "source": [
    "### Test Dataset "
   ]
  },
  {
   "cell_type": "raw",
   "id": "5410b0b8",
   "metadata": {},
   "source": [
    "home/modeling/UCF_CRIME/data/data/TEST_DATA/Arson/Arson010_x264/*.png "
   ]
  },
  {
   "cell_type": "code",
   "execution_count": 81,
   "id": "3cce8db3",
   "metadata": {},
   "outputs": [],
   "source": [
    "TEST_DATA_PATH = '/home/modeling/UCF_CRIME/data/data/TEST_DATA'\n",
    "ANNOTATION_PATH = '/home/modeling/UCF_CRIME/data/annotation' "
   ]
  },
  {
   "cell_type": "code",
   "execution_count": 82,
   "id": "4e47c27a",
   "metadata": {},
   "outputs": [],
   "source": [
    "columns = ['name']"
   ]
  },
  {
   "cell_type": "code",
   "execution_count": 83,
   "id": "6082204f",
   "metadata": {},
   "outputs": [],
   "source": [
    "test_video = pd.read_csv(os.path.join(ANNOTATION_PATH, 'test_video.csv'), header=None, names=columns)"
   ]
  },
  {
   "cell_type": "code",
   "execution_count": 84,
   "id": "288a8938",
   "metadata": {},
   "outputs": [
    {
     "data": {
      "text/html": [
       "<div>\n",
       "<style scoped>\n",
       "    .dataframe tbody tr th:only-of-type {\n",
       "        vertical-align: middle;\n",
       "    }\n",
       "\n",
       "    .dataframe tbody tr th {\n",
       "        vertical-align: top;\n",
       "    }\n",
       "\n",
       "    .dataframe thead th {\n",
       "        text-align: right;\n",
       "    }\n",
       "</style>\n",
       "<table border=\"1\" class=\"dataframe\">\n",
       "  <thead>\n",
       "    <tr style=\"text-align: right;\">\n",
       "      <th></th>\n",
       "      <th>name</th>\n",
       "    </tr>\n",
       "  </thead>\n",
       "  <tbody>\n",
       "    <tr>\n",
       "      <th>0</th>\n",
       "      <td>Arson/Arson022_x264.mp4 3500 4000 0</td>\n",
       "    </tr>\n",
       "    <tr>\n",
       "      <th>1</th>\n",
       "      <td>Stealing/Stealing036_x264.mp4 1260 1590 2</td>\n",
       "    </tr>\n",
       "    <tr>\n",
       "      <th>2</th>\n",
       "      <td>Arson/Arson018_x264.mp4 270 600 0</td>\n",
       "    </tr>\n",
       "    <tr>\n",
       "      <th>3</th>\n",
       "      <td>Arson/Arson011_x264.mp4 150 420 0</td>\n",
       "    </tr>\n",
       "    <tr>\n",
       "      <th>4</th>\n",
       "      <td>Assault/Assault011_x264.mp4 375 960 1</td>\n",
       "    </tr>\n",
       "  </tbody>\n",
       "</table>\n",
       "</div>"
      ],
      "text/plain": [
       "                                        name\n",
       "0        Arson/Arson022_x264.mp4 3500 4000 0\n",
       "1  Stealing/Stealing036_x264.mp4 1260 1590 2\n",
       "2          Arson/Arson018_x264.mp4 270 600 0\n",
       "3          Arson/Arson011_x264.mp4 150 420 0\n",
       "4      Assault/Assault011_x264.mp4 375 960 1"
      ]
     },
     "execution_count": 84,
     "metadata": {},
     "output_type": "execute_result"
    }
   ],
   "source": [
    "test_video.head()"
   ]
  },
  {
   "cell_type": "code",
   "execution_count": 159,
   "id": "0d4c6e68",
   "metadata": {},
   "outputs": [],
   "source": [
    "clips = ['/home/modeling/UCF_CRIME/data/data/TEST_DATA/Arson/Arson022_x264/0.png', '/home/modeling/UCF_CRIME/data/data/TEST_DATA/Arson/Arson022_x264/1.png', '/home/modeling/UCF_CRIME/data/data/TEST_DATA/Arson/Arson022_x264/10.png', '/home/modeling/UCF_CRIME/data/data/TEST_DATA/Arson/Arson022_x264/100.png', '/home/modeling/UCF_CRIME/data/data/TEST_DATA/Arson/Arson022_x264/101.png', '/home/modeling/UCF_CRIME/data/data/TEST_DATA/Arson/Arson022_x264/102.png', '/home/modeling/UCF_CRIME/data/data/TEST_DATA/Arson/Arson022_x264/103.png', '/home/modeling/UCF_CRIME/data/data/TEST_DATA/Arson/Arson022_x264/104.png', '/home/modeling/UCF_CRIME/data/data/TEST_DATA/Arson/Arson022_x264/105.png', '/home/modeling/UCF_CRIME/data/data/TEST_DATA/Arson/Arson022_x264/106.png', '/home/modeling/UCF_CRIME/data/data/TEST_DATA/Arson/Arson022_x264/107.png', '/home/modeling/UCF_CRIME/data/data/TEST_DATA/Arson/Arson022_x264/108.png', '/home/modeling/UCF_CRIME/data/data/TEST_DATA/Arson/Arson022_x264/109.png', '/home/modeling/UCF_CRIME/data/data/TEST_DATA/Arson/Arson022_x264/11.png', '/home/modeling/UCF_CRIME/data/data/TEST_DATA/Arson/Arson022_x264/110.png', '/home/modeling/UCF_CRIME/data/data/TEST_DATA/Arson/Arson022_x264/111.png']"
   ]
  },
  {
   "cell_type": "code",
   "execution_count": 155,
   "id": "4f6834d4",
   "metadata": {},
   "outputs": [
    {
     "name": "stdout",
     "output_type": "stream",
     "text": [
      "[2] 2\n"
     ]
    }
   ],
   "source": [
    "predict_clips(clips, 1)"
   ]
  },
  {
   "cell_type": "raw",
   "id": "b7c1f0b1",
   "metadata": {},
   "source": [
    "print(files)\n",
    "\n",
    "['/home/modeling/UCF_CRIME/data/data/TEST_DATA/Arson/Arson022_x264/0.png', '/home/modeling/UCF_CRIME/data/data/TEST_DATA/Arson/Arson022_x264/1.png', '/home/modeling/UCF_CRIME/data/data/TEST_DATA/Arson/Arson022_x264/10.png', '/home/modeling/UCF_CRIME/data/data/TEST_DATA/Arson/Arson022_x264/100.png', '/home/modeling/UCF_CRIME/data/data/TEST_DATA/Arson/Arson022_x264/101.png', '/home/modeling/UCF_CRIME/data/data/TEST_DATA/Arson/Arson022_x264/102.png', '/home/modeling/UCF_CRIME/data/data/TEST_DATA/Arson/Arson022_x264/103.png', '/home/modeling/UCF_CRIME/data/data/TEST_DATA/Arson/Arson022_x264/104.png', '/home/modeling/UCF_CRIME/data/data/TEST_DATA/Arson/Arson022_x264/105.png', '/home/modeling/UCF_CRIME/data/data/TEST_DATA/Arson/Arson022_x264/106.png', '/home/modeling/UCF_CRIME/data/data/TEST_DATA/Arson/Arson022_x264/107.png', '/home/modeling/UCF_CRIME/data/data/TEST_DATA/Arson/Arson022_x264/108.png', '/home/modeling/UCF_CRIME/data/data/TEST_DATA/Arson/Arson022_x264/109.png', '/home/modeling/UCF_CRIME/data/data/TEST_DATA/Arson/Arson022_x264/11.png', '/home/modeling/UCF_CRIME/data/data/TEST_DATA/Arson/Arson022_x264/110.png', '/home/modeling/UCF_CRIME/data/data/TEST_DATA/Arson/Arson022_x264/111.png', '/home/modeling/UCF_CRIME/data/data/TEST_DATA/Arson/Arson022_x264/112.png', "
   ]
  },
  {
   "cell_type": "code",
   "execution_count": 172,
   "id": "749c07c8",
   "metadata": {},
   "outputs": [],
   "source": [
    "pred_label = [] \n",
    "test_label = [] "
   ]
  },
  {
   "cell_type": "code",
   "execution_count": 173,
   "id": "9012e3e9",
   "metadata": {},
   "outputs": [],
   "source": [
    "def predict_label(image_path, label, file_length):\n",
    "    files = sorted(glob(join(image_path,'*.png')))\n",
    "    image_list = []    # 16 frames \n",
    "    \n",
    "    # print(len(files), file_length)\n",
    "\n",
    "    for i in range(0, file_length):\n",
    "        image_list.append(files[i])\n",
    "        \n",
    "        if len(image_list) != 16:   # 마지막 16 이하 프레임들은 처리 x \n",
    "            continue \n",
    "        \n",
    "        if len(image_list) == 16:     \n",
    "            predict_clips(image_list, label)\n",
    "            image_list = []           "
   ]
  },
  {
   "cell_type": "code",
   "execution_count": 174,
   "id": "7ee8d8ff",
   "metadata": {},
   "outputs": [],
   "source": [
    "# 16개 이미지 리스트를 입력받아 데이터를 처리하고 예측 수행 \n",
    "def predict_clips(clip, label, verbose=True):   # clip: [1.png, 2.png, ..., 15.png]\n",
    "    global test_label\n",
    "    global pred_label \n",
    "    global net\n",
    "    \n",
    "    clip = np.array([resize(io.imread(frame), output_shape=(112, 200), preserve_range=True) for frame in clip])\n",
    "    clip = clip[:, :, 44:44+112, :]  # crop centrally\n",
    "    if verbose:\n",
    "        clip_img = np.reshape(clip.transpose(1, 0, 2, 3), (112, 16 * 112, 3))\n",
    "    \n",
    "    clip = clip.transpose(3, 0, 1, 2)  # ch, fr, h, w\n",
    "    clip = np.expand_dims(clip, axis=0)  # batch axis\n",
    "    clip = np.float32(clip)\n",
    "    \n",
    "    X = torch.from_numpy(clip)\n",
    "    X = Variable(X)\n",
    "    X = X.cuda()\n",
    "    \n",
    "    prediction = net(X)\n",
    "    prediction = prediction.data.cpu().numpy()\n",
    "    top_inds = prediction[0].argsort()[::-1][:1]\n",
    "    # print(top_inds, top_inds[0])\n",
    "    pred_label.append(top_inds[0])\n",
    "    test_label.append(label)"
   ]
  },
  {
   "cell_type": "code",
   "execution_count": null,
   "id": "e805a858",
   "metadata": {},
   "outputs": [],
   "source": []
  },
  {
   "cell_type": "code",
   "execution_count": 175,
   "id": "19f902b5",
   "metadata": {},
   "outputs": [],
   "source": [
    "def return_idx(ab_type):\n",
    "    if ab_type == 'Arson':\n",
    "        return 0\n",
    "    elif ab_type == 'Assault':\n",
    "        return 1 \n",
    "    elif ab_type == 'Stealing':\n",
    "        return 2 \n",
    "    elif ab_type == 'Training_Normal_Videos_Anomaly' or ab_type == 'Testing_Normal_Videos_Anomaly':\n",
    "        return 3 "
   ]
  },
  {
   "cell_type": "code",
   "execution_count": 176,
   "id": "10ee9f20",
   "metadata": {
    "scrolled": true
   },
   "outputs": [],
   "source": [
    "for data in test_video['name']:\n",
    "    folder = data.split()[0].split('.')[0]   # Arson/Arson022_x264 \n",
    "    label = return_idx(folder.split('/')[0])   # 0, 1, 2 \n",
    "    image_path = os.path.join(TEST_DATA_PATH, folder)   # home/modeling/UCF_CRIME/data/data/TEST_DATA/Arson/Arson022_x264\n",
    "    file_length = int(data.split()[2]) - int(data.split()[1])\n",
    "    if file_length == 6911:\n",
    "        file_length -= 1 \n",
    "    elif file_length == 796:\n",
    "        file_length -= 2 \n",
    "    predict_label(image_path, label, file_length)"
   ]
  },
  {
   "cell_type": "code",
   "execution_count": 177,
   "id": "d5aff698",
   "metadata": {
    "scrolled": true
   },
   "outputs": [
    {
     "data": {
      "text/plain": [
       "(1255, 1255)"
      ]
     },
     "execution_count": 177,
     "metadata": {},
     "output_type": "execute_result"
    }
   ],
   "source": [
    "len(pred_label), len(test_label)"
   ]
  },
  {
   "cell_type": "code",
   "execution_count": 178,
   "id": "053ea979",
   "metadata": {
    "collapsed": true
   },
   "outputs": [
    {
     "name": "stdout",
     "output_type": "stream",
     "text": [
      "[1, 1, 1, 1, 1, 1, 1, 1, 1, 1, 1, 2, 1, 1, 1, 1, 1, 1, 1, 1, 1, 1, 1, 1, 1, 1, 1, 1, 1, 1, 1, 1, 1, 1, 1, 1, 1, 1, 1, 1, 1, 1, 1, 1, 1, 1, 1, 1, 1, 1, 1, 1, 1, 1, 1, 1, 1, 1, 1, 1, 1, 1, 1, 1, 1, 1, 1, 1, 1, 1, 1, 0, 2, 2, 2, 2, 2, 2, 2, 2, 2, 0, 2, 0, 0, 0, 2, 1, 1, 1, 1, 1, 1, 1, 1, 1, 1, 1, 1, 1, 1, 1, 1, 1, 1, 1, 1, 1, 1, 1, 1, 1, 1, 1, 1, 2, 1, 1, 1, 1, 1, 1, 1, 1, 2, 1, 1, 1, 1, 0, 0, 2, 2, 2, 2, 2, 2, 0, 0, 0, 0, 1, 1, 1, 1, 2, 2, 1, 0, 0, 1, 2, 1, 1, 1, 2, 0, 0, 0, 1, 2, 2, 2, 0, 1, 2, 0, 0, 0, 0, 0, 0, 0, 0, 2, 2, 0, 0, 0, 1, 1, 1, 1, 1, 0, 0, 0, 1, 1, 1, 0, 1, 1, 1, 1, 0, 1, 0, 0, 0, 0, 1, 0, 1, 1, 1, 1, 1, 1, 1, 0, 0, 1, 1, 0, 1, 1, 1, 1, 1, 1, 1, 1, 1, 1, 1, 1, 2, 2, 2, 1, 2, 1, 1, 1, 2, 1, 1, 1, 1, 1, 1, 2, 0, 0, 2, 0, 2, 2, 1, 2, 2, 1, 2, 1, 1, 1, 1, 1, 1, 1, 1, 1, 1, 2, 1, 2, 1, 1, 2, 1, 2, 2, 1, 1, 1, 2, 1, 1, 1, 1, 2, 1, 0, 1, 2, 2, 2, 0, 2, 2, 0, 2, 0, 2, 0, 2, 1, 2, 0, 1, 0, 1, 2, 1, 2, 2, 0, 0, 0, 0, 1, 2, 2, 2, 2, 2, 2, 2, 2, 2, 2, 2, 1, 2, 2, 2, 2, 2, 1, 1, 1, 2, 2, 2, 2, 2, 2, 2, 2, 2, 1, 1, 1, 2, 2, 2, 1, 1, 1, 1, 1, 1, 0, 1, 1, 2, 1, 1, 1, 2, 1, 2, 2, 2, 2, 2, 2, 2, 2, 2, 2, 2, 1, 0, 1, 2, 2, 0, 2, 0, 1, 0, 1, 1, 1, 1, 2, 1, 1, 1, 0, 2, 1, 2, 1, 1, 2, 1, 1, 0, 2, 0, 0, 2, 0, 2, 2, 1, 1, 2, 1, 1, 1, 0, 1, 1, 1, 1, 1, 1, 1, 1, 1, 0, 2, 0, 1, 0, 1, 0, 1, 0, 1, 1, 2, 1, 1, 1, 0, 0, 1, 2, 0, 0, 2, 2, 1, 0, 0, 0, 0, 1, 0, 0, 0, 0, 0, 0, 0, 0, 0, 0, 0, 0, 1, 1, 1, 1, 1, 1, 1, 1, 0, 0, 0, 2, 0, 0, 0, 0, 0, 0, 0, 0, 0, 0, 0, 0, 2, 2, 0, 0, 0, 0, 0, 0, 0, 0, 0, 0, 0, 0, 0, 0, 0, 0, 0, 0, 0, 0, 2, 1, 1, 0, 1, 1, 0, 0, 0, 0, 1, 1, 1, 2, 2, 1, 2, 0, 1, 2, 1, 2, 0, 2, 2, 2, 0, 0, 2, 1, 2, 2, 2, 0, 0, 0, 1, 1, 1, 0, 2, 2, 2, 2, 2, 2, 2, 2, 2, 2, 2, 2, 2, 2, 2, 2, 1, 0, 1, 1, 1, 1, 1, 1, 1, 1, 1, 1, 1, 1, 1, 1, 1, 1, 1, 1, 1, 1, 1, 1, 1, 1, 2, 2, 2, 2, 2, 2, 2, 2, 2, 2, 2, 2, 2, 2, 0, 1, 2, 0, 2, 2, 1, 1, 1, 2, 1, 1, 1, 0, 0, 2, 2, 2, 2, 2, 2, 2, 2, 2, 2, 2, 2, 2, 2, 2, 2, 2, 2, 2, 2, 2, 2, 2, 2, 2, 2, 2, 2, 2, 2, 2, 2, 2, 2, 2, 2, 2, 2, 2, 2, 2, 2, 2, 2, 2, 2, 2, 2, 2, 2, 2, 2, 2, 2, 2, 2, 2, 2, 2, 2, 2, 2, 2, 2, 2, 2, 2, 2, 2, 2, 2, 2, 2, 2, 2, 2, 2, 2, 2, 2, 2, 2, 2, 2, 2, 2, 2, 2, 2, 2, 2, 2, 2, 2, 2, 2, 2, 2, 2, 2, 2, 2, 2, 2, 2, 2, 2, 2, 2, 2, 2, 2, 2, 2, 2, 2, 2, 2, 2, 2, 2, 1, 0, 1, 0, 1, 1, 1, 0, 0, 0, 2, 2, 2, 2, 2, 2, 2, 2, 2, 2, 2, 2, 2, 2, 2, 2, 2, 2, 2, 2, 2, 2, 2, 2, 2, 2, 2, 2, 2, 2, 2, 2, 2, 1, 1, 1, 1, 1, 1, 1, 1, 1, 1, 1, 1, 1, 1, 1, 1, 1, 1, 1, 0, 1, 2, 2, 2, 2, 1, 0, 0, 0, 0, 0, 0, 1, 0, 0, 0, 1, 1, 0, 0, 1, 1, 1, 0, 0, 1, 1, 0, 0, 0, 0, 0, 0, 0, 0, 0, 0, 0, 0, 0, 0, 0, 0, 0, 0, 0, 0, 1, 1, 1, 1, 1, 1, 1, 1, 1, 1, 1, 1, 1, 1, 1, 1, 1, 1, 1, 1, 1, 1, 1, 1, 1, 1, 1, 1, 1, 1, 1, 1, 1, 1, 1, 1, 1, 1, 1, 1, 1, 1, 1, 1, 1, 1, 1, 1, 1, 2, 2, 2, 2, 2, 2, 2, 2, 2, 2, 2, 2, 2, 2, 2, 2, 2, 2, 2, 2, 2, 2, 2, 2, 2, 2, 1, 1, 1, 1, 1, 1, 2, 1, 1, 1, 1, 1, 1, 1, 1, 1, 1, 1, 1, 1, 1, 1, 1, 1, 1, 1, 1, 1, 1, 1, 1, 1, 1, 1, 1, 1, 1, 1, 1, 1, 1, 1, 1, 1, 1, 1, 1, 1, 1, 1, 1, 1, 1, 1, 1, 1, 1, 1, 1, 1, 1, 1, 1, 1, 1, 1, 1, 1, 1, 1, 1, 1, 1, 1, 1, 1, 1, 1, 2, 1, 1, 1, 1, 1, 1, 2, 1, 1, 1, 1, 1, 1, 2, 1, 1, 1, 1, 1, 1, 2, 1, 1, 1, 2, 1, 1, 2, 1, 1, 1, 1, 1, 2, 2, 1, 2, 1, 2, 1, 2, 1, 2, 2, 2, 2, 1, 2, 1, 2, 1, 2, 2, 1, 2, 1, 2, 1, 2, 1, 2, 2, 1, 2, 1, 2, 2, 2, 2, 2, 2, 2, 2, 2, 2, 2, 2, 2, 2, 2, 2, 2, 2, 2, 2, 2, 2, 2, 2, 2, 2, 2, 2, 2, 2, 2, 2, 2, 2, 2, 2, 2, 2, 2, 2, 2, 2, 2, 2, 2, 2, 2, 2, 2, 2, 2, 2, 2, 2, 2, 2, 2, 2, 2, 2, 2, 2, 2, 2, 2, 2, 2, 2, 0, 0, 2, 2, 2, 1, 2, 2, 2, 1, 1, 0, 0, 1, 0, 1, 0, 0, 2, 0, 2, 2, 2, 2, 0, 2, 2, 2, 2, 2, 2, 2, 2, 2, 2, 2, 2, 2, 2, 2, 2, 2, 2, 2, 2, 2, 2, 2, 2, 2, 2, 2, 2, 2, 2, 2, 2, 2, 2, 2, 2, 2, 2, 2, 2, 2, 2, 2, 2, 1, 1, 1, 1, 2, 2, 1, 1, 2, 1, 1, 1, 1, 1, 1, 1, 1, 1, 1, 1, 1, 1, 2, 1, 2, 1, 1, 1, 1, 1, 1, 1, 1, 2, 1, 1, 1, 1, 1, 1, 1, 1, 1, 1, 2, 1]\n"
     ]
    }
   ],
   "source": [
    "print(pred_label)"
   ]
  },
  {
   "cell_type": "code",
   "execution_count": 179,
   "id": "152961b5",
   "metadata": {
    "collapsed": true
   },
   "outputs": [
    {
     "name": "stdout",
     "output_type": "stream",
     "text": [
      "[0, 0, 0, 0, 0, 0, 0, 0, 0, 0, 0, 0, 0, 0, 0, 0, 0, 0, 0, 0, 0, 0, 0, 0, 0, 0, 0, 0, 0, 0, 0, 2, 2, 2, 2, 2, 2, 2, 2, 2, 2, 2, 2, 2, 2, 2, 2, 2, 2, 2, 2, 0, 0, 0, 0, 0, 0, 0, 0, 0, 0, 0, 0, 0, 0, 0, 0, 0, 0, 0, 0, 0, 0, 0, 0, 0, 0, 0, 0, 0, 0, 0, 0, 0, 0, 0, 0, 1, 1, 1, 1, 1, 1, 1, 1, 1, 1, 1, 1, 1, 1, 1, 1, 1, 1, 1, 1, 1, 1, 1, 1, 1, 1, 1, 1, 1, 1, 1, 1, 1, 1, 1, 1, 0, 0, 0, 0, 0, 0, 0, 0, 0, 0, 0, 0, 0, 0, 0, 0, 0, 0, 1, 1, 1, 1, 1, 1, 1, 1, 1, 1, 1, 1, 1, 1, 1, 1, 1, 1, 1, 1, 1, 1, 1, 1, 1, 1, 1, 1, 1, 1, 1, 1, 1, 1, 1, 1, 1, 1, 1, 1, 1, 1, 1, 1, 1, 1, 1, 1, 1, 1, 1, 1, 1, 1, 1, 1, 1, 1, 1, 1, 1, 1, 1, 1, 1, 1, 1, 1, 1, 1, 1, 1, 1, 1, 1, 1, 1, 1, 1, 1, 1, 1, 1, 1, 1, 1, 1, 1, 1, 1, 1, 1, 1, 1, 1, 1, 1, 1, 1, 1, 1, 1, 1, 1, 1, 1, 1, 1, 1, 1, 1, 1, 1, 1, 1, 1, 1, 1, 1, 1, 1, 1, 1, 1, 1, 1, 1, 1, 1, 1, 1, 1, 1, 1, 1, 1, 1, 1, 1, 1, 1, 1, 1, 1, 1, 1, 1, 1, 1, 1, 1, 1, 1, 1, 1, 1, 1, 1, 1, 1, 1, 1, 1, 1, 1, 1, 1, 1, 1, 1, 1, 1, 1, 1, 1, 1, 1, 1, 1, 1, 1, 1, 1, 1, 1, 1, 1, 1, 1, 1, 1, 1, 1, 1, 1, 1, 1, 1, 1, 1, 1, 1, 1, 1, 1, 1, 1, 1, 1, 1, 1, 1, 1, 1, 1, 1, 1, 1, 1, 1, 1, 1, 1, 1, 1, 1, 1, 1, 1, 1, 1, 1, 1, 1, 1, 1, 1, 1, 1, 1, 1, 1, 1, 1, 1, 1, 1, 1, 1, 1, 1, 1, 1, 1, 1, 1, 1, 1, 1, 1, 1, 1, 1, 1, 1, 1, 1, 1, 1, 1, 1, 1, 1, 1, 1, 1, 1, 1, 1, 1, 1, 1, 1, 1, 1, 1, 1, 1, 1, 1, 1, 1, 1, 1, 1, 1, 1, 1, 1, 1, 1, 1, 1, 1, 1, 1, 1, 1, 1, 1, 1, 1, 1, 1, 1, 1, 1, 1, 1, 1, 1, 1, 1, 1, 1, 1, 1, 1, 1, 1, 1, 1, 1, 1, 1, 1, 1, 1, 1, 1, 1, 1, 1, 1, 1, 1, 1, 1, 1, 1, 1, 1, 1, 1, 1, 1, 1, 1, 1, 1, 1, 1, 1, 1, 1, 1, 1, 1, 1, 1, 1, 1, 1, 1, 1, 1, 1, 1, 1, 1, 1, 1, 1, 1, 1, 1, 1, 1, 1, 1, 1, 1, 1, 1, 1, 1, 1, 1, 1, 1, 1, 1, 1, 1, 1, 1, 1, 1, 1, 1, 1, 1, 1, 1, 1, 1, 1, 1, 1, 1, 1, 1, 1, 1, 1, 1, 1, 1, 1, 1, 1, 1, 1, 1, 1, 1, 1, 1, 1, 1, 1, 1, 1, 1, 1, 1, 1, 1, 1, 1, 1, 1, 2, 2, 2, 2, 2, 2, 2, 2, 2, 2, 2, 2, 2, 2, 2, 2, 2, 2, 2, 2, 2, 2, 2, 2, 2, 2, 2, 2, 2, 2, 2, 2, 2, 2, 2, 2, 2, 2, 2, 2, 2, 2, 2, 2, 2, 2, 2, 2, 2, 2, 2, 2, 2, 2, 2, 2, 2, 2, 2, 2, 2, 2, 2, 2, 2, 2, 2, 2, 2, 2, 2, 2, 2, 2, 2, 2, 2, 2, 2, 2, 2, 2, 2, 2, 2, 2, 2, 2, 2, 2, 2, 2, 2, 2, 2, 2, 2, 2, 2, 2, 2, 2, 2, 2, 2, 2, 2, 2, 2, 2, 2, 2, 2, 2, 2, 2, 2, 2, 2, 2, 2, 2, 2, 2, 2, 2, 2, 2, 2, 2, 2, 2, 2, 2, 2, 2, 2, 2, 2, 2, 2, 2, 2, 2, 2, 2, 2, 2, 2, 2, 2, 2, 2, 2, 2, 2, 2, 2, 2, 2, 2, 2, 2, 2, 2, 2, 2, 2, 2, 2, 2, 2, 2, 2, 2, 2, 2, 2, 2, 2, 2, 2, 2, 2, 2, 2, 2, 2, 2, 2, 2, 2, 2, 0, 0, 0, 0, 0, 0, 0, 0, 0, 0, 0, 0, 0, 0, 0, 0, 0, 0, 0, 0, 0, 0, 0, 0, 0, 0, 2, 2, 2, 2, 2, 2, 2, 2, 2, 2, 2, 2, 2, 2, 2, 2, 2, 2, 2, 2, 2, 2, 2, 2, 2, 2, 2, 2, 2, 2, 2, 2, 2, 2, 2, 2, 2, 2, 2, 2, 2, 0, 0, 0, 0, 0, 0, 0, 0, 0, 0, 0, 0, 0, 0, 0, 0, 0, 0, 0, 0, 0, 0, 0, 0, 0, 0, 0, 0, 0, 0, 0, 0, 0, 0, 0, 0, 0, 0, 0, 0, 0, 0, 0, 0, 0, 0, 0, 0, 0, 0, 0, 0, 0, 0, 0, 0, 0, 0, 0, 0, 0, 0, 0, 0, 0, 0, 0, 0, 0, 0, 0, 0, 0, 0, 0, 0, 0, 0, 0, 0, 0, 0, 0, 0, 0, 0, 0, 0, 0, 0, 0, 0, 0, 0, 0, 0, 0, 0, 0, 0, 0, 0, 0, 0, 0, 0, 0, 0, 0, 0, 0, 0, 0, 0, 0, 0, 0, 0, 0, 0, 0, 0, 0, 0, 0, 0, 0, 0, 0, 0, 0, 0, 0, 0, 0, 0, 0, 0, 0, 0, 0, 0, 0, 0, 0, 0, 0, 0, 0, 0, 0, 0, 0, 0, 0, 0, 0, 0, 0, 0, 0, 0, 0, 0, 0, 0, 0, 0, 0, 0, 0, 0, 0, 0, 0, 0, 0, 0, 0, 0, 0, 0, 0, 0, 0, 0, 0, 0, 0, 0, 0, 0, 0, 0, 0, 0, 0, 0, 0, 0, 0, 0, 0, 0, 0, 0, 0, 0, 0, 0, 0, 0, 0, 0, 0, 0, 0, 0, 0, 0, 0, 0, 0, 0, 0, 0, 0, 0, 0, 0, 0, 0, 0, 0, 0, 0, 0, 0, 0, 0, 0, 0, 0, 0, 0, 0, 0, 0, 0, 0, 0, 0, 0, 0, 0, 0, 0, 0, 0, 0, 0, 0, 0, 0, 0, 0, 0, 0, 0, 0, 0, 0, 0, 0, 0, 0, 0, 0, 0, 0, 0, 0, 0, 0, 0, 0, 0, 0, 0, 0, 0, 0, 0, 0, 0, 0, 0, 0, 0, 0, 0, 0, 0, 0, 0, 0, 0, 0, 0, 0, 0, 0, 0, 0, 0, 0, 0, 0, 0, 0, 0, 0, 0, 0, 0, 0, 0, 0, 0, 0, 0, 0, 0, 0, 0, 0, 0, 0, 0, 0, 0, 0, 0, 0, 0, 0, 0, 0, 0, 0, 0, 0, 0, 0, 0, 0, 2, 2, 2, 2, 2, 2, 2, 2, 2, 2, 2, 2, 2, 2, 2, 2, 2, 2, 2, 2, 2, 2, 2, 2, 2, 2, 2, 2, 2, 2, 2, 2, 2, 2, 2, 2, 2, 2, 2, 2, 2, 2, 2, 2, 2, 2]\n"
     ]
    }
   ],
   "source": [
    "print(test_label)"
   ]
  },
  {
   "cell_type": "markdown",
   "id": "0324b4e3",
   "metadata": {},
   "source": [
    "### 혼동 행렬 그리기"
   ]
  },
  {
   "cell_type": "code",
   "execution_count": 184,
   "id": "67c01380",
   "metadata": {},
   "outputs": [],
   "source": [
    "from sklearn.metrics import confusion_matrix\n",
    "import seaborn as sns\n",
    "import matplotlib.pyplot as plt     "
   ]
  },
  {
   "cell_type": "code",
   "execution_count": 197,
   "id": "a94b5996",
   "metadata": {},
   "outputs": [
    {
     "name": "stdout",
     "output_type": "stream",
     "text": [
      "Check your OS system\n"
     ]
    }
   ],
   "source": [
    "from matplotlib import font_manager, rc \n",
    "import platform\n",
    "import matplotlib.pyplot as plt \n",
    "\n",
    "if platform.system() == 'Windows':\n",
    "    path = 'c:\\Windows\\Fonts\\malgun.ttf'\n",
    "    font_name = font_manager.FontProperties(fname=path).get_name()\n",
    "    rc('font', family=font_name)\n",
    "elif platform.system() == 'Darwin':\n",
    "    rc('font',faimly='AppleGothic')\n",
    "else:\n",
    "    print('Check your OS system')"
   ]
  },
  {
   "cell_type": "code",
   "execution_count": 198,
   "id": "223dee20",
   "metadata": {},
   "outputs": [],
   "source": [
    "cm = confusion_matrix(test_label, pred_label)"
   ]
  },
  {
   "cell_type": "code",
   "execution_count": 200,
   "id": "a075fb8a",
   "metadata": {},
   "outputs": [],
   "source": [
    "df_cm = pd.DataFrame(cm, index=['Arson', 'Assault', 'Stealing'], columns= ['Arson', 'Assault', 'Stealing'] )"
   ]
  },
  {
   "cell_type": "code",
   "execution_count": 201,
   "id": "c77c076a",
   "metadata": {},
   "outputs": [
    {
     "data": {
      "text/html": [
       "<div>\n",
       "<style scoped>\n",
       "    .dataframe tbody tr th:only-of-type {\n",
       "        vertical-align: middle;\n",
       "    }\n",
       "\n",
       "    .dataframe tbody tr th {\n",
       "        vertical-align: top;\n",
       "    }\n",
       "\n",
       "    .dataframe thead th {\n",
       "        text-align: right;\n",
       "    }\n",
       "</style>\n",
       "<table border=\"1\" class=\"dataframe\">\n",
       "  <thead>\n",
       "    <tr style=\"text-align: right;\">\n",
       "      <th></th>\n",
       "      <th>Arson</th>\n",
       "      <th>Assault</th>\n",
       "      <th>Stealing</th>\n",
       "    </tr>\n",
       "  </thead>\n",
       "  <tbody>\n",
       "    <tr>\n",
       "      <th>Arson</th>\n",
       "      <td>21</td>\n",
       "      <td>248</td>\n",
       "      <td>198</td>\n",
       "    </tr>\n",
       "    <tr>\n",
       "      <th>Assault</th>\n",
       "      <td>129</td>\n",
       "      <td>227</td>\n",
       "      <td>132</td>\n",
       "    </tr>\n",
       "    <tr>\n",
       "      <th>Stealing</th>\n",
       "      <td>42</td>\n",
       "      <td>79</td>\n",
       "      <td>179</td>\n",
       "    </tr>\n",
       "  </tbody>\n",
       "</table>\n",
       "</div>"
      ],
      "text/plain": [
       "          Arson  Assault  Stealing\n",
       "Arson        21      248       198\n",
       "Assault     129      227       132\n",
       "Stealing     42       79       179"
      ]
     },
     "execution_count": 201,
     "metadata": {},
     "output_type": "execute_result"
    }
   ],
   "source": [
    "df_cm"
   ]
  },
  {
   "cell_type": "code",
   "execution_count": 203,
   "id": "d9bdfac8",
   "metadata": {},
   "outputs": [
    {
     "data": {
      "text/plain": [
       "<AxesSubplot:title={'center':'Abnormal Detection Confusion Matrix'}>"
      ]
     },
     "execution_count": 203,
     "metadata": {},
     "output_type": "execute_result"
    },
    {
     "data": {
      "image/png": "[encoded data removed]",
      "text/plain": [
       "<Figure size 720x576 with 2 Axes>"
      ]
     },
     "metadata": {
      "needs_background": "light"
     },
     "output_type": "display_data"
    }
   ],
   "source": [
    "plt.figure(figsize=(10, 8))\n",
    "\n",
    "plt.title('Abnormal Detection Confusion Matrix', fontweight=\"bold\")\n",
    "sns.heatmap(df_cm, cmap='Blues', fmt='d', annot=True)"
   ]
  },
  {
   "cell_type": "code",
   "execution_count": null,
   "id": "1fd0d0b5",
   "metadata": {},
   "outputs": [],
   "source": []
  }
 ],
 "metadata": {
  "kernelspec": {
   "display_name": "Python 3 (ipykernel)",
   "language": "python",
   "name": "python3"
  },
  "language_info": {
   "codemirror_mode": {
    "name": "ipython",
    "version": 3
   },
   "file_extension": ".py",
   "mimetype": "text/x-python",
   "name": "python",
   "nbconvert_exporter": "python",
   "pygments_lexer": "ipython3",
   "version": "3.8.10"
  }
 },
 "nbformat": 4,
 "nbformat_minor": 5
}
