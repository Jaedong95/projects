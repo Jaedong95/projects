{
 "cells": [
  {
   "cell_type": "markdown",
   "metadata": {},
   "source": [
    "### 예측 결과 받아오기 "
   ]
  },
  {
   "cell_type": "code",
   "execution_count": 6,
   "metadata": {},
   "outputs": [],
   "source": [
    "abnormal_list = ['Arson', 'Assault', 'Stealing']\n",
    "\n",
    "result = []   # 예측 전체 결과를 저장할 배열 \n",
    "idx = 0   # 몇 번째 예측인지 확인하기 위한 변수 \n",
    "count = 0   # 이상 행동이 몇 번 발생했는지 확인하기 위한 변수 \n",
    "normal_count = 0   # 정상 행동이 몇 번 발생했는지 확인하기 위한 변수 \n",
    "\n",
    "flag = False    # 문자를 보내도 되는 상황인지 체크하기 위한 변수 "
   ]
  },
  {
   "cell_type": "code",
   "execution_count": 7,
   "metadata": {},
   "outputs": [],
   "source": [
    "def get_predict_result(label):  # 'Arson'\n",
    "    global result \n",
    "    global idx \n",
    "\n",
    "    result.append(label)\n",
    "    flag = check_state(idx)\n",
    "    idx += 1 \n",
    "    if flag == True:\n",
    "        print(label)"
   ]
  },
  {
   "cell_type": "code",
   "execution_count": 8,
   "metadata": {},
   "outputs": [],
   "source": [
    "# 이상행동이 m번 이상 반복되면 여태까지의 이상 행동 중 가장 많이 예측된 이상행동 리턴 \n",
    "# 카운트하다 정상 행동이 n번 이상 반복되면 카운트 초기화 \n",
    "def check_state(idx):\n",
    "    global abnormal_list \n",
    "    global count\n",
    "    global normal_count \n",
    "    global result \n",
    "    \n",
    "    if idx == 0:    # 처음 예측 값은 문자 발송 x\n",
    "        return False\n",
    "\n",
    "    # 예측 값이 바로 전 예측 값과 동일하고 (연속된 예측) 예측 값이 정상에 해당하지 않는 경우 \n",
    "    if result[idx] == result[idx - 1] and result[idx] != 'Normal': \n",
    "        count += 1   # count 시작 \n",
    "        if count >= 2:   # n번 이상 지속되면 \n",
    "            count = 0     # count 초기화 (초기화 하지 않을 경우 이후에도 계속 문자 발송) \n",
    "            return True    # 문자 발송 \n",
    "    \n",
    "    # 예측 값이 바로 전 예측 값과 동일하고 (연속된 예측) 예측 값이 정상에 해당하는 경우)\n",
    "    elif result[idx] == result[idx - 1] and result[idx] == 'Normal':\n",
    "        normal_count += 1    # 정상 행동 count 시작 \n",
    "        if normal_count >= 5:   # 정상 행동이 m번 이상 지속되는 경우 \n",
    "            normal_count = 0    \n",
    "            count = 0   # 이상행동 count 초기화 \n",
    "    return False"
   ]
  },
  {
   "cell_type": "markdown",
   "metadata": {},
   "source": [
    "### Demo "
   ]
  },
  {
   "cell_type": "code",
   "execution_count": 4,
   "metadata": {},
   "outputs": [],
   "source": [
    "predict_result = ['Arson', 'Arson', 'Normal', 'Normal', 'Normal', 'Normal', 'Stealing', 'Assualt', 'Assault', 'Assault', 'Assault']"
   ]
  },
  {
   "cell_type": "code",
   "execution_count": 5,
   "metadata": {},
   "outputs": [
    {
     "name": "stdout",
     "output_type": "stream",
     "text": [
      "Assault\n"
     ]
    }
   ],
   "source": [
    "for data in predict_result:\n",
    "    get_predict_result(data)"
   ]
  },
  {
   "cell_type": "code",
   "execution_count": null,
   "metadata": {},
   "outputs": [],
   "source": []
  },
  {
   "cell_type": "code",
   "execution_count": null,
   "metadata": {},
   "outputs": [],
   "source": []
  }
 ],
 "metadata": {
  "kernelspec": {
   "display_name": "Python 3",
   "language": "python",
   "name": "python3"
  },
  "language_info": {
   "codemirror_mode": {
    "name": "ipython",
    "version": 2
   },
   "file_extension": ".py",
   "mimetype": "text/x-python",
   "name": "python",
   "nbconvert_exporter": "python",
   "pygments_lexer": "ipython2",
   "version": "2.7.17"
  }
 },
 "nbformat": 4,
 "nbformat_minor": 2
}
