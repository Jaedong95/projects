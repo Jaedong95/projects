{
 "cells": [
  {
   "cell_type": "code",
   "execution_count": 17,
   "id": "6c66f965",
   "metadata": {},
   "outputs": [],
   "source": [
    "import numpy as np\n",
    "import pandas as pd \n",
    "import os\n",
    "import sys\n",
    "import cv2 \n",
    "\n",
    "import os\n",
    "import datetime\n",
    "import copy\n",
    "import re\n",
    "import yaml\n",
    "import uuid\n",
    "import warnings\n",
    "import time\n",
    "import inspect\n",
    "import random"
   ]
  },
  {
   "cell_type": "code",
   "execution_count": 18,
   "id": "0314491d",
   "metadata": {},
   "outputs": [],
   "source": [
    "DATA_PATH = '/home/modeling/data/'\n",
    "VIDEO_PATH = os.path.join(DATA_PATH, 'video')\n",
    "ANNOTATION_PATH = os.path.join(DATA_PATH, 'annotation')"
   ]
  },
  {
   "cell_type": "code",
   "execution_count": 19,
   "id": "5ecc8748",
   "metadata": {},
   "outputs": [],
   "source": [
    "columns = ['video_name']"
   ]
  },
  {
   "cell_type": "code",
   "execution_count": 20,
   "id": "78bf100f",
   "metadata": {},
   "outputs": [
    {
     "data": {
      "text/html": [
       "<div>\n",
       "<style scoped>\n",
       "    .dataframe tbody tr th:only-of-type {\n",
       "        vertical-align: middle;\n",
       "    }\n",
       "\n",
       "    .dataframe tbody tr th {\n",
       "        vertical-align: top;\n",
       "    }\n",
       "\n",
       "    .dataframe thead th {\n",
       "        text-align: right;\n",
       "    }\n",
       "</style>\n",
       "<table border=\"1\" class=\"dataframe\">\n",
       "  <thead>\n",
       "    <tr style=\"text-align: right;\">\n",
       "      <th></th>\n",
       "      <th>video_name</th>\n",
       "    </tr>\n",
       "  </thead>\n",
       "  <tbody>\n",
       "    <tr>\n",
       "      <th>0</th>\n",
       "      <td>Vandalism/Vandalism048_x264.mp4 7183</td>\n",
       "    </tr>\n",
       "    <tr>\n",
       "      <th>1</th>\n",
       "      <td>Training_Normal_Videos_Anomaly/Normal_Videos82...</td>\n",
       "    </tr>\n",
       "    <tr>\n",
       "      <th>2</th>\n",
       "      <td>Robbery/Robbery003_x264.mp4 984</td>\n",
       "    </tr>\n",
       "    <tr>\n",
       "      <th>3</th>\n",
       "      <td>Assault/Assault046_x264.mp4 952</td>\n",
       "    </tr>\n",
       "    <tr>\n",
       "      <th>4</th>\n",
       "      <td>Training_Normal_Videos_Anomaly/Normal_Videos57...</td>\n",
       "    </tr>\n",
       "    <tr>\n",
       "      <th>...</th>\n",
       "      <td>...</td>\n",
       "    </tr>\n",
       "    <tr>\n",
       "      <th>1605</th>\n",
       "      <td>Burglary/Burglary073_x264.mp4 2769</td>\n",
       "    </tr>\n",
       "    <tr>\n",
       "      <th>1606</th>\n",
       "      <td>Training_Normal_Videos_Anomaly/Normal_Videos05...</td>\n",
       "    </tr>\n",
       "    <tr>\n",
       "      <th>1607</th>\n",
       "      <td>Training_Normal_Videos_Anomaly/Normal_Videos24...</td>\n",
       "    </tr>\n",
       "    <tr>\n",
       "      <th>1608</th>\n",
       "      <td>Burglary/Burglary022_x264.mp4 2838</td>\n",
       "    </tr>\n",
       "    <tr>\n",
       "      <th>1609</th>\n",
       "      <td>Training_Normal_Videos_Anomaly/Normal_Videos75...</td>\n",
       "    </tr>\n",
       "  </tbody>\n",
       "</table>\n",
       "<p>1610 rows × 1 columns</p>\n",
       "</div>"
      ],
      "text/plain": [
       "                                             video_name\n",
       "0                 Vandalism/Vandalism048_x264.mp4 7183 \n",
       "1     Training_Normal_Videos_Anomaly/Normal_Videos82...\n",
       "2                      Robbery/Robbery003_x264.mp4 984 \n",
       "3                      Assault/Assault046_x264.mp4 952 \n",
       "4     Training_Normal_Videos_Anomaly/Normal_Videos57...\n",
       "...                                                 ...\n",
       "1605                Burglary/Burglary073_x264.mp4 2769 \n",
       "1606  Training_Normal_Videos_Anomaly/Normal_Videos05...\n",
       "1607  Training_Normal_Videos_Anomaly/Normal_Videos24...\n",
       "1608                Burglary/Burglary022_x264.mp4 2838 \n",
       "1609  Training_Normal_Videos_Anomaly/Normal_Videos75...\n",
       "\n",
       "[1610 rows x 1 columns]"
      ]
     },
     "execution_count": 20,
     "metadata": {},
     "output_type": "execute_result"
    }
   ],
   "source": [
    "train_df = pd.read_csv(os.path.join(ANNOTATION_PATH, 'Train_Annotation.txt'), header=None, names=columns)\n",
    "test_df = pd.read_csv(os.path.join(ANNOTATION_PATH, 'Test_Annotation.txt'), header=None, names=columns)\n",
    "\n",
    "train_df"
   ]
  },
  {
   "cell_type": "code",
   "execution_count": 21,
   "id": "d7663a6d",
   "metadata": {},
   "outputs": [
    {
     "data": {
      "text/plain": [
       "(1610, 290)"
      ]
     },
     "execution_count": 21,
     "metadata": {},
     "output_type": "execute_result"
    }
   ],
   "source": [
    "len(train_df), len(test_df)"
   ]
  },
  {
   "cell_type": "code",
   "execution_count": 22,
   "id": "9f3566f2",
   "metadata": {},
   "outputs": [
    {
     "data": {
      "text/plain": [
       "(983, 17)"
      ]
     },
     "execution_count": 22,
     "metadata": {},
     "output_type": "execute_result"
    }
   ],
   "source": [
    "anomal_list = ['Arson', 'Assault', 'Stealing', 'Training_Normal_Videos_Anomaly']\n",
    "\n",
    "new_tr_video = []\n",
    "new_te_video = []\n",
    "\n",
    "for data in train_df['video_name']:\n",
    "    ab_type, video_name = data.split('/')\n",
    "    if ab_type in anomal_list: \n",
    "        new_tr_video.append(ab_type + '/' + video_name)\n",
    "        \n",
    "for data in test_df['video_name']:\n",
    "    ab_type, video_name = data.split('/')\n",
    "    if ab_type in anomal_list: \n",
    "        new_te_video.append(ab_type + '/' + video_name)\n",
    "        \n",
    "len(new_tr_video), len(new_te_video)"
   ]
  },
  {
   "cell_type": "code",
   "execution_count": 23,
   "id": "24195ef6",
   "metadata": {},
   "outputs": [],
   "source": [
    "new_train_df = pd.DataFrame(new_tr_video, columns=['video_name'])\n",
    "new_test_df = pd.DataFrame(new_te_video, columns=['video_name'])"
   ]
  },
  {
   "cell_type": "code",
   "execution_count": 24,
   "id": "3d31b864",
   "metadata": {},
   "outputs": [
    {
     "data": {
      "text/html": [
       "<div>\n",
       "<style scoped>\n",
       "    .dataframe tbody tr th:only-of-type {\n",
       "        vertical-align: middle;\n",
       "    }\n",
       "\n",
       "    .dataframe tbody tr th {\n",
       "        vertical-align: top;\n",
       "    }\n",
       "\n",
       "    .dataframe thead th {\n",
       "        text-align: right;\n",
       "    }\n",
       "</style>\n",
       "<table border=\"1\" class=\"dataframe\">\n",
       "  <thead>\n",
       "    <tr style=\"text-align: right;\">\n",
       "      <th></th>\n",
       "      <th>video_name</th>\n",
       "    </tr>\n",
       "  </thead>\n",
       "  <tbody>\n",
       "    <tr>\n",
       "      <th>0</th>\n",
       "      <td>Arson/Arson022_x264.mp4 8640 Arson 3500 4000 -...</td>\n",
       "    </tr>\n",
       "    <tr>\n",
       "      <th>1</th>\n",
       "      <td>Stealing/Stealing036_x264.mp4 2503 Stealing 12...</td>\n",
       "    </tr>\n",
       "    <tr>\n",
       "      <th>2</th>\n",
       "      <td>Arson/Arson018_x264.mp4 842 Arson 270 600 -1 -1</td>\n",
       "    </tr>\n",
       "    <tr>\n",
       "      <th>3</th>\n",
       "      <td>Arson/Arson011_x264.mp4 1266 Arson 150 420 680...</td>\n",
       "    </tr>\n",
       "    <tr>\n",
       "      <th>4</th>\n",
       "      <td>Assault/Assault011_x264.mp4 2288 Assault 375 9...</td>\n",
       "    </tr>\n",
       "    <tr>\n",
       "      <th>5</th>\n",
       "      <td>Arson/Arson035_x264.mp4 1437 Arson 600 900 -1 -1</td>\n",
       "    </tr>\n",
       "    <tr>\n",
       "      <th>6</th>\n",
       "      <td>Assault/Assault006_x264.mp4 8096 Assault 1185 ...</td>\n",
       "    </tr>\n",
       "    <tr>\n",
       "      <th>7</th>\n",
       "      <td>Assault/Assault010_x264.mp4 16177 Assault 1133...</td>\n",
       "    </tr>\n",
       "    <tr>\n",
       "      <th>8</th>\n",
       "      <td>Stealing/Stealing058_x264.mp4 4991 Stealing 57...</td>\n",
       "    </tr>\n",
       "    <tr>\n",
       "      <th>9</th>\n",
       "      <td>Arson/Arson010_x264.mp4 3159 Arson 885 1230 -1...</td>\n",
       "    </tr>\n",
       "    <tr>\n",
       "      <th>10</th>\n",
       "      <td>Arson/Arson009_x264.mp4 743 Arson 220 315 -1 -1</td>\n",
       "    </tr>\n",
       "    <tr>\n",
       "      <th>11</th>\n",
       "      <td>Stealing/Stealing079_x264.mp4 5846 Stealing 25...</td>\n",
       "    </tr>\n",
       "    <tr>\n",
       "      <th>12</th>\n",
       "      <td>Arson/Arson016_x264.mp4 1795 Arson 1000 1796 -...</td>\n",
       "    </tr>\n",
       "    <tr>\n",
       "      <th>13</th>\n",
       "      <td>Arson/Arson007_x264.mp4 6252 Arson 2250 5700 -...</td>\n",
       "    </tr>\n",
       "    <tr>\n",
       "      <th>14</th>\n",
       "      <td>Arson/Arson041_x264.mp4 3754 Arson 2130 3615 -...</td>\n",
       "    </tr>\n",
       "    <tr>\n",
       "      <th>15</th>\n",
       "      <td>Stealing/Stealing019_x264.mp4 4911 Stealing 27...</td>\n",
       "    </tr>\n",
       "    <tr>\n",
       "      <th>16</th>\n",
       "      <td>Stealing/Stealing062_x264.mp4 1560 Stealing 36...</td>\n",
       "    </tr>\n",
       "  </tbody>\n",
       "</table>\n",
       "</div>"
      ],
      "text/plain": [
       "                                           video_name\n",
       "0   Arson/Arson022_x264.mp4 8640 Arson 3500 4000 -...\n",
       "1   Stealing/Stealing036_x264.mp4 2503 Stealing 12...\n",
       "2    Arson/Arson018_x264.mp4 842 Arson 270 600 -1 -1 \n",
       "3   Arson/Arson011_x264.mp4 1266 Arson 150 420 680...\n",
       "4   Assault/Assault011_x264.mp4 2288 Assault 375 9...\n",
       "5   Arson/Arson035_x264.mp4 1437 Arson 600 900 -1 -1 \n",
       "6   Assault/Assault006_x264.mp4 8096 Assault 1185 ...\n",
       "7   Assault/Assault010_x264.mp4 16177 Assault 1133...\n",
       "8   Stealing/Stealing058_x264.mp4 4991 Stealing 57...\n",
       "9   Arson/Arson010_x264.mp4 3159 Arson 885 1230 -1...\n",
       "10   Arson/Arson009_x264.mp4 743 Arson 220 315 -1 -1 \n",
       "11  Stealing/Stealing079_x264.mp4 5846 Stealing 25...\n",
       "12  Arson/Arson016_x264.mp4 1795 Arson 1000 1796 -...\n",
       "13  Arson/Arson007_x264.mp4 6252 Arson 2250 5700 -...\n",
       "14  Arson/Arson041_x264.mp4 3754 Arson 2130 3615 -...\n",
       "15  Stealing/Stealing019_x264.mp4 4911 Stealing 27...\n",
       "16  Stealing/Stealing062_x264.mp4 1560 Stealing 36..."
      ]
     },
     "execution_count": 24,
     "metadata": {},
     "output_type": "execute_result"
    }
   ],
   "source": [
    "new_test_df"
   ]
  },
  {
   "cell_type": "code",
   "execution_count": 25,
   "id": "e73f06ca",
   "metadata": {},
   "outputs": [],
   "source": [
    "new_train_df.to_csv(os.path.join(ANNOTATION_PATH, 'Train_annotation.csv'), header=0, index=None)\n",
    "new_test_df.to_csv(os.path.join(ANNOTATION_PATH, 'Test_annotaion.csv'), header=0, index=None)"
   ]
  },
  {
   "cell_type": "code",
   "execution_count": null,
   "id": "a0efadc3",
   "metadata": {},
   "outputs": [],
   "source": []
  },
  {
   "cell_type": "code",
   "execution_count": null,
   "id": "da7b1fb3",
   "metadata": {},
   "outputs": [],
   "source": []
  },
  {
   "cell_type": "code",
   "execution_count": null,
   "id": "7fdded24",
   "metadata": {},
   "outputs": [],
   "source": []
  },
  {
   "cell_type": "markdown",
   "id": "ff316189",
   "metadata": {},
   "source": [
    "#### DataFrame 재구성"
   ]
  },
  {
   "cell_type": "code",
   "execution_count": 2,
   "id": "b235a890",
   "metadata": {},
   "outputs": [],
   "source": [
    "columns = ['video_name']"
   ]
  },
  {
   "cell_type": "code",
   "execution_count": null,
   "id": "febbb6f2",
   "metadata": {},
   "outputs": [],
   "source": [
    "train_df = pd.read_csv(os.path.join(ANNOTATION_PATH, 'Anomaly_Train.txt'), header=None,names=columns) \n",
    "test_df = pd.read_csv(os.path.join(ANNOTATION_PATH, 'Anomaly_Test.txt'), header=None, names=columns)"
   ]
  },
  {
   "cell_type": "code",
   "execution_count": null,
   "id": "a01507b4",
   "metadata": {},
   "outputs": [],
   "source": [
    "anomal_list = ['Arson', 'Assault', 'Stealing']\n",
    "\n",
    "new_tr_video = []\n",
    "new_te_video = []\n",
    "\n",
    "for data in train_df['video_name']:\n",
    "    ab_type, video_name = data.split('/')\n",
    "    if ab_type in anomal_list: \n",
    "        new_tr_video.append(ab_type + '/' + video_name)\n",
    "\n",
    "for data in test_df['video_name']:\n",
    "    ab_type, video_name = data.split('/')\n",
    "    if ab_type in anomal_list: \n",
    "        new_te_video.append(ab_type + '/' + video_name)\n",
    "        \n",
    "len(new_tr_video), len(new_te_video)"
   ]
  },
  {
   "cell_type": "code",
   "execution_count": null,
   "id": "cf517926",
   "metadata": {},
   "outputs": [],
   "source": [
    "new_train_df = pd.DataFrame(new_tr_video, columns=['video_name'])\n",
    "new_test_df = pd.DataFrame(new_te_video, columns=['video_name'])\n",
    "\n",
    "len(new_train_df), len(new_test_df)"
   ]
  },
  {
   "cell_type": "code",
   "execution_count": null,
   "id": "b43452d9",
   "metadata": {},
   "outputs": [],
   "source": [
    "new_train_df.head(3)"
   ]
  },
  {
   "cell_type": "code",
   "execution_count": null,
   "id": "7aceb0c4",
   "metadata": {},
   "outputs": [],
   "source": [
    "new_train_df.to_csv(os.path.join(ANNOTATION_PATH, 'new_train_df.csv'), header=0)\n",
    "new_test_df.to_csv(os.path.join(ANNOTATION_PATH, 'new_test_df.csv'), header=0)"
   ]
  },
  {
   "cell_type": "code",
   "execution_count": null,
   "id": "211c2aeb",
   "metadata": {},
   "outputs": [],
   "source": []
  },
  {
   "cell_type": "code",
   "execution_count": null,
   "id": "8bfad16d",
   "metadata": {},
   "outputs": [],
   "source": []
  },
  {
   "cell_type": "code",
   "execution_count": null,
   "id": "72b21bfa",
   "metadata": {},
   "outputs": [],
   "source": []
  },
  {
   "cell_type": "code",
   "execution_count": null,
   "id": "88918505",
   "metadata": {},
   "outputs": [],
   "source": []
  },
  {
   "cell_type": "code",
   "execution_count": null,
   "id": "ab5881e2",
   "metadata": {},
   "outputs": [],
   "source": []
  },
  {
   "cell_type": "markdown",
   "id": "dbf424c8",
   "metadata": {},
   "source": [
    "### Normal_Video 파일 생성 \n",
    "- 파일명: Normal_Train.txt, Normal_Test.txt\n",
    "- 파일 내용: Normal/Normal_videos002_x264.mp4"
   ]
  },
  {
   "cell_type": "code",
   "execution_count": 30,
   "id": "2920eb9f",
   "metadata": {},
   "outputs": [],
   "source": [
    "file_list = os.listdir(os.path.join(VIDEO_PATH, 'Normal'))"
   ]
  },
  {
   "cell_type": "code",
   "execution_count": 31,
   "id": "374feb0c",
   "metadata": {},
   "outputs": [],
   "source": [
    "columns = ['video_name']"
   ]
  },
  {
   "cell_type": "code",
   "execution_count": 32,
   "id": "b2fd9e08",
   "metadata": {},
   "outputs": [
    {
     "data": {
      "text/plain": [
       "(287, list)"
      ]
     },
     "execution_count": 32,
     "metadata": {},
     "output_type": "execute_result"
    }
   ],
   "source": [
    "len(file_list), type(file_list)"
   ]
  },
  {
   "cell_type": "code",
   "execution_count": 33,
   "id": "03cec1cf",
   "metadata": {},
   "outputs": [],
   "source": [
    "random.shuffle(file_list)"
   ]
  },
  {
   "cell_type": "code",
   "execution_count": 39,
   "id": "10b3aa9c",
   "metadata": {},
   "outputs": [
    {
     "data": {
      "text/plain": [
       "287"
      ]
     },
     "execution_count": 39,
     "metadata": {},
     "output_type": "execute_result"
    }
   ],
   "source": [
    "len(file_list)"
   ]
  },
  {
   "cell_type": "markdown",
   "id": "9ad4a9f8",
   "metadata": {},
   "source": [
    "#### Video 시간 구하기 (10분 이내의 Video들만 계산)  -> 18,000 frames 미만"
   ]
  },
  {
   "cell_type": "code",
   "execution_count": 35,
   "id": "0f36a0c3",
   "metadata": {},
   "outputs": [],
   "source": [
    "def get_total_frames(video_name):   # video_name: Abuse/Abuse005_.mp4 \n",
    "    video = os.path.join(VIDEO_PATH, video_name)\n",
    "\n",
    "    cap = cv2.VideoCapture(video)\n",
    "    total_frames = cap.get(cv2.CAP_PROP_FRAME_COUNT)\n",
    "    \n",
    "    return total_frames"
   ]
  },
  {
   "cell_type": "code",
   "execution_count": 36,
   "id": "da66d973",
   "metadata": {},
   "outputs": [],
   "source": [
    "train_df = []\n",
    "test_df = []"
   ]
  },
  {
   "cell_type": "code",
   "execution_count": 37,
   "id": "96dee29b",
   "metadata": {},
   "outputs": [
    {
     "data": {
      "text/plain": [
       "229"
      ]
     },
     "execution_count": 37,
     "metadata": {},
     "output_type": "execute_result"
    }
   ],
   "source": [
    "int(len(file_list) * 0.8)"
   ]
  },
  {
   "cell_type": "code",
   "execution_count": 38,
   "id": "7dc07df4",
   "metadata": {},
   "outputs": [
    {
     "name": "stderr",
     "output_type": "stream",
     "text": [
      "[mov,mp4,m4a,3gp,3g2,mj2 @ 0x2af3580] moov atom not found\n"
     ]
    },
    {
     "data": {
      "text/plain": [
       "(236, 26)"
      ]
     },
     "execution_count": 38,
     "metadata": {},
     "output_type": "execute_result"
    }
   ],
   "source": [
    "for idx, data in enumerate(file_list):\n",
    "    if idx >= int(len(file_list) * 0.9):\n",
    "        if get_total_frames('Normal/' + data) <= 18000: \n",
    "            test_df.append('Normal/' + data)\n",
    "    else:\n",
    "        if get_total_frames('Normal/' + data) <= 18000: \n",
    "            train_df.append('Normal/' + data)\n",
    "        \n",
    "len(train_df), len(test_df)"
   ]
  },
  {
   "cell_type": "code",
   "execution_count": 40,
   "id": "4421ed3f",
   "metadata": {},
   "outputs": [],
   "source": [
    "normal_train_df = pd.DataFrame(train_df, columns=columns)"
   ]
  },
  {
   "cell_type": "code",
   "execution_count": 42,
   "id": "bc91fd9a",
   "metadata": {},
   "outputs": [],
   "source": [
    "normal_test_df = pd.DataFrame(test_df, columns=['video_name'])"
   ]
  },
  {
   "cell_type": "code",
   "execution_count": 43,
   "id": "bbb6b137",
   "metadata": {},
   "outputs": [
    {
     "data": {
      "text/html": [
       "<div>\n",
       "<style scoped>\n",
       "    .dataframe tbody tr th:only-of-type {\n",
       "        vertical-align: middle;\n",
       "    }\n",
       "\n",
       "    .dataframe tbody tr th {\n",
       "        vertical-align: top;\n",
       "    }\n",
       "\n",
       "    .dataframe thead th {\n",
       "        text-align: right;\n",
       "    }\n",
       "</style>\n",
       "<table border=\"1\" class=\"dataframe\">\n",
       "  <thead>\n",
       "    <tr style=\"text-align: right;\">\n",
       "      <th></th>\n",
       "      <th>video_name</th>\n",
       "    </tr>\n",
       "  </thead>\n",
       "  <tbody>\n",
       "    <tr>\n",
       "      <th>0</th>\n",
       "      <td>Normal/Normal_Videos336_x264.mp4</td>\n",
       "    </tr>\n",
       "    <tr>\n",
       "      <th>1</th>\n",
       "      <td>Normal/Normal_Videos315_x264.mp4</td>\n",
       "    </tr>\n",
       "    <tr>\n",
       "      <th>2</th>\n",
       "      <td>Normal/Normal_Videos359_x264.mp4</td>\n",
       "    </tr>\n",
       "  </tbody>\n",
       "</table>\n",
       "</div>"
      ],
      "text/plain": [
       "                         video_name\n",
       "0  Normal/Normal_Videos336_x264.mp4\n",
       "1  Normal/Normal_Videos315_x264.mp4\n",
       "2  Normal/Normal_Videos359_x264.mp4"
      ]
     },
     "execution_count": 43,
     "metadata": {},
     "output_type": "execute_result"
    }
   ],
   "source": [
    "normal_test_df.head(3)"
   ]
  },
  {
   "cell_type": "code",
   "execution_count": 44,
   "id": "9fc97d14",
   "metadata": {},
   "outputs": [],
   "source": [
    "normal_train_df.to_csv(os.path.join(ANNOTATION_PATH,'Normal_Train.txt'), header=0, index=None)\n",
    "normal_test_df.to_csv(os.path.join(ANNOTATION_PATH,'Normal_Test.txt'), header=0, index=None)"
   ]
  },
  {
   "cell_type": "markdown",
   "id": "11050954",
   "metadata": {},
   "source": [
    "### 이상행동 csv 로드 "
   ]
  },
  {
   "cell_type": "code",
   "execution_count": 45,
   "id": "271bf628",
   "metadata": {},
   "outputs": [],
   "source": [
    "train_df = pd.read_csv(os.path.join(ANNOTATION_PATH, 'new_train_df.csv'), header=None,names=columns) \n",
    "test_df = pd.read_csv(os.path.join(ANNOTATION_PATH, 'new_test_df.csv'), header=None,names=columns) "
   ]
  },
  {
   "cell_type": "code",
   "execution_count": 46,
   "id": "69565ab6",
   "metadata": {},
   "outputs": [
    {
     "data": {
      "text/plain": [
       "(183, 17)"
      ]
     },
     "execution_count": 46,
     "metadata": {},
     "output_type": "execute_result"
    }
   ],
   "source": [
    "len(train_df), len(test_df)"
   ]
  },
  {
   "cell_type": "code",
   "execution_count": 50,
   "id": "405ec61d",
   "metadata": {},
   "outputs": [],
   "source": [
    "new_anomal_train = [] \n",
    "new_anomal_test = [] "
   ]
  },
  {
   "cell_type": "code",
   "execution_count": 51,
   "id": "83d4a9fa",
   "metadata": {},
   "outputs": [],
   "source": [
    "for data in train_df['video_name']:\n",
    "    if get_total_frames(data) <= 18000: \n",
    "        new_anomal_train.append(data)\n",
    "\n",
    "for data in test_df['video_name']:\n",
    "    if get_total_frames(data) <= 18000: \n",
    "        new_anomal_test.append(data)"
   ]
  },
  {
   "cell_type": "code",
   "execution_count": 47,
   "id": "9ea1bc94",
   "metadata": {},
   "outputs": [
    {
     "data": {
      "text/plain": [
       "(236, 26)"
      ]
     },
     "execution_count": 47,
     "metadata": {},
     "output_type": "execute_result"
    }
   ],
   "source": [
    "len(normal_train_df), len(normal_test_df)"
   ]
  },
  {
   "cell_type": "code",
   "execution_count": 52,
   "id": "d6e0612d",
   "metadata": {
    "scrolled": true
   },
   "outputs": [
    {
     "data": {
      "text/plain": [
       "(179, 17)"
      ]
     },
     "execution_count": 52,
     "metadata": {},
     "output_type": "execute_result"
    }
   ],
   "source": [
    "len(new_anomal_train), len(new_anomal_test)"
   ]
  },
  {
   "cell_type": "code",
   "execution_count": 53,
   "id": "aefdb101",
   "metadata": {},
   "outputs": [],
   "source": [
    "train_df = pd.DataFrame(new_anomal_train, columns=columns)\n",
    "test_df = pd.DataFrame(new_anomal_test, columns=columns)"
   ]
  },
  {
   "cell_type": "code",
   "execution_count": 54,
   "id": "32bfd45b",
   "metadata": {},
   "outputs": [
    {
     "data": {
      "text/plain": [
       "(179, 17)"
      ]
     },
     "execution_count": 54,
     "metadata": {},
     "output_type": "execute_result"
    }
   ],
   "source": [
    "len(train_df), len(test_df)"
   ]
  },
  {
   "cell_type": "code",
   "execution_count": 56,
   "id": "9f36a9b4",
   "metadata": {
    "scrolled": true
   },
   "outputs": [],
   "source": [
    "train_df = pd.concat([train_df, normal_train_df])\n",
    "test_df = pd.concat([test_df, normal_test_df])"
   ]
  },
  {
   "cell_type": "code",
   "execution_count": 57,
   "id": "7d20bdab",
   "metadata": {},
   "outputs": [
    {
     "data": {
      "text/plain": [
       "(415, 43)"
      ]
     },
     "execution_count": 57,
     "metadata": {},
     "output_type": "execute_result"
    }
   ],
   "source": [
    "len(train_df), len(test_df)"
   ]
  },
  {
   "cell_type": "code",
   "execution_count": 59,
   "id": "522c5910",
   "metadata": {},
   "outputs": [
    {
     "data": {
      "text/html": [
       "<div>\n",
       "<style scoped>\n",
       "    .dataframe tbody tr th:only-of-type {\n",
       "        vertical-align: middle;\n",
       "    }\n",
       "\n",
       "    .dataframe tbody tr th {\n",
       "        vertical-align: top;\n",
       "    }\n",
       "\n",
       "    .dataframe thead th {\n",
       "        text-align: right;\n",
       "    }\n",
       "</style>\n",
       "<table border=\"1\" class=\"dataframe\">\n",
       "  <thead>\n",
       "    <tr style=\"text-align: right;\">\n",
       "      <th></th>\n",
       "      <th>video_name</th>\n",
       "    </tr>\n",
       "  </thead>\n",
       "  <tbody>\n",
       "    <tr>\n",
       "      <th>0</th>\n",
       "      <td>Arson/Arson001_x264.mp4</td>\n",
       "    </tr>\n",
       "    <tr>\n",
       "      <th>1</th>\n",
       "      <td>Arson/Arson002_x264.mp4</td>\n",
       "    </tr>\n",
       "    <tr>\n",
       "      <th>2</th>\n",
       "      <td>Arson/Arson003_x264.mp4</td>\n",
       "    </tr>\n",
       "    <tr>\n",
       "      <th>3</th>\n",
       "      <td>Arson/Arson005_x264.mp4</td>\n",
       "    </tr>\n",
       "    <tr>\n",
       "      <th>4</th>\n",
       "      <td>Arson/Arson006_x264.mp4</td>\n",
       "    </tr>\n",
       "  </tbody>\n",
       "</table>\n",
       "</div>"
      ],
      "text/plain": [
       "                video_name\n",
       "0  Arson/Arson001_x264.mp4\n",
       "1  Arson/Arson002_x264.mp4\n",
       "2  Arson/Arson003_x264.mp4\n",
       "3  Arson/Arson005_x264.mp4\n",
       "4  Arson/Arson006_x264.mp4"
      ]
     },
     "execution_count": 59,
     "metadata": {},
     "output_type": "execute_result"
    }
   ],
   "source": [
    "train_df.head(5)"
   ]
  },
  {
   "cell_type": "code",
   "execution_count": 60,
   "id": "ee199864",
   "metadata": {},
   "outputs": [],
   "source": [
    "train_df.to_csv(os.path.join(ANNOTATION_PATH,'Anomaly_Train.csv'), header=0, index=None)\n",
    "test_df.to_csv(os.path.join(ANNOTATION_PATH,'Anomaly_Test.csv'), header=0, index=None)"
   ]
  },
  {
   "cell_type": "code",
   "execution_count": null,
   "id": "ceed68b1",
   "metadata": {},
   "outputs": [],
   "source": []
  }
 ],
 "metadata": {
  "kernelspec": {
   "display_name": "Python 3 (ipykernel)",
   "language": "python",
   "name": "python3"
  },
  "language_info": {
   "codemirror_mode": {
    "name": "ipython",
    "version": 3
   },
   "file_extension": ".py",
   "mimetype": "text/x-python",
   "name": "python",
   "nbconvert_exporter": "python",
   "pygments_lexer": "ipython3",
   "version": "3.8.10"
  }
 },
 "nbformat": 4,
 "nbformat_minor": 5
}
