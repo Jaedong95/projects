{
 "cells": [
  {
   "cell_type": "code",
   "execution_count": 1,
   "id": "92f685d2",
   "metadata": {},
   "outputs": [],
   "source": [
    "import numpy as np\n",
    "import pandas as pd \n",
    "import os\n",
    "import sys\n",
    "import cv2 \n",
    "\n",
    "import os\n",
    "import datetime\n",
    "import copy\n",
    "import re\n",
    "import yaml\n",
    "import uuid\n",
    "import warnings\n",
    "import time\n",
    "import inspect\n",
    "import random"
   ]
  },
  {
   "cell_type": "code",
   "execution_count": 2,
   "id": "d3b86d4b",
   "metadata": {},
   "outputs": [],
   "source": [
    "DATA_PATH = '/home/ubuntu/modeling/UCF_CRIME/data'\n",
    "VIDEO_PATH = os.path.join(DATA_PATH, 'video')\n",
    "ANNOTATION_PATH = os.path.join(DATA_PATH, 'annotation')"
   ]
  },
  {
   "cell_type": "code",
   "execution_count": 3,
   "id": "9d833cd7",
   "metadata": {},
   "outputs": [],
   "source": [
    "columns = ['video_name']"
   ]
  },
  {
   "cell_type": "code",
   "execution_count": 4,
   "id": "9b605486",
   "metadata": {},
   "outputs": [],
   "source": [
    "def get_frames(video_name):\n",
    "    video = os.path.join(VIDEO_PATH, video_name)\n",
    "\n",
    "    cap = cv2.VideoCapture(video)\n",
    "    # fps 및 전체 프레임 개수 계산 \n",
    "    video_w, video_h = (int(cap.get(cv2.CAP_PROP_FRAME_WIDTH)), int(cap.get(cv2.CAP_PROP_FRAME_HEIGHT)))\n",
    "    total_frames = cap.get(cv2.CAP_PROP_FRAME_COUNT)\n",
    "    return total_frames"
   ]
  },
  {
   "cell_type": "code",
   "execution_count": 5,
   "id": "7282f862",
   "metadata": {},
   "outputs": [
    {
     "data": {
      "text/html": [
       "<div>\n",
       "<style scoped>\n",
       "    .dataframe tbody tr th:only-of-type {\n",
       "        vertical-align: middle;\n",
       "    }\n",
       "\n",
       "    .dataframe tbody tr th {\n",
       "        vertical-align: top;\n",
       "    }\n",
       "\n",
       "    .dataframe thead th {\n",
       "        text-align: right;\n",
       "    }\n",
       "</style>\n",
       "<table border=\"1\" class=\"dataframe\">\n",
       "  <thead>\n",
       "    <tr style=\"text-align: right;\">\n",
       "      <th></th>\n",
       "      <th>video_name</th>\n",
       "    </tr>\n",
       "  </thead>\n",
       "  <tbody>\n",
       "    <tr>\n",
       "      <th>0</th>\n",
       "      <td>Vandalism/Vandalism048_x264.mp4 7183</td>\n",
       "    </tr>\n",
       "    <tr>\n",
       "      <th>1</th>\n",
       "      <td>Training_Normal_Videos_Anomaly/Normal_Videos82...</td>\n",
       "    </tr>\n",
       "    <tr>\n",
       "      <th>2</th>\n",
       "      <td>Robbery/Robbery003_x264.mp4 984</td>\n",
       "    </tr>\n",
       "    <tr>\n",
       "      <th>3</th>\n",
       "      <td>Assault/Assault046_x264.mp4 952</td>\n",
       "    </tr>\n",
       "    <tr>\n",
       "      <th>4</th>\n",
       "      <td>Training_Normal_Videos_Anomaly/Normal_Videos57...</td>\n",
       "    </tr>\n",
       "    <tr>\n",
       "      <th>...</th>\n",
       "      <td>...</td>\n",
       "    </tr>\n",
       "    <tr>\n",
       "      <th>1605</th>\n",
       "      <td>Burglary/Burglary073_x264.mp4 2769</td>\n",
       "    </tr>\n",
       "    <tr>\n",
       "      <th>1606</th>\n",
       "      <td>Training_Normal_Videos_Anomaly/Normal_Videos05...</td>\n",
       "    </tr>\n",
       "    <tr>\n",
       "      <th>1607</th>\n",
       "      <td>Training_Normal_Videos_Anomaly/Normal_Videos24...</td>\n",
       "    </tr>\n",
       "    <tr>\n",
       "      <th>1608</th>\n",
       "      <td>Burglary/Burglary022_x264.mp4 2838</td>\n",
       "    </tr>\n",
       "    <tr>\n",
       "      <th>1609</th>\n",
       "      <td>Training_Normal_Videos_Anomaly/Normal_Videos75...</td>\n",
       "    </tr>\n",
       "  </tbody>\n",
       "</table>\n",
       "<p>1610 rows × 1 columns</p>\n",
       "</div>"
      ],
      "text/plain": [
       "                                             video_name\n",
       "0                 Vandalism/Vandalism048_x264.mp4 7183 \n",
       "1     Training_Normal_Videos_Anomaly/Normal_Videos82...\n",
       "2                      Robbery/Robbery003_x264.mp4 984 \n",
       "3                      Assault/Assault046_x264.mp4 952 \n",
       "4     Training_Normal_Videos_Anomaly/Normal_Videos57...\n",
       "...                                                 ...\n",
       "1605                Burglary/Burglary073_x264.mp4 2769 \n",
       "1606  Training_Normal_Videos_Anomaly/Normal_Videos05...\n",
       "1607  Training_Normal_Videos_Anomaly/Normal_Videos24...\n",
       "1608                Burglary/Burglary022_x264.mp4 2838 \n",
       "1609  Training_Normal_Videos_Anomaly/Normal_Videos75...\n",
       "\n",
       "[1610 rows x 1 columns]"
      ]
     },
     "execution_count": 5,
     "metadata": {},
     "output_type": "execute_result"
    }
   ],
   "source": [
    "train_df = pd.read_csv(os.path.join(ANNOTATION_PATH, 'Train_Annotation.txt'), header=None, names=columns)\n",
    "test_df = pd.read_csv(os.path.join(ANNOTATION_PATH, 'Test_Annotation.txt'), header=None, names=columns)\n",
    "\n",
    "train_df"
   ]
  },
  {
   "cell_type": "code",
   "execution_count": 6,
   "id": "a427369e",
   "metadata": {},
   "outputs": [],
   "source": [
    "anomal_list = ['Arson', 'Assault', 'Stealing', 'Training_Normal_Videos_Anomaly', 'Testing_Normal_Videos_Anomaly']\n",
    "\n",
    "new_tr_video = []\n",
    "new_te_video = []\n",
    "\n",
    "for data in train_df['video_name']:\n",
    "    ab_type, video_name = data.split('/')\n",
    "    if ab_type in anomal_list: \n",
    "        new_tr_video.append(ab_type + '/' + video_name)"
   ]
  },
  {
   "cell_type": "code",
   "execution_count": 7,
   "id": "c24b5cc8",
   "metadata": {},
   "outputs": [
    {
     "data": {
      "text/plain": [
       "(983, 167)"
      ]
     },
     "execution_count": 7,
     "metadata": {},
     "output_type": "execute_result"
    }
   ],
   "source": [
    "for data in test_df['video_name']:\n",
    "    ab_type, video_name = data.split('/')\n",
    "    new_video_name, new_video_frame = video_name.split()[0], video_name.split()[1]\n",
    "#     print(new_video_frame)\n",
    "    if ab_type in anomal_list: \n",
    "        new_te_video.append(ab_type + '/' + new_video_name + ' ' + new_video_frame)\n",
    "\n",
    "len(new_tr_video), len(new_te_video)"
   ]
  },
  {
   "cell_type": "code",
   "execution_count": 8,
   "id": "7b16bdd2",
   "metadata": {},
   "outputs": [],
   "source": [
    "new_train_df = pd.DataFrame(new_tr_video, columns=['video_name'])\n",
    "new_test_df = pd.DataFrame(new_te_video, columns=['video_name'])"
   ]
  },
  {
   "cell_type": "code",
   "execution_count": 9,
   "id": "cc9b3d7b",
   "metadata": {},
   "outputs": [],
   "source": [
    "def return_idx(ab_type):\n",
    "    if ab_type == 'Arson':\n",
    "        return 0\n",
    "    elif ab_type == 'Assault':\n",
    "        return 1 \n",
    "    elif ab_type == 'Stealing':\n",
    "        return 2 \n",
    "    elif ab_type == 'Training_Normal_Videos_Anomaly' or ab_type == 'Testing_Normal_Videos_Anomaly':\n",
    "        return 3 "
   ]
  },
  {
   "cell_type": "code",
   "execution_count": 10,
   "id": "2288b17d",
   "metadata": {},
   "outputs": [],
   "source": [
    "train_list = [] \n",
    "test_list = []"
   ]
  },
  {
   "cell_type": "code",
   "execution_count": 11,
   "id": "18e5717b",
   "metadata": {},
   "outputs": [],
   "source": [
    "for data in new_train_df['video_name']:\n",
    "    video, total_frame = os.path.join(VIDEO_PATH, data.split()[0]), data.split()[1]\n",
    "    # print(os.path.exists(video)) \n",
    "    if os.path.exists(video):\n",
    "        train_list.append(data.split()[0] + ' ' + total_frame)\n",
    "    else:\n",
    "        continue"
   ]
  },
  {
   "cell_type": "code",
   "execution_count": 12,
   "id": "6c488cd0",
   "metadata": {},
   "outputs": [],
   "source": [
    "for data in new_test_df['video_name']:\n",
    "    video, total_frame = os.path.join(VIDEO_PATH, data.split()[0]), data.split()[1]\n",
    "    # print(os.path.exists(video))   \n",
    "    if os.path.exists(video):\n",
    "        test_list.append(data.split()[0] + ' ' + total_frame)\n",
    "    else:\n",
    "        continue"
   ]
  },
  {
   "cell_type": "code",
   "execution_count": 13,
   "id": "c7449d4f",
   "metadata": {},
   "outputs": [
    {
     "data": {
      "text/plain": [
       "(749, 167)"
      ]
     },
     "execution_count": 13,
     "metadata": {},
     "output_type": "execute_result"
    }
   ],
   "source": [
    "len(train_list), len(test_list)"
   ]
  },
  {
   "cell_type": "code",
   "execution_count": 14,
   "id": "93a29ae3",
   "metadata": {},
   "outputs": [],
   "source": [
    "new_train_df = pd.DataFrame(train_list, columns=['video_name'])\n",
    "new_test_df = pd.DataFrame(test_list, columns=['video_name'])"
   ]
  },
  {
   "cell_type": "code",
   "execution_count": 19,
   "id": "34bb11dc",
   "metadata": {
    "scrolled": true
   },
   "outputs": [
    {
     "name": "stdout",
     "output_type": "stream",
     "text": [
      "Stealing/Stealing052_x264.mp4 3375\n",
      "Training_Normal_Videos_Anomaly/Normal_Videos292_x264.mp4 4302\n",
      "Training_Normal_Videos_Anomaly/Normal_Videos688_x264.mp4 78484\n"
     ]
    }
   ],
   "source": [
    "for data in new_train_df['video_name']:\n",
    "#     print(data.split()[1])\n",
    "    if data.split()[1] == '3375' or data.split()[1] == '4302' or data.split()[1] == '78484':\n",
    "        print(data)\n",
    "#         if int(get_frames(data.split()[0])) > 4305:\n",
    "#             print('error video :', data)\n",
    "#         print(int(get_frames(data.split()[0])))"
   ]
  },
  {
   "cell_type": "code",
   "execution_count": 16,
   "id": "22be7de1",
   "metadata": {},
   "outputs": [
    {
     "name": "stdout",
     "output_type": "stream",
     "text": [
      "4302\n"
     ]
    }
   ],
   "source": [
    "print(int(get_frames('Training_Normal_Videos_Anomaly/Normal_Videos292_x264.mp4')))"
   ]
  },
  {
   "cell_type": "code",
   "execution_count": null,
   "id": "12478e81",
   "metadata": {},
   "outputs": [],
   "source": []
  },
  {
   "cell_type": "code",
   "execution_count": 20,
   "id": "d95fc53d",
   "metadata": {},
   "outputs": [],
   "source": [
    "train_df = pd.read_csv(os.path.join(ANNOTATION_PATH, 'Anomaly_Train.lst'), header=None, names=columns)"
   ]
  },
  {
   "cell_type": "code",
   "execution_count": 25,
   "id": "4860e1d4",
   "metadata": {},
   "outputs": [
    {
     "data": {
      "text/plain": [
       "'0'"
      ]
     },
     "execution_count": 25,
     "metadata": {},
     "output_type": "execute_result"
    }
   ],
   "source": [
    "train_df['video_name'][0].split()[1]"
   ]
  },
  {
   "cell_type": "code",
   "execution_count": 29,
   "id": "59a9fb06",
   "metadata": {},
   "outputs": [
    {
     "name": "stdout",
     "output_type": "stream",
     "text": [
      "Stealing/Stealing052_x264.mp4 0 2\n",
      "Stealing/Stealing052_x264.mp4 16 2\n",
      "Stealing/Stealing052_x264.mp4 32 2\n",
      "Stealing/Stealing052_x264.mp4 48 2\n",
      "Stealing/Stealing052_x264.mp4 64 2\n",
      "Stealing/Stealing052_x264.mp4 80 2\n",
      "Stealing/Stealing052_x264.mp4 96 2\n",
      "Stealing/Stealing052_x264.mp4 112 2\n",
      "Stealing/Stealing052_x264.mp4 128 2\n",
      "Stealing/Stealing052_x264.mp4 144 2\n",
      "Stealing/Stealing052_x264.mp4 160 2\n",
      "Stealing/Stealing052_x264.mp4 176 2\n",
      "Stealing/Stealing052_x264.mp4 192 2\n",
      "Stealing/Stealing052_x264.mp4 208 2\n",
      "Stealing/Stealing052_x264.mp4 224 2\n",
      "Stealing/Stealing052_x264.mp4 240 2\n",
      "Stealing/Stealing052_x264.mp4 256 2\n",
      "Stealing/Stealing052_x264.mp4 272 2\n",
      "Stealing/Stealing052_x264.mp4 288 2\n",
      "Stealing/Stealing052_x264.mp4 304 2\n",
      "Stealing/Stealing052_x264.mp4 320 2\n",
      "Stealing/Stealing052_x264.mp4 336 2\n",
      "Stealing/Stealing052_x264.mp4 352 2\n",
      "Stealing/Stealing052_x264.mp4 368 2\n",
      "Stealing/Stealing052_x264.mp4 384 2\n",
      "Stealing/Stealing052_x264.mp4 400 2\n",
      "Stealing/Stealing052_x264.mp4 416 2\n",
      "Stealing/Stealing052_x264.mp4 432 2\n",
      "Stealing/Stealing052_x264.mp4 448 2\n",
      "Stealing/Stealing052_x264.mp4 464 2\n",
      "Stealing/Stealing052_x264.mp4 480 2\n",
      "Stealing/Stealing052_x264.mp4 496 2\n",
      "Stealing/Stealing052_x264.mp4 512 2\n",
      "Stealing/Stealing052_x264.mp4 528 2\n",
      "Stealing/Stealing052_x264.mp4 544 2\n",
      "Stealing/Stealing052_x264.mp4 560 2\n",
      "Stealing/Stealing052_x264.mp4 576 2\n",
      "Stealing/Stealing052_x264.mp4 592 2\n",
      "Stealing/Stealing052_x264.mp4 608 2\n",
      "Stealing/Stealing052_x264.mp4 624 2\n",
      "Stealing/Stealing052_x264.mp4 640 2\n",
      "Stealing/Stealing052_x264.mp4 656 2\n",
      "Stealing/Stealing052_x264.mp4 672 2\n",
      "Stealing/Stealing052_x264.mp4 688 2\n",
      "Stealing/Stealing052_x264.mp4 704 2\n",
      "Stealing/Stealing052_x264.mp4 720 2\n",
      "Stealing/Stealing052_x264.mp4 736 2\n",
      "Stealing/Stealing052_x264.mp4 752 2\n",
      "Stealing/Stealing052_x264.mp4 768 2\n",
      "Stealing/Stealing052_x264.mp4 784 2\n",
      "Stealing/Stealing052_x264.mp4 800 2\n",
      "Stealing/Stealing052_x264.mp4 816 2\n",
      "Stealing/Stealing052_x264.mp4 832 2\n",
      "Stealing/Stealing052_x264.mp4 848 2\n",
      "Stealing/Stealing052_x264.mp4 864 2\n",
      "Stealing/Stealing052_x264.mp4 880 2\n",
      "Stealing/Stealing052_x264.mp4 896 2\n",
      "Stealing/Stealing052_x264.mp4 912 2\n",
      "Stealing/Stealing052_x264.mp4 928 2\n",
      "Stealing/Stealing052_x264.mp4 944 2\n",
      "Stealing/Stealing052_x264.mp4 960 2\n",
      "Stealing/Stealing052_x264.mp4 976 2\n",
      "Stealing/Stealing052_x264.mp4 992 2\n",
      "Stealing/Stealing052_x264.mp4 1008 2\n",
      "Stealing/Stealing052_x264.mp4 1024 2\n",
      "Stealing/Stealing052_x264.mp4 1040 2\n",
      "Stealing/Stealing052_x264.mp4 1056 2\n",
      "Stealing/Stealing052_x264.mp4 1072 2\n",
      "Stealing/Stealing052_x264.mp4 1088 2\n",
      "Stealing/Stealing052_x264.mp4 1104 2\n",
      "Stealing/Stealing052_x264.mp4 1120 2\n",
      "Stealing/Stealing052_x264.mp4 1136 2\n",
      "Stealing/Stealing052_x264.mp4 1152 2\n",
      "Stealing/Stealing052_x264.mp4 1168 2\n",
      "Stealing/Stealing052_x264.mp4 1184 2\n",
      "Stealing/Stealing052_x264.mp4 1200 2\n",
      "Stealing/Stealing052_x264.mp4 1216 2\n",
      "Stealing/Stealing052_x264.mp4 1232 2\n",
      "Stealing/Stealing052_x264.mp4 1248 2\n",
      "Stealing/Stealing052_x264.mp4 1264 2\n",
      "Stealing/Stealing052_x264.mp4 1280 2\n",
      "Stealing/Stealing052_x264.mp4 1296 2\n",
      "Stealing/Stealing052_x264.mp4 1312 2\n",
      "Stealing/Stealing052_x264.mp4 1328 2\n",
      "Stealing/Stealing052_x264.mp4 1344 2\n",
      "Stealing/Stealing052_x264.mp4 1360 2\n",
      "Stealing/Stealing052_x264.mp4 1376 2\n",
      "Stealing/Stealing052_x264.mp4 1392 2\n",
      "Stealing/Stealing052_x264.mp4 1408 2\n",
      "Stealing/Stealing052_x264.mp4 1424 2\n",
      "Stealing/Stealing052_x264.mp4 1440 2\n",
      "Stealing/Stealing052_x264.mp4 1456 2\n",
      "Stealing/Stealing052_x264.mp4 1472 2\n",
      "Stealing/Stealing052_x264.mp4 1488 2\n",
      "Stealing/Stealing052_x264.mp4 1504 2\n",
      "Stealing/Stealing052_x264.mp4 1520 2\n",
      "Stealing/Stealing052_x264.mp4 1536 2\n",
      "Stealing/Stealing052_x264.mp4 1552 2\n",
      "Stealing/Stealing052_x264.mp4 1568 2\n",
      "Stealing/Stealing052_x264.mp4 1584 2\n",
      "Stealing/Stealing052_x264.mp4 1600 2\n",
      "Stealing/Stealing052_x264.mp4 1616 2\n",
      "Stealing/Stealing052_x264.mp4 1632 2\n",
      "Stealing/Stealing052_x264.mp4 1648 2\n",
      "Stealing/Stealing052_x264.mp4 1664 2\n",
      "Stealing/Stealing052_x264.mp4 1680 2\n",
      "Stealing/Stealing052_x264.mp4 1696 2\n",
      "Stealing/Stealing052_x264.mp4 1712 2\n",
      "Stealing/Stealing052_x264.mp4 1728 2\n",
      "Stealing/Stealing052_x264.mp4 1744 2\n",
      "Stealing/Stealing052_x264.mp4 1760 2\n",
      "Stealing/Stealing052_x264.mp4 1776 2\n",
      "Stealing/Stealing052_x264.mp4 1792 2\n",
      "Stealing/Stealing052_x264.mp4 1808 2\n",
      "Stealing/Stealing052_x264.mp4 1824 2\n",
      "Stealing/Stealing052_x264.mp4 1840 2\n",
      "Stealing/Stealing052_x264.mp4 1856 2\n",
      "Stealing/Stealing052_x264.mp4 1872 2\n",
      "Stealing/Stealing052_x264.mp4 1888 2\n",
      "Stealing/Stealing052_x264.mp4 1904 2\n",
      "Stealing/Stealing052_x264.mp4 1920 2\n",
      "Stealing/Stealing052_x264.mp4 1936 2\n",
      "Stealing/Stealing052_x264.mp4 1952 2\n",
      "Stealing/Stealing052_x264.mp4 1968 2\n",
      "Stealing/Stealing052_x264.mp4 1984 2\n",
      "Stealing/Stealing052_x264.mp4 2000 2\n",
      "Stealing/Stealing052_x264.mp4 2016 2\n",
      "Stealing/Stealing052_x264.mp4 2032 2\n",
      "Stealing/Stealing052_x264.mp4 2048 2\n",
      "Stealing/Stealing052_x264.mp4 2064 2\n",
      "Stealing/Stealing052_x264.mp4 2080 2\n",
      "Stealing/Stealing052_x264.mp4 2096 2\n",
      "Stealing/Stealing052_x264.mp4 2112 2\n",
      "Stealing/Stealing052_x264.mp4 2128 2\n",
      "Stealing/Stealing052_x264.mp4 2144 2\n",
      "Stealing/Stealing052_x264.mp4 2160 2\n",
      "Stealing/Stealing052_x264.mp4 2176 2\n",
      "Stealing/Stealing052_x264.mp4 2192 2\n",
      "Stealing/Stealing052_x264.mp4 2208 2\n",
      "Stealing/Stealing052_x264.mp4 2224 2\n",
      "Stealing/Stealing052_x264.mp4 2240 2\n",
      "Stealing/Stealing052_x264.mp4 2256 2\n",
      "Stealing/Stealing052_x264.mp4 2272 2\n",
      "Stealing/Stealing052_x264.mp4 2288 2\n",
      "Stealing/Stealing052_x264.mp4 2304 2\n",
      "Stealing/Stealing052_x264.mp4 2320 2\n",
      "Stealing/Stealing052_x264.mp4 2336 2\n",
      "Stealing/Stealing052_x264.mp4 2352 2\n",
      "Stealing/Stealing052_x264.mp4 2368 2\n",
      "Stealing/Stealing052_x264.mp4 2384 2\n",
      "Stealing/Stealing052_x264.mp4 2400 2\n",
      "Stealing/Stealing052_x264.mp4 2416 2\n",
      "Stealing/Stealing052_x264.mp4 2432 2\n",
      "Stealing/Stealing052_x264.mp4 2448 2\n",
      "Stealing/Stealing052_x264.mp4 2464 2\n",
      "Stealing/Stealing052_x264.mp4 2480 2\n",
      "Stealing/Stealing052_x264.mp4 2496 2\n",
      "Stealing/Stealing052_x264.mp4 2512 2\n",
      "Stealing/Stealing052_x264.mp4 2528 2\n",
      "Stealing/Stealing052_x264.mp4 2544 2\n",
      "Stealing/Stealing052_x264.mp4 2560 2\n",
      "Stealing/Stealing052_x264.mp4 2576 2\n",
      "Stealing/Stealing052_x264.mp4 2592 2\n",
      "Stealing/Stealing052_x264.mp4 2608 2\n",
      "Stealing/Stealing052_x264.mp4 2624 2\n",
      "Stealing/Stealing052_x264.mp4 2640 2\n",
      "Stealing/Stealing052_x264.mp4 2656 2\n",
      "Stealing/Stealing052_x264.mp4 2672 2\n",
      "Stealing/Stealing052_x264.mp4 2688 2\n",
      "Stealing/Stealing052_x264.mp4 2704 2\n",
      "Stealing/Stealing052_x264.mp4 2720 2\n",
      "Stealing/Stealing052_x264.mp4 2736 2\n",
      "Stealing/Stealing052_x264.mp4 2752 2\n",
      "Stealing/Stealing052_x264.mp4 2768 2\n",
      "Stealing/Stealing052_x264.mp4 2784 2\n",
      "Stealing/Stealing052_x264.mp4 2800 2\n",
      "Stealing/Stealing052_x264.mp4 2816 2\n",
      "Stealing/Stealing052_x264.mp4 2832 2\n",
      "Stealing/Stealing052_x264.mp4 2848 2\n",
      "Stealing/Stealing052_x264.mp4 2864 2\n",
      "Stealing/Stealing052_x264.mp4 2880 2\n",
      "Stealing/Stealing052_x264.mp4 2896 2\n",
      "Stealing/Stealing052_x264.mp4 2912 2\n",
      "Stealing/Stealing052_x264.mp4 2928 2\n",
      "Stealing/Stealing052_x264.mp4 2944 2\n",
      "Stealing/Stealing052_x264.mp4 2960 2\n",
      "Stealing/Stealing052_x264.mp4 2976 2\n",
      "Stealing/Stealing052_x264.mp4 2992 2\n",
      "Stealing/Stealing052_x264.mp4 3008 2\n",
      "Stealing/Stealing052_x264.mp4 3024 2\n",
      "Stealing/Stealing052_x264.mp4 3040 2\n",
      "Stealing/Stealing052_x264.mp4 3056 2\n",
      "Stealing/Stealing052_x264.mp4 3072 2\n",
      "Stealing/Stealing052_x264.mp4 3088 2\n",
      "Stealing/Stealing052_x264.mp4 3104 2\n",
      "Stealing/Stealing052_x264.mp4 3120 2\n",
      "Stealing/Stealing052_x264.mp4 3136 2\n",
      "Stealing/Stealing052_x264.mp4 3152 2\n",
      "Stealing/Stealing052_x264.mp4 3168 2\n",
      "Stealing/Stealing052_x264.mp4 3184 2\n",
      "Stealing/Stealing052_x264.mp4 3200 2\n",
      "Stealing/Stealing052_x264.mp4 3216 2\n",
      "Stealing/Stealing052_x264.mp4 3232 2\n",
      "Stealing/Stealing052_x264.mp4 3248 2\n",
      "Stealing/Stealing052_x264.mp4 3264 2\n",
      "Stealing/Stealing052_x264.mp4 3280 2\n",
      "Stealing/Stealing052_x264.mp4 3296 2\n",
      "Stealing/Stealing052_x264.mp4 3312 2\n",
      "Stealing/Stealing052_x264.mp4 3328 2\n",
      "Stealing/Stealing052_x264.mp4 3344 2\n",
      "Stealing/Stealing052_x264.mp4 3360 2\n",
      "Stealing/Stealing052_x264.mp4 3376 2\n",
      "Stealing/Stealing052_x264.mp4 3392 2\n"
     ]
    }
   ],
   "source": [
    "for data in train_df['video_name']:\n",
    "    if data.split()[0] == 'Stealing/Stealing052_x264.mp4':\n",
    "        print(data)"
   ]
  },
  {
   "cell_type": "code",
   "execution_count": 29,
   "id": "ac601ca9",
   "metadata": {},
   "outputs": [
    {
     "data": {
      "text/plain": [
       "'Training_Normal_Videos_Anomaly/Normal_Videos757_x264.mp4'"
      ]
     },
     "execution_count": 29,
     "metadata": {},
     "output_type": "execute_result"
    }
   ],
   "source": [
    "data.split()[0]"
   ]
  },
  {
   "cell_type": "code",
   "execution_count": 32,
   "id": "b4d5d401",
   "metadata": {},
   "outputs": [
    {
     "name": "stdout",
     "output_type": "stream",
     "text": [
      "5899\n",
      "7536\n",
      "5820\n",
      "4938\n",
      "9000\n",
      "4755\n",
      "7466\n",
      "8994\n",
      "6379\n",
      "7165\n",
      "10041\n",
      "4500\n",
      "6269\n",
      "11858\n",
      "7153\n",
      "8773\n",
      "6603\n",
      "6608\n",
      "7174\n",
      "6775\n",
      "5010\n",
      "10305\n",
      "5395\n",
      "6859\n",
      "9453\n",
      "8686\n",
      "7315\n",
      "6077\n",
      "5023\n",
      "4427\n",
      "5690\n",
      "5072\n",
      "6613\n",
      "6224\n",
      "4575\n",
      "5053\n",
      "4813\n",
      "4443\n",
      "11591\n",
      "4506\n",
      "5004\n",
      "8484\n",
      "8999\n",
      "6698\n",
      "4309\n",
      "8328\n",
      "4712\n",
      "8712\n",
      "4599\n",
      "10662\n",
      "7034\n",
      "5495\n",
      "8010\n",
      "11505\n",
      "5340\n",
      "11312\n",
      "5459\n",
      "7375\n",
      "7498\n",
      "8010\n",
      "6949\n",
      "6000\n",
      "10326\n",
      "9301\n",
      "5399\n",
      "6790\n",
      "6240\n",
      "4330\n",
      "4746\n",
      "8400\n",
      "4476\n",
      "9264\n",
      "7567\n",
      "4378\n",
      "4746\n",
      "5571\n",
      "5873\n",
      "11673\n",
      "4475\n",
      "5239\n",
      "8577\n",
      "5691\n",
      "5485\n",
      "8693\n",
      "4647\n",
      "5400\n",
      "8767\n",
      "5283\n",
      "5537\n",
      "4439\n",
      "5379\n",
      "4599\n",
      "11227\n",
      "8997\n",
      "9914\n",
      "10230\n",
      "9011\n",
      "11614\n",
      "6654\n",
      "4339\n",
      "10379\n",
      "7733\n",
      "4428\n",
      "8967\n",
      "10919\n",
      "5624\n",
      "11154\n",
      "7587\n",
      "4423\n",
      "4323\n",
      "5129\n",
      "8991\n",
      "9251\n",
      "9000\n",
      "8942\n",
      "5615\n",
      "4524\n",
      "8983\n",
      "5739\n",
      "9625\n",
      "7178\n",
      "5939\n",
      "4531\n",
      "4486\n",
      "4766\n",
      "8201\n",
      "5459\n",
      "5610\n",
      "5880\n",
      "11259\n",
      "8989\n",
      "6337\n"
     ]
    }
   ],
   "source": [
    "for data in train_list['video_name']:\n",
    "    if data.split()[1] == '4305':\n",
    "#         if int(get_frames(data.split()[0])) > 4305:\n",
    "#             print('error video :', data)\n",
    "        print(int(get_frames(data.split()[0])))"
   ]
  },
  {
   "cell_type": "code",
   "execution_count": 13,
   "id": "268efd22",
   "metadata": {},
   "outputs": [
    {
     "data": {
      "text/plain": [
       "1657.0"
      ]
     },
     "execution_count": 13,
     "metadata": {},
     "output_type": "execute_result"
    }
   ],
   "source": [
    "get_frames(os.path.join(VIDEO_PATH, new_tr_video[0].split()[0]))"
   ]
  },
  {
   "cell_type": "code",
   "execution_count": null,
   "id": "64bd4654",
   "metadata": {},
   "outputs": [],
   "source": []
  }
 ],
 "metadata": {
  "kernelspec": {
   "display_name": "Python 3",
   "language": "python",
   "name": "python3"
  },
  "language_info": {
   "codemirror_mode": {
    "name": "ipython",
    "version": 3
   },
   "file_extension": ".py",
   "mimetype": "text/x-python",
   "name": "python",
   "nbconvert_exporter": "python",
   "pygments_lexer": "ipython3",
   "version": "3.6.9"
  }
 },
 "nbformat": 4,
 "nbformat_minor": 5
}
